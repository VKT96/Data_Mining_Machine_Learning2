{
 "cells": [
  {
   "cell_type": "markdown",
   "metadata": {
    "colab_type": "text",
    "id": "YkATW7yYme5J"
   },
   "source": [
    "## Imports and Drive Mounting"
   ]
  },
  {
   "cell_type": "code",
   "execution_count": 1,
   "metadata": {
    "colab": {
     "base_uri": "https://localhost:8080/",
     "height": 88
    },
    "colab_type": "code",
    "executionInfo": {
     "elapsed": 4176,
     "status": "ok",
     "timestamp": 1595456705856,
     "user": {
      "displayName": "Amandeep Singh",
      "photoUrl": "https://lh3.googleusercontent.com/a-/AOh14Gj1Ov_iaK_My4H8joP90ErnFLBHgHMuNMDWgiicH3M=s64",
      "userId": "15449713203337175881"
     },
     "user_tz": -120
    },
    "id": "WkHkRjNcZHP7",
    "outputId": "c23fa735-fb28-4a01-b106-971e4fb57d1e"
   },
   "outputs": [
    {
     "name": "stderr",
     "output_type": "stream",
     "text": [
      "Using TensorFlow backend.\n",
      "/usr/local/lib/python3.6/dist-packages/statsmodels/tools/_testing.py:19: FutureWarning: pandas.util.testing is deprecated. Use the functions in the public API at pandas.testing instead.\n",
      "  import pandas.util.testing as tm\n"
     ]
    }
   ],
   "source": [
    "import numpy as np\n",
    "import pandas as pd\n",
    "from PIL import Image\n",
    "import os\n",
    "import glob\n",
    "import cv2\n",
    "import random\n",
    "import shutil\n",
    "from sklearn.model_selection import train_test_split\n",
    "import matplotlib.pyplot as plt\n",
    "import gc\n",
    "import keras\n",
    "from keras import optimizers\n",
    "from keras.preprocessing.image import ImageDataGenerator\n",
    "from keras.preprocessing.image import img_to_array, load_img\n",
    "import tqdm.notebook as tq\n",
    "from sklearn.metrics import accuracy_score\n",
    "import tensorflow as tf\n",
    "from google.colab import output\n",
    "from keras.utils import to_categorical\n",
    "from keras.models import Sequential\n",
    "from keras.layers import Conv2D, MaxPool2D, Dense, Flatten, Dropout\n",
    "import seaborn as sns\n",
    "import matplotlib.pyplot as plt\n",
    "sns.set()"
   ]
  },
  {
   "cell_type": "code",
   "execution_count": null,
   "metadata": {
    "colab": {
     "base_uri": "https://localhost:8080/",
     "height": 122
    },
    "colab_type": "code",
    "executionInfo": {
     "elapsed": 29768,
     "status": "ok",
     "timestamp": 1595456734445,
     "user": {
      "displayName": "Amandeep Singh",
      "photoUrl": "https://lh3.googleusercontent.com/a-/AOh14Gj1Ov_iaK_My4H8joP90ErnFLBHgHMuNMDWgiicH3M=s64",
      "userId": "15449713203337175881"
     },
     "user_tz": -120
    },
    "id": "1w7FjbYHWxn6",
    "outputId": "118cd493-8828-4422-e6f4-c0d635ddb7b7"
   },
   "outputs": [],
   "source": [
    "from google.colab import drive\n",
    "drive.mount('/content/drive')"
   ]
  },
  {
   "cell_type": "code",
   "execution_count": 3,
   "metadata": {
    "colab": {},
    "colab_type": "code",
    "executionInfo": {
     "elapsed": 1092,
     "status": "ok",
     "timestamp": 1595456835144,
     "user": {
      "displayName": "Amandeep Singh",
      "photoUrl": "https://lh3.googleusercontent.com/a-/AOh14Gj1Ov_iaK_My4H8joP90ErnFLBHgHMuNMDWgiicH3M=s64",
      "userId": "15449713203337175881"
     },
     "user_tz": -120
    },
    "id": "PShviQfYV0Q2"
   },
   "outputs": [],
   "source": [
    "traffic_sign_labels = {0: '20 km/h',\n",
    "1:'30 km/h',\n",
    "2:'50 km/h',\n",
    "3:'60 km/h',\n",
    "4:'70 km/h',\n",
    "5:'80 km/h',\n",
    "6:'80 km/h end',\n",
    "7:'100 km/h',\n",
    "8:'120 km/h',\n",
    "9:'No overtaking',\n",
    "10:'No overtaking for trucks',\n",
    "11:'Crossroad with secondary way',\n",
    "12:'Main road',\n",
    "13:'Give way',\n",
    "14:'Stop',\n",
    "15:'Road up',\n",
    "16:'Road - trucks',\n",
    "17:'No Entry',\n",
    "18:'Other dangerous',\n",
    "19:'Turn left',\n",
    "20:'Turn right',\n",
    "21:'Winding road',\n",
    "22:'Hollow road',\n",
    "23:'Slippery road',\n",
    "24:'Narrowing road',\n",
    "25:'Roadwork',\n",
    "26:'Traffic light',\n",
    "27:'Pedestrian',\n",
    "28:'Children',\n",
    "29:'Cycle',\n",
    "30:'Snow',\n",
    "31:'Deer',\n",
    "32:'End of the limits',\n",
    "33:'Only right',\n",
    "34:'Only left',\n",
    "35:'Only straight',\n",
    "36:'Only straight and right',\n",
    "37:'Only straight and left',\n",
    "38:'Take right',\n",
    "39:'Take left',\n",
    "40:'Circle crossroad',\n",
    "41:'End of overtaking limit',\n",
    "42:'End of overtaking limit for track'\n",
    "}"
   ]
  },
  {
   "cell_type": "code",
   "execution_count": 4,
   "metadata": {
    "colab": {
     "base_uri": "https://localhost:8080/",
     "height": 119
    },
    "colab_type": "code",
    "executionInfo": {
     "elapsed": 593,
     "status": "ok",
     "timestamp": 1595456835419,
     "user": {
      "displayName": "Amandeep Singh",
      "photoUrl": "https://lh3.googleusercontent.com/a-/AOh14Gj1Ov_iaK_My4H8joP90ErnFLBHgHMuNMDWgiicH3M=s64",
      "userId": "15449713203337175881"
     },
     "user_tz": -120
    },
    "id": "yKy_ZsHedP8m",
    "outputId": "84d89c1a-e38c-4012-bea4-54557699cf3b"
   },
   "outputs": [
    {
     "data": {
      "text/plain": [
       "0    20 km/h\n",
       "1    30 km/h\n",
       "2    50 km/h\n",
       "3    60 km/h\n",
       "4    70 km/h\n",
       "dtype: object"
      ]
     },
     "execution_count": 4,
     "metadata": {
      "tags": []
     },
     "output_type": "execute_result"
    }
   ],
   "source": [
    "traffic_sign_labels_series = pd.Series(traffic_sign_labels)\n",
    "traffic_sign_labels_series.head()"
   ]
  },
  {
   "cell_type": "code",
   "execution_count": 6,
   "metadata": {
    "colab": {},
    "colab_type": "code",
    "executionInfo": {
     "elapsed": 1041,
     "status": "ok",
     "timestamp": 1595456846456,
     "user": {
      "displayName": "Amandeep Singh",
      "photoUrl": "https://lh3.googleusercontent.com/a-/AOh14Gj1Ov_iaK_My4H8joP90ErnFLBHgHMuNMDWgiicH3M=s64",
      "userId": "15449713203337175881"
     },
     "user_tz": -120
    },
    "id": "V2IzB5zXdP_1"
   },
   "outputs": [],
   "source": [
    "traffic_class_list = [\"Class00\", \"Class01\", \"Class02\", \"Class03\", \"Class04\", \"Class05\", \"Class06\", \"Class07\", \"Class08\", \"Class09\", \n",
    " \"Class10\", \"Class11\", \"Class12\", \"Class13\", \"Class14\", \"Class15\", \"Class16\", \"Class17\", \"Class18\", \"Class19\", \n",
    " \"Class20\", \"Class21\", \"Class22\", \"Class23\", \"Class24\", \"Class25\", \"Class26\", \"Class27\", \"Class28\", \"Class29\", \n",
    " \"Class30\", \"Class31\", \"Class32\", \"Class33\", \"Class34\", \"Class35\", \"Class36\", \"Class37\", \"Class38\", \"Class39\", \n",
    " \"Class40\", \"Class41\", \"Class42\"]"
   ]
  },
  {
   "cell_type": "code",
   "execution_count": 7,
   "metadata": {
    "colab": {
     "base_uri": "https://localhost:8080/",
     "height": 119
    },
    "colab_type": "code",
    "executionInfo": {
     "elapsed": 964,
     "status": "ok",
     "timestamp": 1595456849127,
     "user": {
      "displayName": "Amandeep Singh",
      "photoUrl": "https://lh3.googleusercontent.com/a-/AOh14Gj1Ov_iaK_My4H8joP90ErnFLBHgHMuNMDWgiicH3M=s64",
      "userId": "15449713203337175881"
     },
     "user_tz": -120
    },
    "id": "QB6zOLG-dOMT",
    "outputId": "c153c7b3-0c6c-488d-dee4-ed126e7c4106"
   },
   "outputs": [
    {
     "data": {
      "text/plain": [
       "0    Class00\n",
       "1    Class01\n",
       "2    Class02\n",
       "3    Class03\n",
       "4    Class04\n",
       "dtype: object"
      ]
     },
     "execution_count": 7,
     "metadata": {
      "tags": []
     },
     "output_type": "execute_result"
    }
   ],
   "source": [
    "traffic_class_series = pd.Series(traffic_class_list)\n",
    "traffic_class_series.head()"
   ]
  },
  {
   "cell_type": "code",
   "execution_count": 8,
   "metadata": {
    "colab": {
     "base_uri": "https://localhost:8080/",
     "height": 204
    },
    "colab_type": "code",
    "executionInfo": {
     "elapsed": 985,
     "status": "ok",
     "timestamp": 1595456850829,
     "user": {
      "displayName": "Amandeep Singh",
      "photoUrl": "https://lh3.googleusercontent.com/a-/AOh14Gj1Ov_iaK_My4H8joP90ErnFLBHgHMuNMDWgiicH3M=s64",
      "userId": "15449713203337175881"
     },
     "user_tz": -120
    },
    "id": "JByr6DMjdOq_",
    "outputId": "5978b54a-e642-4eea-eea0-d04c31ef8c3d"
   },
   "outputs": [
    {
     "data": {
      "text/html": [
       "<div>\n",
       "<style scoped>\n",
       "    .dataframe tbody tr th:only-of-type {\n",
       "        vertical-align: middle;\n",
       "    }\n",
       "\n",
       "    .dataframe tbody tr th {\n",
       "        vertical-align: top;\n",
       "    }\n",
       "\n",
       "    .dataframe thead th {\n",
       "        text-align: right;\n",
       "    }\n",
       "</style>\n",
       "<table border=\"1\" class=\"dataframe\">\n",
       "  <thead>\n",
       "    <tr style=\"text-align: right;\">\n",
       "      <th></th>\n",
       "      <th>Class_Name_Index</th>\n",
       "      <th>Original_Class_Names</th>\n",
       "      <th>New_Class_Names</th>\n",
       "    </tr>\n",
       "  </thead>\n",
       "  <tbody>\n",
       "    <tr>\n",
       "      <th>0</th>\n",
       "      <td>0</td>\n",
       "      <td>20 km/h</td>\n",
       "      <td>Class00</td>\n",
       "    </tr>\n",
       "    <tr>\n",
       "      <th>1</th>\n",
       "      <td>1</td>\n",
       "      <td>30 km/h</td>\n",
       "      <td>Class01</td>\n",
       "    </tr>\n",
       "    <tr>\n",
       "      <th>2</th>\n",
       "      <td>2</td>\n",
       "      <td>50 km/h</td>\n",
       "      <td>Class02</td>\n",
       "    </tr>\n",
       "    <tr>\n",
       "      <th>3</th>\n",
       "      <td>3</td>\n",
       "      <td>60 km/h</td>\n",
       "      <td>Class03</td>\n",
       "    </tr>\n",
       "    <tr>\n",
       "      <th>4</th>\n",
       "      <td>4</td>\n",
       "      <td>70 km/h</td>\n",
       "      <td>Class04</td>\n",
       "    </tr>\n",
       "  </tbody>\n",
       "</table>\n",
       "</div>"
      ],
      "text/plain": [
       "   Class_Name_Index Original_Class_Names New_Class_Names\n",
       "0                 0              20 km/h         Class00\n",
       "1                 1              30 km/h         Class01\n",
       "2                 2              50 km/h         Class02\n",
       "3                 3              60 km/h         Class03\n",
       "4                 4              70 km/h         Class04"
      ]
     },
     "execution_count": 8,
     "metadata": {
      "tags": []
     },
     "output_type": "execute_result"
    }
   ],
   "source": [
    "traffic_sign_labels_df = pd.concat([traffic_sign_labels_series, \n",
    "                                    traffic_class_series], \n",
    "                                   axis=1)\n",
    "traffic_sign_labels_df.reset_index(inplace=True)\n",
    "traffic_sign_labels_df.rename(columns = {0:'Original_Class_Names', \n",
    "                                         1: 'New_Class_Names',\n",
    "                                         'index': 'Class_Name_Index'}, \n",
    "                              inplace = True)\n",
    "\n",
    "traffic_sign_labels_df.head()"
   ]
  },
  {
   "cell_type": "code",
   "execution_count": 10,
   "metadata": {
    "colab": {},
    "colab_type": "code",
    "executionInfo": {
     "elapsed": 954,
     "status": "ok",
     "timestamp": 1595456906923,
     "user": {
      "displayName": "Amandeep Singh",
      "photoUrl": "https://lh3.googleusercontent.com/a-/AOh14Gj1Ov_iaK_My4H8joP90ErnFLBHgHMuNMDWgiicH3M=s64",
      "userId": "15449713203337175881"
     },
     "user_tz": -120
    },
    "id": "GYHvAwXCdPCR"
   },
   "outputs": [],
   "source": [
    "new_dict = traffic_sign_labels_df['New_Class_Names'].to_dict()"
   ]
  },
  {
   "cell_type": "code",
   "execution_count": 11,
   "metadata": {
    "colab": {
     "base_uri": "https://localhost:8080/",
     "height": 748
    },
    "colab_type": "code",
    "executionInfo": {
     "elapsed": 980,
     "status": "ok",
     "timestamp": 1595456912428,
     "user": {
      "displayName": "Amandeep Singh",
      "photoUrl": "https://lh3.googleusercontent.com/a-/AOh14Gj1Ov_iaK_My4H8joP90ErnFLBHgHMuNMDWgiicH3M=s64",
      "userId": "15449713203337175881"
     },
     "user_tz": -120
    },
    "id": "TlA3yjokdOyX",
    "outputId": "8af35cc6-76c4-4be0-d556-5e4311296f35"
   },
   "outputs": [
    {
     "data": {
      "text/plain": [
       "{0: 'Class00',\n",
       " 1: 'Class01',\n",
       " 2: 'Class02',\n",
       " 3: 'Class03',\n",
       " 4: 'Class04',\n",
       " 5: 'Class05',\n",
       " 6: 'Class06',\n",
       " 7: 'Class07',\n",
       " 8: 'Class08',\n",
       " 9: 'Class09',\n",
       " 10: 'Class10',\n",
       " 11: 'Class11',\n",
       " 12: 'Class12',\n",
       " 13: 'Class13',\n",
       " 14: 'Class14',\n",
       " 15: 'Class15',\n",
       " 16: 'Class16',\n",
       " 17: 'Class17',\n",
       " 18: 'Class18',\n",
       " 19: 'Class19',\n",
       " 20: 'Class20',\n",
       " 21: 'Class21',\n",
       " 22: 'Class22',\n",
       " 23: 'Class23',\n",
       " 24: 'Class24',\n",
       " 25: 'Class25',\n",
       " 26: 'Class26',\n",
       " 27: 'Class27',\n",
       " 28: 'Class28',\n",
       " 29: 'Class29',\n",
       " 30: 'Class30',\n",
       " 31: 'Class31',\n",
       " 32: 'Class32',\n",
       " 33: 'Class33',\n",
       " 34: 'Class34',\n",
       " 35: 'Class35',\n",
       " 36: 'Class36',\n",
       " 37: 'Class37',\n",
       " 38: 'Class38',\n",
       " 39: 'Class39',\n",
       " 40: 'Class40',\n",
       " 41: 'Class41',\n",
       " 42: 'Class42'}"
      ]
     },
     "execution_count": 11,
     "metadata": {
      "tags": []
     },
     "output_type": "execute_result"
    }
   ],
   "source": [
    "new_dict"
   ]
  },
  {
   "cell_type": "code",
   "execution_count": null,
   "metadata": {
    "colab": {},
    "colab_type": "code",
    "id": "AqHKafozdOnb"
   },
   "outputs": [],
   "source": []
  },
  {
   "cell_type": "code",
   "execution_count": null,
   "metadata": {
    "colab": {},
    "colab_type": "code",
    "id": "2J9diG2pdN_Z"
   },
   "outputs": [],
   "source": []
  },
  {
   "cell_type": "code",
   "execution_count": 12,
   "metadata": {
    "colab": {
     "base_uri": "https://localhost:8080/",
     "height": 34
    },
    "colab_type": "code",
    "executionInfo": {
     "elapsed": 1641,
     "status": "ok",
     "timestamp": 1595456921781,
     "user": {
      "displayName": "Amandeep Singh",
      "photoUrl": "https://lh3.googleusercontent.com/a-/AOh14Gj1Ov_iaK_My4H8joP90ErnFLBHgHMuNMDWgiicH3M=s64",
      "userId": "15449713203337175881"
     },
     "user_tz": -120
    },
    "id": "-sfjx7O7khKT",
    "outputId": "f5df464c-22dd-4285-be06-9c7dac6cb649"
   },
   "outputs": [
    {
     "name": "stdout",
     "output_type": "stream",
     "text": [
      "/content/drive/My Drive/Colab Notebooks/DMML2/KaggleData\n"
     ]
    }
   ],
   "source": [
    "# Changing working directory\n",
    "\n",
    "%cd /content/drive/My Drive/Colab Notebooks/DMML2/KaggleData"
   ]
  },
  {
   "cell_type": "code",
   "execution_count": 37,
   "metadata": {
    "colab": {},
    "colab_type": "code",
    "executionInfo": {
     "elapsed": 858,
     "status": "ok",
     "timestamp": 1595459141227,
     "user": {
      "displayName": "Amandeep Singh",
      "photoUrl": "https://lh3.googleusercontent.com/a-/AOh14Gj1Ov_iaK_My4H8joP90ErnFLBHgHMuNMDWgiicH3M=s64",
      "userId": "15449713203337175881"
     },
     "user_tz": -120
    },
    "id": "KCafy6Y5YQXg"
   },
   "outputs": [],
   "source": [
    "# Paths and parameters.\n",
    "\n",
    "train_data_path = '../NumpyArrays/Cells.npy'\n",
    "train_label_path = '../NumpyArrays/Labels.npy'\n",
    "test_data_path = '../NumpyArrays/Cells_test.npy'\n",
    "test_label_path = '../NumpyArrays/Labels_test.npy'\n",
    "test_blur3_path = '../NumpyArrays/Cells_test_blur3.npy'\n",
    "test_blur5_path = '../NumpyArrays/Cells_test_blur5.npy'\n",
    "test_blur7_path = '../NumpyArrays/Cells_test_blur7.npy'\n",
    "visualization_path = '/content/drive/My Drive/Colab Notebooks/DMML2/Visualisations'\n",
    "\n",
    "height = 30\n",
    "width = 30\n",
    "channels = 3\n",
    "classes = 43\n",
    "n_inputs = height*width*channels"
   ]
  },
  {
   "cell_type": "code",
   "execution_count": 14,
   "metadata": {
    "colab": {},
    "colab_type": "code",
    "executionInfo": {
     "elapsed": 10808,
     "status": "ok",
     "timestamp": 1595456934844,
     "user": {
      "displayName": "Amandeep Singh",
      "photoUrl": "https://lh3.googleusercontent.com/a-/AOh14Gj1Ov_iaK_My4H8joP90ErnFLBHgHMuNMDWgiicH3M=s64",
      "userId": "15449713203337175881"
     },
     "user_tz": -120
    },
    "id": "OAfArDd48EFc"
   },
   "outputs": [],
   "source": [
    "# Loading Train Data.\n",
    "\n",
    "Cells = np.load(train_data_path)\n",
    "Labels = np.load(train_label_path)"
   ]
  },
  {
   "cell_type": "code",
   "execution_count": 15,
   "metadata": {
    "colab": {},
    "colab_type": "code",
    "executionInfo": {
     "elapsed": 10233,
     "status": "ok",
     "timestamp": 1595456934851,
     "user": {
      "displayName": "Amandeep Singh",
      "photoUrl": "https://lh3.googleusercontent.com/a-/AOh14Gj1Ov_iaK_My4H8joP90ErnFLBHgHMuNMDWgiicH3M=s64",
      "userId": "15449713203337175881"
     },
     "user_tz": -120
    },
    "id": "99x8i-t6eQCw"
   },
   "outputs": [],
   "source": [
    "# Randomize the order of the input images\n",
    "\n",
    "s = np.arange(Cells.shape[0])\n",
    "np.random.seed(43)\n",
    "np.random.shuffle(s)\n",
    "Cells = Cells[s]\n",
    "labels = Labels[s]"
   ]
  },
  {
   "cell_type": "code",
   "execution_count": 16,
   "metadata": {
    "colab": {},
    "colab_type": "code",
    "executionInfo": {
     "elapsed": 10206,
     "status": "ok",
     "timestamp": 1595456935773,
     "user": {
      "displayName": "Amandeep Singh",
      "photoUrl": "https://lh3.googleusercontent.com/a-/AOh14Gj1Ov_iaK_My4H8joP90ErnFLBHgHMuNMDWgiicH3M=s64",
      "userId": "15449713203337175881"
     },
     "user_tz": -120
    },
    "id": "VKJzKx1_hr0A"
   },
   "outputs": [],
   "source": [
    "# Spliting the images into train and validation sets\n",
    "(X_train, X_val) = Cells[(int)(0.2*len(labels)):], Cells[:(int)(0.2*len(labels))]\n",
    "\n",
    "X_train = X_train.astype('float32')/255 \n",
    "X_val = X_val.astype('float32')/255\n",
    "\n",
    "(y_train, y_val) = labels[(int)(0.2*len(labels)):], labels[:(int)(0.2*len(labels))]"
   ]
  },
  {
   "cell_type": "code",
   "execution_count": 17,
   "metadata": {
    "colab": {},
    "colab_type": "code",
    "executionInfo": {
     "elapsed": 8369,
     "status": "ok",
     "timestamp": 1595456935775,
     "user": {
      "displayName": "Amandeep Singh",
      "photoUrl": "https://lh3.googleusercontent.com/a-/AOh14Gj1Ov_iaK_My4H8joP90ErnFLBHgHMuNMDWgiicH3M=s64",
      "userId": "15449713203337175881"
     },
     "user_tz": -120
    },
    "id": "mLWdEHEph3Ig"
   },
   "outputs": [],
   "source": [
    "# Using one hote encoding for the train and validation labels\n",
    "\n",
    "y_train = to_categorical(y_train, 43)\n",
    "y_val = to_categorical(y_val, 43)"
   ]
  },
  {
   "cell_type": "markdown",
   "metadata": {
    "colab_type": "text",
    "id": "PRF1KNJaFEuR"
   },
   "source": [
    "# Model"
   ]
  },
  {
   "cell_type": "code",
   "execution_count": 18,
   "metadata": {
    "colab": {
     "base_uri": "https://localhost:8080/",
     "height": 71
    },
    "colab_type": "code",
    "executionInfo": {
     "elapsed": 13380,
     "status": "ok",
     "timestamp": 1595456953254,
     "user": {
      "displayName": "Amandeep Singh",
      "photoUrl": "https://lh3.googleusercontent.com/a-/AOh14Gj1Ov_iaK_My4H8joP90ErnFLBHgHMuNMDWgiicH3M=s64",
      "userId": "15449713203337175881"
     },
     "user_tz": -120
    },
    "id": "Ij36phpRJKzq",
    "outputId": "03413ad3-f57e-4e90-da08-7d977be2fdc8"
   },
   "outputs": [
    {
     "name": "stdout",
     "output_type": "stream",
     "text": [
      "Downloading data from https://storage.googleapis.com/tensorflow/keras-applications/inception_v3/inception_v3_weights_tf_dim_ordering_tf_kernels_notop.h5\n",
      "87916544/87910968 [==============================] - 0s 0us/step\n"
     ]
    }
   ],
   "source": [
    "from tensorflow.keras import layers\n",
    "from tensorflow.keras import Model\n",
    "from tensorflow.keras.applications.inception_v3 import InceptionV3\n",
    "from tensorflow.keras.optimizers import RMSprop\n",
    "\n",
    "#Load the InceptionV3 model\n",
    "inception_model = InceptionV3(input_shape = (75, 75, 3), \n",
    "                        include_top = False, \n",
    "                        weights = 'imagenet')   "
   ]
  },
  {
   "cell_type": "code",
   "execution_count": 20,
   "metadata": {
    "colab": {
     "base_uri": "https://localhost:8080/",
     "height": 34
    },
    "colab_type": "code",
    "executionInfo": {
     "elapsed": 1310,
     "status": "ok",
     "timestamp": 1595456977134,
     "user": {
      "displayName": "Amandeep Singh",
      "photoUrl": "https://lh3.googleusercontent.com/a-/AOh14Gj1Ov_iaK_My4H8joP90ErnFLBHgHMuNMDWgiicH3M=s64",
      "userId": "15449713203337175881"
     },
     "user_tz": -120
    },
    "id": "JO0btC_610z1",
    "outputId": "dc96ac88-528f-42c6-f171-b7d44785621f"
   },
   "outputs": [
    {
     "name": "stdout",
     "output_type": "stream",
     "text": [
      "last layer output shape:  (None, 3, 3, 768)\n"
     ]
    }
   ],
   "source": [
    "for layer in inception_model.layers:\n",
    "     layer.trainable = False\n",
    "        \n",
    "# inception_model.summary()\n",
    "last_layer = inception_model.get_layer('mixed7')\n",
    "print('last layer output shape: ', last_layer.output_shape)\n",
    "last_output = last_layer.output\n",
    "\n",
    "x = layers.Flatten()(last_output)\n",
    "x = layers.Dense(1024, activation='relu')(x)\n",
    "x = layers.Dropout(0.2)(x)                  \n",
    "x = layers.Dense(43, activation='softmax')(x)       \n",
    "\n",
    "# x = inception_model.output\n",
    "# x = GlobalAveragePooling2D()(x)\n",
    "# x = Dropout(0.5)(x)\n",
    "# predictions = Dense(43, activation= 'softmax')(x)\n",
    "\n",
    "inception_new_model = Model(inception_model.input, x) \n",
    "# inception_new_model = Model(inputs = inception_model.input, outputs = predictions)\n",
    "\n",
    "inception_new_model.compile(optimizer = RMSprop(lr=0.0001), \n",
    "              loss = 'categorical_crossentropy', \n",
    "              metrics = ['acc'])"
   ]
  },
  {
   "cell_type": "code",
   "execution_count": 21,
   "metadata": {
    "colab": {
     "base_uri": "https://localhost:8080/",
     "height": 751
    },
    "colab_type": "code",
    "executionInfo": {
     "elapsed": 351970,
     "status": "ok",
     "timestamp": 1595457330049,
     "user": {
      "displayName": "Amandeep Singh",
      "photoUrl": "https://lh3.googleusercontent.com/a-/AOh14Gj1Ov_iaK_My4H8joP90ErnFLBHgHMuNMDWgiicH3M=s64",
      "userId": "15449713203337175881"
     },
     "user_tz": -120
    },
    "id": "VTUQr8I510z7",
    "outputId": "43527fb2-84ca-4578-ca3a-d350b03433a9"
   },
   "outputs": [
    {
     "name": "stdout",
     "output_type": "stream",
     "text": [
      "Epoch 1/20\n",
      "981/981 [==============================] - 18s 19ms/step - loss: 0.7944 - acc: 0.7623 - val_loss: 0.3715 - val_acc: 0.8848\n",
      "Epoch 2/20\n",
      "981/981 [==============================] - 17s 18ms/step - loss: 0.2330 - acc: 0.9279 - val_loss: 0.2025 - val_acc: 0.9379\n",
      "Epoch 3/20\n",
      "981/981 [==============================] - 17s 17ms/step - loss: 0.1261 - acc: 0.9617 - val_loss: 0.1521 - val_acc: 0.9519\n",
      "Epoch 4/20\n",
      "981/981 [==============================] - 17s 17ms/step - loss: 0.0831 - acc: 0.9751 - val_loss: 0.1180 - val_acc: 0.9638\n",
      "Epoch 5/20\n",
      "981/981 [==============================] - 17s 18ms/step - loss: 0.0570 - acc: 0.9829 - val_loss: 0.1188 - val_acc: 0.9594\n",
      "Epoch 6/20\n",
      "981/981 [==============================] - 17s 17ms/step - loss: 0.0428 - acc: 0.9875 - val_loss: 0.0971 - val_acc: 0.9691\n",
      "Epoch 7/20\n",
      "981/981 [==============================] - 17s 17ms/step - loss: 0.0310 - acc: 0.9909 - val_loss: 0.0989 - val_acc: 0.9688\n",
      "Epoch 8/20\n",
      "981/981 [==============================] - 17s 17ms/step - loss: 0.0251 - acc: 0.9925 - val_loss: 0.0857 - val_acc: 0.9726\n",
      "Epoch 9/20\n",
      "981/981 [==============================] - 17s 17ms/step - loss: 0.0208 - acc: 0.9945 - val_loss: 0.1168 - val_acc: 0.9691\n",
      "Epoch 10/20\n",
      "981/981 [==============================] - 17s 17ms/step - loss: 0.0164 - acc: 0.9953 - val_loss: 0.0823 - val_acc: 0.9768\n",
      "Epoch 11/20\n",
      "981/981 [==============================] - 17s 17ms/step - loss: 0.0149 - acc: 0.9960 - val_loss: 0.0837 - val_acc: 0.9767\n",
      "Epoch 12/20\n",
      "981/981 [==============================] - 17s 17ms/step - loss: 0.0106 - acc: 0.9970 - val_loss: 0.1023 - val_acc: 0.9740\n",
      "Epoch 13/20\n",
      "981/981 [==============================] - 17s 17ms/step - loss: 0.0095 - acc: 0.9971 - val_loss: 0.0832 - val_acc: 0.9772\n",
      "Epoch 14/20\n",
      "981/981 [==============================] - 17s 17ms/step - loss: 0.0084 - acc: 0.9978 - val_loss: 0.0800 - val_acc: 0.9774\n",
      "Epoch 15/20\n",
      "981/981 [==============================] - 17s 17ms/step - loss: 0.0070 - acc: 0.9980 - val_loss: 0.0941 - val_acc: 0.9740\n",
      "Epoch 16/20\n",
      "981/981 [==============================] - 17s 17ms/step - loss: 0.0067 - acc: 0.9983 - val_loss: 0.0843 - val_acc: 0.9783\n",
      "Epoch 17/20\n",
      "981/981 [==============================] - 17s 17ms/step - loss: 0.0045 - acc: 0.9988 - val_loss: 0.0945 - val_acc: 0.9782\n",
      "Epoch 18/20\n",
      "981/981 [==============================] - 17s 17ms/step - loss: 0.0044 - acc: 0.9985 - val_loss: 0.0938 - val_acc: 0.9772\n",
      "Epoch 19/20\n",
      "981/981 [==============================] - 17s 17ms/step - loss: 0.0036 - acc: 0.9989 - val_loss: 0.0949 - val_acc: 0.9769\n",
      "Epoch 20/20\n",
      "981/981 [==============================] - 17s 17ms/step - loss: 0.0034 - acc: 0.9990 - val_loss: 0.0961 - val_acc: 0.9772\n",
      "CPU times: user 3min 50s, sys: 24.4 s, total: 4min 14s\n",
      "Wall time: 5min 51s\n"
     ]
    }
   ],
   "source": [
    "#using ten epochs for the training and saving the accuracy for each epoch\n",
    "%%time\n",
    "epochs = 20\n",
    "history = inception_new_model.fit(X_train, y_train, batch_size=32, \n",
    "                        epochs=epochs, validation_data = (X_val, y_val))"
   ]
  },
  {
   "cell_type": "code",
   "execution_count": 38,
   "metadata": {
    "colab": {
     "base_uri": "https://localhost:8080/",
     "height": 421
    },
    "colab_type": "code",
    "executionInfo": {
     "elapsed": 2348,
     "status": "ok",
     "timestamp": 1595459167803,
     "user": {
      "displayName": "Amandeep Singh",
      "photoUrl": "https://lh3.googleusercontent.com/a-/AOh14Gj1Ov_iaK_My4H8joP90ErnFLBHgHMuNMDWgiicH3M=s64",
      "userId": "15449713203337175881"
     },
     "user_tz": -120
    },
    "id": "RYV0eKbSUUIt",
    "outputId": "c1d353ae-e2de-4943-eb2e-2464868dfb06"
   },
   "outputs": [
    {
     "data": {
      "image/png": "[encoded data removed]",
      "text/plain": [
       "<Figure size 900x400 with 2 Axes>"
      ]
     },
     "metadata": {
      "needs_background": "light",
      "tags": []
     },
     "output_type": "display_data"
    }
   ],
   "source": [
    "fig, ax = plt.subplots(nrows=1, ncols=2, figsize=(9, 4), dpi=100)\n",
    " \n",
    "fig.suptitle(\"INCEPTION Model\", \n",
    "             fontdict = {'fontsize': 10, 'fontweight' : 3})\n",
    " \n",
    "ax[0].set_title('Accuracy vs Epochs')\n",
    "ax[0].plot(history.history['acc'], label='Training Acc')\n",
    "ax[0].plot(history.history['val_acc'], label='Val acc')\n",
    "ax[0].set_xlabel('Epochs', fontsize=10)\n",
    "ax[0].set_ylabel('Accuracy', fontsize=10)\n",
    "ax[0].legend(fontsize=10)\n",
    "ax[0].tick_params(axis='both', which='major', labelsize=8)\n",
    "ax[0].xaxis.set_ticks(np.arange(0, 21, 2))\n",
    " \n",
    "ax[1].set_title('Loss vs Epochs')\n",
    "ax[1].plot(history.history['loss'], label='Training Loss')\n",
    "ax[1].plot(history.history['val_loss'], label='Val Loss')\n",
    "ax[1].set_xlabel('Epochs', fontsize=10)\n",
    "ax[1].set_ylabel('Loss', fontsize=10)\n",
    "ax[1].legend(fontsize=10)\n",
    "ax[1].tick_params(axis='both', which='major', labelsize=8)\n",
    "ax[1].xaxis.set_ticks(np.arange(0, 21, 2))\n",
    " \n",
    "fig.savefig(os.path.join(visualization_path, 'INCEPTION_acc_loss.png'), \n",
    "            dpi=300, bbox_inches='tight')"
   ]
  },
  {
   "cell_type": "code",
   "execution_count": 24,
   "metadata": {
    "colab": {},
    "colab_type": "code",
    "executionInfo": {
     "elapsed": 990,
     "status": "ok",
     "timestamp": 1595457356576,
     "user": {
      "displayName": "Amandeep Singh",
      "photoUrl": "https://lh3.googleusercontent.com/a-/AOh14Gj1Ov_iaK_My4H8joP90ErnFLBHgHMuNMDWgiicH3M=s64",
      "userId": "15449713203337175881"
     },
     "user_tz": -120
    },
    "id": "wSBXlYBkl4jm"
   },
   "outputs": [],
   "source": [
    "test_blur3_path = '../NumpyArrays/Cells_test_blur3.npy'\n",
    "test_blur5_path = '../NumpyArrays/Cells_test_blur5.npy'\n",
    "test_blur7_path = '../NumpyArrays/Cells_test_blur7.npy'"
   ]
  },
  {
   "cell_type": "code",
   "execution_count": 25,
   "metadata": {
    "colab": {},
    "colab_type": "code",
    "executionInfo": {
     "elapsed": 9014,
     "status": "ok",
     "timestamp": 1595457365228,
     "user": {
      "displayName": "Amandeep Singh",
      "photoUrl": "https://lh3.googleusercontent.com/a-/AOh14Gj1Ov_iaK_My4H8joP90ErnFLBHgHMuNMDWgiicH3M=s64",
      "userId": "15449713203337175881"
     },
     "user_tz": -120
    },
    "id": "EUQL3ek050qy"
   },
   "outputs": [],
   "source": [
    "# Loading test data from saved files.\n",
    "\n",
    "# X_test = np.load(test_data_path)\n",
    "# y_test = np.load(test_label_path)\n",
    "\n",
    "# Loading test data from saved array files.\n",
    " \n",
    "X_test = np.load(test_data_path)\n",
    "X_test_3 = np.load(test_blur3_path)\n",
    "X_test_5 = np.load(test_blur5_path)\n",
    "X_test_7 = np.load(test_blur7_path)\n",
    "y_test = np.load(test_label_path)"
   ]
  },
  {
   "cell_type": "code",
   "execution_count": 26,
   "metadata": {
    "colab": {},
    "colab_type": "code",
    "executionInfo": {
     "elapsed": 4170,
     "status": "ok",
     "timestamp": 1595457386866,
     "user": {
      "displayName": "Amandeep Singh",
      "photoUrl": "https://lh3.googleusercontent.com/a-/AOh14Gj1Ov_iaK_My4H8joP90ErnFLBHgHMuNMDWgiicH3M=s64",
      "userId": "15449713203337175881"
     },
     "user_tz": -120
    },
    "id": "jsADFi-X50rC"
   },
   "outputs": [],
   "source": [
    "# X_test = X_test.astype('float32')/255 \n",
    "\n",
    "X_test = X_test.astype('float32')/255 \n",
    "X_test_3 = X_test_3.astype('float32')/255 \n",
    "X_test_5 = X_test_5.astype('float32')/255 \n",
    "X_test_7 = X_test_7.astype('float32')/255 "
   ]
  },
  {
   "cell_type": "code",
   "execution_count": 27,
   "metadata": {
    "colab": {},
    "colab_type": "code",
    "executionInfo": {
     "elapsed": 19312,
     "status": "ok",
     "timestamp": 1595457402593,
     "user": {
      "displayName": "Amandeep Singh",
      "photoUrl": "https://lh3.googleusercontent.com/a-/AOh14Gj1Ov_iaK_My4H8joP90ErnFLBHgHMuNMDWgiicH3M=s64",
      "userId": "15449713203337175881"
     },
     "user_tz": -120
    },
    "id": "KvsJERa150rS"
   },
   "outputs": [],
   "source": [
    "# Predicting output.\n",
    "\n",
    "pred = inception_new_model.predict(X_test)\n",
    "# print(pred.shape)\n",
    "pred_3 = inception_new_model.predict(X_test_3)\n",
    "pred_5 = inception_new_model.predict(X_test_5)\n",
    "pred_7 = inception_new_model.predict(X_test_7)"
   ]
  },
  {
   "cell_type": "code",
   "execution_count": 28,
   "metadata": {
    "colab": {},
    "colab_type": "code",
    "executionInfo": {
     "elapsed": 1095,
     "status": "ok",
     "timestamp": 1595457405727,
     "user": {
      "displayName": "Amandeep Singh",
      "photoUrl": "https://lh3.googleusercontent.com/a-/AOh14Gj1Ov_iaK_My4H8joP90ErnFLBHgHMuNMDWgiicH3M=s64",
      "userId": "15449713203337175881"
     },
     "user_tz": -120
    },
    "id": "Jui0dntkmz2F"
   },
   "outputs": [],
   "source": [
    "from sklearn.metrics import classification_report\n",
    "  \n",
    "traffic_sign_labels_list = [new_dict[i] for i in range(len(new_dict))]\n",
    "\n",
    "inception_class = classification_report(y_test, np.argmax(pred, axis=1), \n",
    "                            target_names = traffic_sign_labels_list, output_dict = True)"
   ]
  },
  {
   "cell_type": "code",
   "execution_count": 29,
   "metadata": {
    "colab": {},
    "colab_type": "code",
    "executionInfo": {
     "elapsed": 920,
     "status": "ok",
     "timestamp": 1595457408234,
     "user": {
      "displayName": "Amandeep Singh",
      "photoUrl": "https://lh3.googleusercontent.com/a-/AOh14Gj1Ov_iaK_My4H8joP90ErnFLBHgHMuNMDWgiicH3M=s64",
      "userId": "15449713203337175881"
     },
     "user_tz": -120
    },
    "id": "HoZnOkpwImjl"
   },
   "outputs": [],
   "source": [
    "inception_class_3 = classification_report(y_test, np.argmax(pred_3, axis=1), \n",
    "                            target_names = traffic_sign_labels_list, output_dict = True)"
   ]
  },
  {
   "cell_type": "code",
   "execution_count": 30,
   "metadata": {
    "colab": {},
    "colab_type": "code",
    "executionInfo": {
     "elapsed": 1020,
     "status": "ok",
     "timestamp": 1595457408921,
     "user": {
      "displayName": "Amandeep Singh",
      "photoUrl": "https://lh3.googleusercontent.com/a-/AOh14Gj1Ov_iaK_My4H8joP90ErnFLBHgHMuNMDWgiicH3M=s64",
      "userId": "15449713203337175881"
     },
     "user_tz": -120
    },
    "id": "qvhNDXANImjo"
   },
   "outputs": [],
   "source": [
    "inception_class_5 = classification_report(y_test, np.argmax(pred_5, axis=1), \n",
    "                            target_names = traffic_sign_labels_list, output_dict = True)"
   ]
  },
  {
   "cell_type": "code",
   "execution_count": 31,
   "metadata": {
    "colab": {
     "base_uri": "https://localhost:8080/",
     "height": 71
    },
    "colab_type": "code",
    "executionInfo": {
     "elapsed": 644,
     "status": "ok",
     "timestamp": 1595457409319,
     "user": {
      "displayName": "Amandeep Singh",
      "photoUrl": "https://lh3.googleusercontent.com/a-/AOh14Gj1Ov_iaK_My4H8joP90ErnFLBHgHMuNMDWgiicH3M=s64",
      "userId": "15449713203337175881"
     },
     "user_tz": -120
    },
    "id": "g2KpQUO3Imjq",
    "outputId": "bfe59e85-12b4-4f60-d0d6-61a125f62fa3"
   },
   "outputs": [
    {
     "name": "stderr",
     "output_type": "stream",
     "text": [
      "/usr/local/lib/python3.6/dist-packages/sklearn/metrics/_classification.py:1272: UndefinedMetricWarning: Precision and F-score are ill-defined and being set to 0.0 in labels with no predicted samples. Use `zero_division` parameter to control this behavior.\n",
      "  _warn_prf(average, modifier, msg_start, len(result))\n"
     ]
    }
   ],
   "source": [
    "inception_class_7 = classification_report(y_test, np.argmax(pred_7, axis=1), \n",
    "                            target_names = traffic_sign_labels_list, output_dict = True)"
   ]
  },
  {
   "cell_type": "code",
   "execution_count": 32,
   "metadata": {
    "colab": {},
    "colab_type": "code",
    "executionInfo": {
     "elapsed": 1035,
     "status": "ok",
     "timestamp": 1595457418237,
     "user": {
      "displayName": "Amandeep Singh",
      "photoUrl": "https://lh3.googleusercontent.com/a-/AOh14Gj1Ov_iaK_My4H8joP90ErnFLBHgHMuNMDWgiicH3M=s64",
      "userId": "15449713203337175881"
     },
     "user_tz": -120
    },
    "id": "PSXnfWcHCv23"
   },
   "outputs": [],
   "source": [
    "inception_df_top = pd.DataFrame(inception_class).transpose().sort_values(by='f1-score', ascending=False)[:5]\n",
    "inception_df_top.reset_index(inplace=True)\n",
    "inception_df_bottom = pd.DataFrame(inception_class).transpose().sort_values(by='f1-score', ascending=True)[:5]\n",
    "inception_df_bottom.reset_index(inplace=True)\n",
    "\n",
    "inception_df_top_3 = pd.DataFrame(inception_class_3).transpose().sort_values(by='f1-score', ascending=False)[:5]\n",
    "inception_df_top_3.reset_index(inplace=True)\n",
    "inception_df_bottom_3 = pd.DataFrame(inception_class_3).transpose().sort_values(by='f1-score', ascending=True)[:5]\n",
    "inception_df_bottom_3.reset_index(inplace=True)\n",
    "\n",
    "inception_df_top_5 = pd.DataFrame(inception_class_5).transpose().sort_values(by='f1-score', ascending=False)[:5]\n",
    "inception_df_top_5.reset_index(inplace=True)\n",
    "inception_df_bottom_5 = pd.DataFrame(inception_class_5).transpose().sort_values(by='f1-score', ascending=True)[:5]\n",
    "inception_df_bottom_5.reset_index(inplace=True)\n",
    "\n",
    "inception_df_top_7 = pd.DataFrame(inception_class_7).transpose().sort_values(by='f1-score', ascending=False)[:5]\n",
    "inception_df_top_7.reset_index(inplace=True)\n",
    "inception_df_bottom_7 = pd.DataFrame(inception_class_7).transpose().sort_values(by='f1-score', ascending=True)[:5]\n",
    "inception_df_bottom_7.reset_index(inplace=True)"
   ]
  },
  {
   "cell_type": "code",
   "execution_count": 32,
   "metadata": {
    "colab": {},
    "colab_type": "code",
    "executionInfo": {
     "elapsed": 1004,
     "status": "ok",
     "timestamp": 1595457421415,
     "user": {
      "displayName": "Amandeep Singh",
      "photoUrl": "https://lh3.googleusercontent.com/a-/AOh14Gj1Ov_iaK_My4H8joP90ErnFLBHgHMuNMDWgiicH3M=s64",
      "userId": "15449713203337175881"
     },
     "user_tz": -120
    },
    "id": "MlSIU8bAEU3z"
   },
   "outputs": [],
   "source": []
  },
  {
   "cell_type": "code",
   "execution_count": 39,
   "metadata": {
    "colab": {
     "base_uri": "https://localhost:8080/",
     "height": 636
    },
    "colab_type": "code",
    "executionInfo": {
     "elapsed": 5097,
     "status": "ok",
     "timestamp": 1595459192556,
     "user": {
      "displayName": "Amandeep Singh",
      "photoUrl": "https://lh3.googleusercontent.com/a-/AOh14Gj1Ov_iaK_My4H8joP90ErnFLBHgHMuNMDWgiicH3M=s64",
      "userId": "15449713203337175881"
     },
     "user_tz": -120
    },
    "id": "YNdz-6tHIlme",
    "outputId": "3cd923b6-8f4d-4d0d-b6f1-257be5121a6b"
   },
   "outputs": [
    {
     "data": {
      "image/png": "[encoded data removed]",
      "text/plain": [
       "<Figure size 576x576 with 8 Axes>"
      ]
     },
     "metadata": {
      "needs_background": "light",
      "tags": []
     },
     "output_type": "display_data"
    }
   ],
   "source": [
    "fig, ax = plt.subplots(nrows=4, ncols=2, figsize=(8, 8))\n",
    "# plt.title(\"Yoooo\", fontsize = 28, loc='center')\n",
    "\n",
    "sns.barplot(y = 'index', x = 'f1-score', data=inception_df_top, ax=ax[0,0], color='#9c0000')\n",
    "ax[0,0].set_ylabel('Original')\n",
    "ax[0,0].set_title('Top 5 by f1-score')\n",
    "ax[0,0].set_xlabel(\"\")\n",
    "# ax[0,0].get_xaxis().set_visible(False)\n",
    "ax[0,0].grid(True)\n",
    "\n",
    "sns.barplot(y = 'index', x = 'f1-score', data=inception_df_bottom, ax=ax[0,1], color='#f29999')\n",
    "ax[0,1].set_xlim([0, 1.0])\n",
    "ax[0,1].set_title('Bottom 5 by f1-score')\n",
    "# ax[0,1].get_xaxis().set_visible(False)\n",
    "ax[0,1].set_xlabel(\"\")\n",
    "ax[0,1].set_ylabel(\"\")\n",
    "# ax[0,1].get_yaxis().set_visible(False)\n",
    "ax[0,1].grid(True)\n",
    "\n",
    "sns.barplot(y = 'index', x = 'f1-score', data=inception_df_top_3, ax=ax[1,0], color='#007F00')\n",
    "ax[1,0].set_xlabel(\"\")\n",
    "ax[1,0].set_ylabel('Blur 3x3')\n",
    "ax[1,0].set_xlim([0, 1.0])\n",
    "# ax[1,0].get_xaxis().set_visible(False)\n",
    "ax[1,0].grid(True)\n",
    "\n",
    "sns.barplot(y = 'index', x = 'f1-score', data=inception_df_bottom_3, ax=ax[1,1], color='#7fe57f')\n",
    "ax[1,1].set_xlim([0, 1.0])\n",
    "# ax[1,1].get_xaxis().set_visible(False)\n",
    "ax[1,1].set_xlabel(\"\")\n",
    "ax[1,1].set_ylabel(\"\")\n",
    "ax[1,1].grid(True)\n",
    "# ax[1,1].get_yaxis().set_visible(False)\n",
    "\n",
    "sns.barplot(y = 'index', x = 'f1-score', data=inception_df_top_5, ax=ax[2,0], color='#000070')\n",
    "ax[2,0].set_xlabel(\"\")\n",
    "ax[2,0].set_ylabel('Blur 5x5')\n",
    "ax[2,0].set_xlim([0, 1.0])\n",
    "# ax[2,0].get_xaxis().set_visible(False)\n",
    "ax[2,0].grid(True)\n",
    "\n",
    "sns.barplot(y = 'index', x = 'f1-score', data=inception_df_bottom_5, ax=ax[2,1], color='#9999f2')\n",
    "ax[2,1].set_xlim([0, 1.0])\n",
    "# ax[2,1].get_xaxis().set_visible(False)\n",
    "ax[2,1].set_xlabel(\"\")\n",
    "ax[2,1].set_ylabel(\"\")\n",
    "ax[2,1].grid(True)\n",
    "# ax[2,1].get_yaxis().set_visible(False)\n",
    "\n",
    "sns.barplot(y = 'index', x = 'f1-score', data=inception_df_top_7, ax=ax[3,0], color='#703800')\n",
    "ax[3,0].set_ylabel('Blur 7x7')\n",
    "ax[3,0].set_xlim([0, 1.0])\n",
    "ax[3,0].grid(True)\n",
    "\n",
    "sns.barplot(y = 'index', x = 'f1-score', data=inception_df_bottom_7, ax=ax[3,1], color='#f2c599')\n",
    "ax[3,1].set_xlim([0, 1.0])\n",
    "ax[3,1].set_ylabel(\"\")\n",
    "ax[3,1].grid(True)\n",
    "# ax[3,1].get_yaxis().set_visible(False)\n",
    "\n",
    "fig.tight_layout(pad=0)\n",
    "fig.suptitle('INCEPTION', position=(0.5, 1.05), fontsize=20)\n",
    "\n",
    "fig.savefig(os.path.join(visualization_path, 'INCEPTION_f1_scores.png'), \n",
    "            dpi=300, bbox_inches='tight')"
   ]
  },
  {
   "cell_type": "code",
   "execution_count": null,
   "metadata": {
    "colab": {
     "base_uri": "https://localhost:8080/",
     "height": 867
    },
    "colab_type": "code",
    "executionInfo": {
     "elapsed": 826,
     "status": "ok",
     "timestamp": 1595036734543,
     "user": {
      "displayName": "Amandeep Singh",
      "photoUrl": "https://lh3.googleusercontent.com/a-/AOh14Gj1Ov_iaK_My4H8joP90ErnFLBHgHMuNMDWgiicH3M=s64",
      "userId": "15449713203337175881"
     },
     "user_tz": -120
    },
    "id": "Ig5EoP-ZIhW2",
    "outputId": "60c6fa84-ae94-4d55-8c25-bcda39a26830"
   },
   "outputs": [
    {
     "name": "stdout",
     "output_type": "stream",
     "text": [
      "                                   precision    recall  f1-score   support\n",
      "\n",
      "                          20 km/h       0.61      0.33      0.43        60\n",
      "                          30 km/h       0.82      0.71      0.76       720\n",
      "                          50 km/h       0.54      0.81      0.65       750\n",
      "                          60 km/h       0.71      0.46      0.55       450\n",
      "                          70 km/h       0.86      0.76      0.81       660\n",
      "                          80 km/h       0.70      0.73      0.72       630\n",
      "                      80 km/h end       0.99      0.84      0.91       150\n",
      "                         100 km/h       0.82      0.87      0.84       450\n",
      "                         120 km/h       0.81      0.71      0.76       450\n",
      "                    No overtaking       0.93      0.96      0.95       480\n",
      "         No overtaking for trucks       0.94      0.97      0.95       660\n",
      "     Crossroad with secondary way       0.82      0.75      0.78       420\n",
      "                        Main road       0.97      0.99      0.98       690\n",
      "                         Give way       0.98      0.99      0.98       720\n",
      "                             Stop       0.92      1.00      0.96       270\n",
      "                          Road up       0.98      0.99      0.99       210\n",
      "               Road up for trucks       0.99      0.91      0.95       150\n",
      "                         No Entry       0.97      0.92      0.94       360\n",
      "                  Other dangerous       0.79      0.84      0.82       390\n",
      "                        Turn left       0.46      0.45      0.45        60\n",
      "                       Turn right       0.83      0.53      0.65        90\n",
      "                     Winding road       0.72      0.51      0.60        90\n",
      "                      Hollow road       0.79      0.72      0.76       120\n",
      "                    Slippery road       0.51      0.39      0.44       150\n",
      "                   Narrowing road       0.86      0.70      0.77        90\n",
      "                         Roadwork       0.61      0.84      0.70       480\n",
      "                    Traffic light       0.86      0.74      0.80       180\n",
      "                       Pedestrian       0.79      0.63      0.70        60\n",
      "                         Children       0.51      0.40      0.45       150\n",
      "                            Cycle       0.68      0.56      0.61        90\n",
      "                             Snow       0.80      0.40      0.53       150\n",
      "                             Deer       0.71      0.95      0.81       270\n",
      "                End of the limits       1.00      0.98      0.99        60\n",
      "                       Only right       0.87      0.75      0.81       210\n",
      "                        Only left       0.64      0.77      0.70       120\n",
      "                    Only straight       0.81      0.91      0.86       390\n",
      "          Only straight and right       0.69      0.55      0.61       120\n",
      "           Only straight and left       0.73      0.45      0.56        60\n",
      "                       Take right       0.92      0.95      0.93       690\n",
      "                        Take left       0.72      0.52      0.61        90\n",
      "                 Circle crossroad       0.82      0.80      0.81        90\n",
      "          End of overtaking limit       0.65      0.80      0.72        60\n",
      "End of overtaking limit for track       0.86      0.60      0.71        90\n",
      "\n",
      "                         accuracy                           0.81     12630\n",
      "                        macro avg       0.79      0.73      0.75     12630\n",
      "                     weighted avg       0.81      0.81      0.80     12630\n",
      "\n"
     ]
    }
   ],
   "source": [
    "from sklearn.metrics import classification_report\n",
    "  \n",
    "traffic_sign_labels_list = [traffic_sign_labels[i] for i in range(len(traffic_sign_labels))]\n",
    "\n",
    "print(classification_report(y_test, np.argmax(pred, axis=1), \n",
    "                            target_names = traffic_sign_labels_list))"
   ]
  },
  {
   "cell_type": "code",
   "execution_count": null,
   "metadata": {
    "colab": {
     "base_uri": "https://localhost:8080/",
     "height": 867
    },
    "colab_type": "code",
    "executionInfo": {
     "elapsed": 734,
     "status": "ok",
     "timestamp": 1595036736361,
     "user": {
      "displayName": "Amandeep Singh",
      "photoUrl": "https://lh3.googleusercontent.com/a-/AOh14Gj1Ov_iaK_My4H8joP90ErnFLBHgHMuNMDWgiicH3M=s64",
      "userId": "15449713203337175881"
     },
     "user_tz": -120
    },
    "id": "L_3fLrQlle_0",
    "outputId": "369442a1-be0f-44c6-c676-9c2f4f4ecc82"
   },
   "outputs": [
    {
     "name": "stdout",
     "output_type": "stream",
     "text": [
      "                                   precision    recall  f1-score   support\n",
      "\n",
      "                          20 km/h       0.92      0.18      0.31        60\n",
      "                          30 km/h       0.77      0.58      0.66       720\n",
      "                          50 km/h       0.49      0.69      0.57       750\n",
      "                          60 km/h       0.62      0.35      0.44       450\n",
      "                          70 km/h       0.83      0.54      0.65       660\n",
      "                          80 km/h       0.51      0.69      0.58       630\n",
      "                      80 km/h end       0.84      0.67      0.75       150\n",
      "                         100 km/h       0.56      0.58      0.57       450\n",
      "                         120 km/h       0.54      0.56      0.55       450\n",
      "                    No overtaking       0.96      0.70      0.81       480\n",
      "         No overtaking for trucks       0.62      0.93      0.74       660\n",
      "     Crossroad with secondary way       0.63      0.71      0.67       420\n",
      "                        Main road       0.92      0.96      0.94       690\n",
      "                         Give way       0.92      0.98      0.95       720\n",
      "                             Stop       0.97      0.90      0.93       270\n",
      "                          Road up       0.95      0.98      0.96       210\n",
      "               Road up for trucks       0.95      0.93      0.94       150\n",
      "                         No Entry       0.88      0.94      0.91       360\n",
      "                  Other dangerous       0.80      0.68      0.74       390\n",
      "                        Turn left       0.23      0.23      0.23        60\n",
      "                       Turn right       0.38      0.43      0.41        90\n",
      "                     Winding road       0.74      0.47      0.57        90\n",
      "                      Hollow road       0.68      0.70      0.69       120\n",
      "                    Slippery road       0.31      0.36      0.33       150\n",
      "                   Narrowing road       0.86      0.63      0.73        90\n",
      "                         Roadwork       0.55      0.69      0.61       480\n",
      "                    Traffic light       0.83      0.72      0.77       180\n",
      "                       Pedestrian       0.61      0.45      0.52        60\n",
      "                         Children       0.53      0.30      0.38       150\n",
      "                            Cycle       0.74      0.29      0.42        90\n",
      "                             Snow       0.35      0.15      0.21       150\n",
      "                             Deer       0.72      0.86      0.78       270\n",
      "                End of the limits       0.91      1.00      0.95        60\n",
      "                       Only right       0.78      0.78      0.78       210\n",
      "                        Only left       0.60      0.77      0.67       120\n",
      "                    Only straight       0.81      0.80      0.81       390\n",
      "          Only straight and right       0.74      0.65      0.69       120\n",
      "           Only straight and left       0.84      0.27      0.41        60\n",
      "                       Take right       0.91      0.90      0.91       690\n",
      "                        Take left       0.70      0.58      0.63        90\n",
      "                 Circle crossroad       0.76      0.63      0.69        90\n",
      "          End of overtaking limit       0.78      0.58      0.67        60\n",
      "End of overtaking limit for track       0.56      0.64      0.60        90\n",
      "\n",
      "                         accuracy                           0.71     12630\n",
      "                        macro avg       0.71      0.64      0.65     12630\n",
      "                     weighted avg       0.73      0.71      0.71     12630\n",
      "\n"
     ]
    }
   ],
   "source": [
    "print(classification_report(y_test, np.argmax(pred_3, axis=1), \n",
    "                            target_names = traffic_sign_labels_list))"
   ]
  },
  {
   "cell_type": "code",
   "execution_count": null,
   "metadata": {
    "colab": {
     "base_uri": "https://localhost:8080/",
     "height": 921
    },
    "colab_type": "code",
    "executionInfo": {
     "elapsed": 758,
     "status": "ok",
     "timestamp": 1595036737837,
     "user": {
      "displayName": "Amandeep Singh",
      "photoUrl": "https://lh3.googleusercontent.com/a-/AOh14Gj1Ov_iaK_My4H8joP90ErnFLBHgHMuNMDWgiicH3M=s64",
      "userId": "15449713203337175881"
     },
     "user_tz": -120
    },
    "id": "quQL6YQ4lfWy",
    "outputId": "21a770df-6c6b-4d7d-f8cf-6eb1702149ad"
   },
   "outputs": [
    {
     "name": "stdout",
     "output_type": "stream",
     "text": [
      "                                   precision    recall  f1-score   support\n",
      "\n",
      "                          20 km/h       0.00      0.00      0.00        60\n",
      "                          30 km/h       0.70      0.39      0.51       720\n",
      "                          50 km/h       0.36      0.56      0.43       750\n",
      "                          60 km/h       0.37      0.20      0.26       450\n",
      "                          70 km/h       0.77      0.26      0.39       660\n",
      "                          80 km/h       0.35      0.65      0.45       630\n",
      "                      80 km/h end       0.39      0.35      0.36       150\n",
      "                         100 km/h       0.37      0.40      0.38       450\n",
      "                         120 km/h       0.36      0.39      0.37       450\n",
      "                    No overtaking       0.95      0.42      0.59       480\n",
      "         No overtaking for trucks       0.46      0.81      0.59       660\n",
      "     Crossroad with secondary way       0.54      0.69      0.61       420\n",
      "                        Main road       0.85      0.85      0.85       690\n",
      "                         Give way       0.79      0.96      0.87       720\n",
      "                             Stop       0.92      0.76      0.83       270\n",
      "                          Road up       0.86      0.79      0.82       210\n",
      "               Road up for trucks       0.95      0.69      0.80       150\n",
      "                         No Entry       0.73      0.86      0.79       360\n",
      "                  Other dangerous       0.74      0.53      0.62       390\n",
      "                        Turn left       0.06      0.08      0.07        60\n",
      "                       Turn right       0.15      0.18      0.16        90\n",
      "                     Winding road       0.89      0.43      0.58        90\n",
      "                      Hollow road       0.39      0.50      0.44       120\n",
      "                    Slippery road       0.19      0.29      0.23       150\n",
      "                   Narrowing road       0.97      0.38      0.54        90\n",
      "                         Roadwork       0.49      0.52      0.50       480\n",
      "                    Traffic light       0.73      0.49      0.59       180\n",
      "                       Pedestrian       0.86      0.30      0.44        60\n",
      "                         Children       0.31      0.13      0.19       150\n",
      "                            Cycle       0.45      0.10      0.16        90\n",
      "                             Snow       0.06      0.05      0.05       150\n",
      "                             Deer       0.73      0.60      0.66       270\n",
      "                End of the limits       0.88      0.70      0.78        60\n",
      "                       Only right       0.76      0.65      0.70       210\n",
      "                        Only left       0.56      0.72      0.63       120\n",
      "                    Only straight       0.74      0.71      0.73       390\n",
      "          Only straight and right       0.93      0.53      0.67       120\n",
      "           Only straight and left       0.84      0.27      0.41        60\n",
      "                       Take right       0.79      0.74      0.77       690\n",
      "                        Take left       0.54      0.52      0.53        90\n",
      "                 Circle crossroad       0.83      0.53      0.65        90\n",
      "          End of overtaking limit       0.67      0.47      0.55        60\n",
      "End of overtaking limit for track       0.29      0.57      0.38        90\n",
      "\n",
      "                         accuracy                           0.57     12630\n",
      "                        macro avg       0.59      0.49      0.51     12630\n",
      "                     weighted avg       0.61      0.57      0.56     12630\n",
      "\n"
     ]
    },
    {
     "name": "stderr",
     "output_type": "stream",
     "text": [
      "/usr/local/lib/python3.6/dist-packages/sklearn/metrics/_classification.py:1272: UndefinedMetricWarning: Precision and F-score are ill-defined and being set to 0.0 in labels with no predicted samples. Use `zero_division` parameter to control this behavior.\n",
      "  _warn_prf(average, modifier, msg_start, len(result))\n"
     ]
    }
   ],
   "source": [
    "print(classification_report(y_test, np.argmax(pred_5, axis=1), \n",
    "                            target_names = traffic_sign_labels_list))"
   ]
  },
  {
   "cell_type": "code",
   "execution_count": null,
   "metadata": {
    "colab": {
     "base_uri": "https://localhost:8080/",
     "height": 921
    },
    "colab_type": "code",
    "executionInfo": {
     "elapsed": 851,
     "status": "ok",
     "timestamp": 1595036739728,
     "user": {
      "displayName": "Amandeep Singh",
      "photoUrl": "https://lh3.googleusercontent.com/a-/AOh14Gj1Ov_iaK_My4H8joP90ErnFLBHgHMuNMDWgiicH3M=s64",
      "userId": "15449713203337175881"
     },
     "user_tz": -120
    },
    "id": "CR_aEgaklesn",
    "outputId": "19ae91e1-af3f-4677-e765-b4460928f969"
   },
   "outputs": [
    {
     "name": "stdout",
     "output_type": "stream",
     "text": [
      "                                   precision    recall  f1-score   support\n",
      "\n",
      "                          20 km/h       0.00      0.00      0.00        60\n",
      "                          30 km/h       0.67      0.23      0.34       720\n",
      "                          50 km/h       0.28      0.47      0.35       750\n",
      "                          60 km/h       0.24      0.14      0.18       450\n",
      "                          70 km/h       0.70      0.13      0.23       660\n",
      "                          80 km/h       0.25      0.61      0.35       630\n",
      "                      80 km/h end       0.32      0.20      0.25       150\n",
      "                         100 km/h       0.26      0.24      0.25       450\n",
      "                         120 km/h       0.22      0.30      0.26       450\n",
      "                    No overtaking       0.93      0.22      0.36       480\n",
      "         No overtaking for trucks       0.32      0.59      0.42       660\n",
      "     Crossroad with secondary way       0.46      0.64      0.54       420\n",
      "                        Main road       0.71      0.72      0.71       690\n",
      "                         Give way       0.64      0.87      0.73       720\n",
      "                             Stop       0.84      0.53      0.65       270\n",
      "                          Road up       0.89      0.57      0.70       210\n",
      "               Road up for trucks       0.82      0.49      0.61       150\n",
      "                         No Entry       0.59      0.69      0.64       360\n",
      "                  Other dangerous       0.41      0.45      0.43       390\n",
      "                        Turn left       0.03      0.03      0.03        60\n",
      "                       Turn right       0.15      0.20      0.17        90\n",
      "                     Winding road       0.90      0.41      0.56        90\n",
      "                      Hollow road       0.27      0.36      0.31       120\n",
      "                    Slippery road       0.13      0.24      0.17       150\n",
      "                   Narrowing road       0.91      0.23      0.37        90\n",
      "                         Roadwork       0.44      0.36      0.39       480\n",
      "                    Traffic light       0.54      0.23      0.33       180\n",
      "                       Pedestrian       0.82      0.15      0.25        60\n",
      "                         Children       0.24      0.09      0.13       150\n",
      "                            Cycle       0.25      0.03      0.06        90\n",
      "                             Snow       0.01      0.01      0.01       150\n",
      "                             Deer       0.72      0.40      0.51       270\n",
      "                End of the limits       0.78      0.30      0.43        60\n",
      "                       Only right       0.87      0.53      0.66       210\n",
      "                        Only left       0.53      0.50      0.51       120\n",
      "                    Only straight       0.57      0.52      0.54       390\n",
      "          Only straight and right       0.72      0.40      0.51       120\n",
      "           Only straight and left       0.69      0.15      0.25        60\n",
      "                       Take right       0.66      0.55      0.60       690\n",
      "                        Take left       0.44      0.42      0.43        90\n",
      "                 Circle crossroad       0.92      0.38      0.54        90\n",
      "          End of overtaking limit       0.52      0.28      0.37        60\n",
      "End of overtaking limit for track       0.16      0.47      0.24        90\n",
      "\n",
      "                         accuracy                           0.43     12630\n",
      "                        macro avg       0.51      0.36      0.38     12630\n",
      "                     weighted avg       0.51      0.43      0.43     12630\n",
      "\n"
     ]
    },
    {
     "name": "stderr",
     "output_type": "stream",
     "text": [
      "/usr/local/lib/python3.6/dist-packages/sklearn/metrics/_classification.py:1272: UndefinedMetricWarning: Precision and F-score are ill-defined and being set to 0.0 in labels with no predicted samples. Use `zero_division` parameter to control this behavior.\n",
      "  _warn_prf(average, modifier, msg_start, len(result))\n"
     ]
    }
   ],
   "source": [
    "print(classification_report(y_test, np.argmax(pred_7, axis=1), \n",
    "                            target_names = traffic_sign_labels_list))"
   ]
  },
  {
   "cell_type": "code",
   "execution_count": null,
   "metadata": {
    "colab": {},
    "colab_type": "code",
    "id": "Nwuc3VfCIhT2"
   },
   "outputs": [],
   "source": [
    "# Saving the model\n",
    "inception_new_model.save('inception_new_model.h5')"
   ]
  },
  {
   "cell_type": "code",
   "execution_count": null,
   "metadata": {
    "colab": {
     "base_uri": "https://localhost:8080/",
     "height": 34
    },
    "colab_type": "code",
    "executionInfo": {
     "elapsed": 750,
     "status": "ok",
     "timestamp": 1595021967542,
     "user": {
      "displayName": "Amandeep Singh",
      "photoUrl": "https://lh3.googleusercontent.com/a-/AOh14Gj1Ov_iaK_My4H8joP90ErnFLBHgHMuNMDWgiicH3M=s64",
      "userId": "15449713203337175881"
     },
     "user_tz": -120
    },
    "id": "rnPk5Gr4IhRZ",
    "outputId": "c96b5448-f94a-49c9-c11f-2808f983e7ec"
   },
   "outputs": [
    {
     "name": "stdout",
     "output_type": "stream",
     "text": [
      "TensoFlow Version:  2.2.0\n"
     ]
    }
   ],
   "source": [
    "print('TensoFlow Version: ', tf.__version__)"
   ]
  },
  {
   "cell_type": "code",
   "execution_count": null,
   "metadata": {
    "colab": {},
    "colab_type": "code",
    "id": "WplHzz45t7uv"
   },
   "outputs": [],
   "source": [
    "del inception_model, inception_new_model"
   ]
  },
  {
   "cell_type": "code",
   "execution_count": null,
   "metadata": {
    "colab": {
     "base_uri": "https://localhost:8080/",
     "height": 34
    },
    "colab_type": "code",
    "executionInfo": {
     "elapsed": 954,
     "status": "ok",
     "timestamp": 1595025533911,
     "user": {
      "displayName": "Amandeep Singh",
      "photoUrl": "https://lh3.googleusercontent.com/a-/AOh14Gj1Ov_iaK_My4H8joP90ErnFLBHgHMuNMDWgiicH3M=s64",
      "userId": "15449713203337175881"
     },
     "user_tz": -120
    },
    "id": "bzXNoFlO7QQE",
    "outputId": "27c0d2fe-21e2-4860-ce4b-4f7a04a9ee08"
   },
   "outputs": [
    {
     "data": {
      "text/plain": [
       "10014"
      ]
     },
     "execution_count": 82,
     "metadata": {
      "tags": []
     },
     "output_type": "execute_result"
    }
   ],
   "source": [
    "gc.collect()"
   ]
  },
  {
   "cell_type": "code",
   "execution_count": null,
   "metadata": {
    "colab": {},
    "colab_type": "code",
    "id": "OxfBGLmP7ccv"
   },
   "outputs": [],
   "source": []
  },
  {
   "cell_type": "code",
   "execution_count": null,
   "metadata": {
    "colab": {},
    "colab_type": "code",
    "id": "SHtBXzHOFKON"
   },
   "outputs": [],
   "source": []
  }
 ],
 "metadata": {
  "accelerator": "GPU",
  "colab": {
   "collapsed_sections": [],
   "name": "Inception.ipynb",
   "provenance": []
  },
  "kernelspec": {
   "display_name": "Python 3",
   "language": "python",
   "name": "python3"
  },
  "language_info": {
   "codemirror_mode": {
    "name": "ipython",
    "version": 3
   },
   "file_extension": ".py",
   "mimetype": "text/x-python",
   "name": "python",
   "nbconvert_exporter": "python",
   "pygments_lexer": "ipython3",
   "version": "3.8.6"
  }
 },
 "nbformat": 4,
 "nbformat_minor": 4
}

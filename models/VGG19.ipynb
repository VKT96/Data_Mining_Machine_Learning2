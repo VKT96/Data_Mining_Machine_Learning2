{
 "cells": [
  {
   "cell_type": "markdown",
   "metadata": {
    "colab_type": "text",
    "id": "YkATW7yYme5J"
   },
   "source": [
    "## Imports and Drive Mounting"
   ]
  },
  {
   "cell_type": "code",
   "execution_count": 1,
   "metadata": {
    "colab": {
     "base_uri": "https://localhost:8080/",
     "height": 102
    },
    "colab_type": "code",
    "executionInfo": {
     "elapsed": 4106,
     "status": "ok",
     "timestamp": 1595456754405,
     "user": {
      "displayName": "Amandeep Singh",
      "photoUrl": "https://lh3.googleusercontent.com/a-/AOh14Gj1Ov_iaK_My4H8joP90ErnFLBHgHMuNMDWgiicH3M=s64",
      "userId": "15449713203337175881"
     },
     "user_tz": -120
    },
    "id": "WkHkRjNcZHP7",
    "outputId": "b56c39df-f886-4be4-a28d-5d14a6b0a7c7"
   },
   "outputs": [
    {
     "name": "stderr",
     "output_type": "stream",
     "text": [
      "Using TensorFlow backend.\n",
      "/usr/local/lib/python3.6/dist-packages/statsmodels/tools/_testing.py:19: FutureWarning:\n",
      "\n",
      "pandas.util.testing is deprecated. Use the functions in the public API at pandas.testing instead.\n",
      "\n"
     ]
    }
   ],
   "source": [
    "import numpy as np\n",
    "import pandas as pd\n",
    "from PIL import Image\n",
    "import os\n",
    "import glob\n",
    "import cv2\n",
    "import random\n",
    "import shutil\n",
    "from sklearn.model_selection import train_test_split\n",
    "import matplotlib.pyplot as plt\n",
    "import gc\n",
    "import keras\n",
    "from keras import optimizers\n",
    "from keras.preprocessing.image import ImageDataGenerator\n",
    "from keras.preprocessing.image import img_to_array, load_img\n",
    "import tqdm.notebook as tq\n",
    "from sklearn.metrics import accuracy_score\n",
    "import tensorflow as tf\n",
    "from google.colab import output\n",
    "from keras.utils import to_categorical\n",
    "from keras.models import Sequential\n",
    "from keras.layers import Conv2D, MaxPool2D, Dense, Flatten, Dropout\n",
    "# Plotly library\n",
    "from plotly.offline import init_notebook_mode, iplot\n",
    "import plotly.graph_objs as go\n",
    "from plotly import tools\n",
    "import colorlover as cl\n",
    "import seaborn as sns\n",
    "import matplotlib.pyplot as plt\n",
    "sns.set()"
   ]
  },
  {
   "cell_type": "code",
   "execution_count": null,
   "metadata": {
    "colab": {
     "base_uri": "https://localhost:8080/",
     "height": 122
    },
    "colab_type": "code",
    "executionInfo": {
     "elapsed": 17928,
     "status": "ok",
     "timestamp": 1595456769023,
     "user": {
      "displayName": "Amandeep Singh",
      "photoUrl": "https://lh3.googleusercontent.com/a-/AOh14Gj1Ov_iaK_My4H8joP90ErnFLBHgHMuNMDWgiicH3M=s64",
      "userId": "15449713203337175881"
     },
     "user_tz": -120
    },
    "id": "1w7FjbYHWxn6",
    "outputId": "f7fb904a-7819-40cc-c216-6b18cef88548"
   },
   "outputs": [],
   "source": [
    "from google.colab import drive\n",
    "drive.mount('/content/drive')"
   ]
  },
  {
   "cell_type": "code",
   "execution_count": 3,
   "metadata": {
    "colab": {},
    "colab_type": "code",
    "executionInfo": {
     "elapsed": 1249,
     "status": "ok",
     "timestamp": 1595456788442,
     "user": {
      "displayName": "Amandeep Singh",
      "photoUrl": "https://lh3.googleusercontent.com/a-/AOh14Gj1Ov_iaK_My4H8joP90ErnFLBHgHMuNMDWgiicH3M=s64",
      "userId": "15449713203337175881"
     },
     "user_tz": -120
    },
    "id": "PShviQfYV0Q2"
   },
   "outputs": [],
   "source": []
  },
  {
   "cell_type": "code",
   "execution_count": 18,
   "metadata": {
    "colab": {},
    "colab_type": "code",
    "executionInfo": {
     "elapsed": 932,
     "status": "ok",
     "timestamp": 1595457924233,
     "user": {
      "displayName": "Amandeep Singh",
      "photoUrl": "https://lh3.googleusercontent.com/a-/AOh14Gj1Ov_iaK_My4H8joP90ErnFLBHgHMuNMDWgiicH3M=s64",
      "userId": "15449713203337175881"
     },
     "user_tz": -120
    },
    "id": "p7me8dqer19G"
   },
   "outputs": [],
   "source": [
    "traffic_sign_labels = {0: '20 km/h',\n",
    "1:'30 km/h',\n",
    "2:'50 km/h',\n",
    "3:'60 km/h',\n",
    "4:'70 km/h',\n",
    "5:'80 km/h',\n",
    "6:'80 km/h end',\n",
    "7:'100 km/h',\n",
    "8:'120 km/h',\n",
    "9:'No overtaking',\n",
    "10:'No overtaking for trucks',\n",
    "11:'Crossroad with secondary way',\n",
    "12:'Main road',\n",
    "13:'Give way',\n",
    "14:'Stop',\n",
    "15:'Road up',\n",
    "16:'Road - trucks',\n",
    "17:'No Entry',\n",
    "18:'Other dangerous',\n",
    "19:'Turn left',\n",
    "20:'Turn right',\n",
    "21:'Winding road',\n",
    "22:'Hollow road',\n",
    "23:'Slippery road',\n",
    "24:'Narrowing road',\n",
    "25:'Roadwork',\n",
    "26:'Traffic light',\n",
    "27:'Pedestrian',\n",
    "28:'Children',\n",
    "29:'Cycle',\n",
    "30:'Snow',\n",
    "31:'Deer',\n",
    "32:'End of the limits',\n",
    "33:'Only right',\n",
    "34:'Only left',\n",
    "35:'Only straight',\n",
    "36:'Only straight and right',\n",
    "37:'Only straight and left',\n",
    "38:'Take right',\n",
    "39:'Take left',\n",
    "40:'Circle crossroad',\n",
    "41:'End of overtaking limit',\n",
    "42:'End of overtaking limit for track'\n",
    "}"
   ]
  },
  {
   "cell_type": "code",
   "execution_count": 19,
   "metadata": {
    "colab": {
     "base_uri": "https://localhost:8080/",
     "height": 119
    },
    "colab_type": "code",
    "executionInfo": {
     "elapsed": 901,
     "status": "ok",
     "timestamp": 1595457924785,
     "user": {
      "displayName": "Amandeep Singh",
      "photoUrl": "https://lh3.googleusercontent.com/a-/AOh14Gj1Ov_iaK_My4H8joP90ErnFLBHgHMuNMDWgiicH3M=s64",
      "userId": "15449713203337175881"
     },
     "user_tz": -120
    },
    "id": "yKy_ZsHedP8m",
    "outputId": "3a12e62a-82d6-407d-e0bc-0f4166d9d269"
   },
   "outputs": [
    {
     "data": {
      "text/plain": [
       "0    20 km/h\n",
       "1    30 km/h\n",
       "2    50 km/h\n",
       "3    60 km/h\n",
       "4    70 km/h\n",
       "dtype: object"
      ]
     },
     "execution_count": 19,
     "metadata": {
      "tags": []
     },
     "output_type": "execute_result"
    }
   ],
   "source": [
    "traffic_sign_labels_series = pd.Series(traffic_sign_labels)\n",
    "traffic_sign_labels_series.head()"
   ]
  },
  {
   "cell_type": "code",
   "execution_count": 20,
   "metadata": {
    "colab": {},
    "colab_type": "code",
    "executionInfo": {
     "elapsed": 1642,
     "status": "ok",
     "timestamp": 1595457927671,
     "user": {
      "displayName": "Amandeep Singh",
      "photoUrl": "https://lh3.googleusercontent.com/a-/AOh14Gj1Ov_iaK_My4H8joP90ErnFLBHgHMuNMDWgiicH3M=s64",
      "userId": "15449713203337175881"
     },
     "user_tz": -120
    },
    "id": "V2IzB5zXdP_1"
   },
   "outputs": [],
   "source": [
    "traffic_class_list = [\"Class00\", \"Class01\", \"Class02\", \"Class03\", \"Class04\", \"Class05\", \"Class06\", \"Class07\", \"Class08\", \"Class09\", \n",
    " \"Class10\", \"Class11\", \"Class12\", \"Class13\", \"Class14\", \"Class15\", \"Class16\", \"Class17\", \"Class18\", \"Class19\", \n",
    " \"Class20\", \"Class21\", \"Class22\", \"Class23\", \"Class24\", \"Class25\", \"Class26\", \"Class27\", \"Class28\", \"Class29\", \n",
    " \"Class30\", \"Class31\", \"Class32\", \"Class33\", \"Class34\", \"Class35\", \"Class36\", \"Class37\", \"Class38\", \"Class39\", \n",
    " \"Class40\", \"Class41\", \"Class42\"]"
   ]
  },
  {
   "cell_type": "code",
   "execution_count": 21,
   "metadata": {
    "colab": {
     "base_uri": "https://localhost:8080/",
     "height": 119
    },
    "colab_type": "code",
    "executionInfo": {
     "elapsed": 2680,
     "status": "ok",
     "timestamp": 1595457929479,
     "user": {
      "displayName": "Amandeep Singh",
      "photoUrl": "https://lh3.googleusercontent.com/a-/AOh14Gj1Ov_iaK_My4H8joP90ErnFLBHgHMuNMDWgiicH3M=s64",
      "userId": "15449713203337175881"
     },
     "user_tz": -120
    },
    "id": "QB6zOLG-dOMT",
    "outputId": "4d07349e-85e0-43ab-e7ab-6e2a7e7632d7"
   },
   "outputs": [
    {
     "data": {
      "text/plain": [
       "0    Class00\n",
       "1    Class01\n",
       "2    Class02\n",
       "3    Class03\n",
       "4    Class04\n",
       "dtype: object"
      ]
     },
     "execution_count": 21,
     "metadata": {
      "tags": []
     },
     "output_type": "execute_result"
    }
   ],
   "source": [
    "traffic_class_series = pd.Series(traffic_class_list)\n",
    "traffic_class_series.head()"
   ]
  },
  {
   "cell_type": "code",
   "execution_count": 22,
   "metadata": {
    "colab": {
     "base_uri": "https://localhost:8080/",
     "height": 204
    },
    "colab_type": "code",
    "executionInfo": {
     "elapsed": 2183,
     "status": "ok",
     "timestamp": 1595457929480,
     "user": {
      "displayName": "Amandeep Singh",
      "photoUrl": "https://lh3.googleusercontent.com/a-/AOh14Gj1Ov_iaK_My4H8joP90ErnFLBHgHMuNMDWgiicH3M=s64",
      "userId": "15449713203337175881"
     },
     "user_tz": -120
    },
    "id": "JByr6DMjdOq_",
    "outputId": "261df434-1392-4d22-b913-06eecdd354c2"
   },
   "outputs": [
    {
     "data": {
      "text/html": [
       "<div>\n",
       "<style scoped>\n",
       "    .dataframe tbody tr th:only-of-type {\n",
       "        vertical-align: middle;\n",
       "    }\n",
       "\n",
       "    .dataframe tbody tr th {\n",
       "        vertical-align: top;\n",
       "    }\n",
       "\n",
       "    .dataframe thead th {\n",
       "        text-align: right;\n",
       "    }\n",
       "</style>\n",
       "<table border=\"1\" class=\"dataframe\">\n",
       "  <thead>\n",
       "    <tr style=\"text-align: right;\">\n",
       "      <th></th>\n",
       "      <th>Class_Name_Index</th>\n",
       "      <th>Original_Class_Names</th>\n",
       "      <th>New_Class_Names</th>\n",
       "    </tr>\n",
       "  </thead>\n",
       "  <tbody>\n",
       "    <tr>\n",
       "      <th>0</th>\n",
       "      <td>0</td>\n",
       "      <td>20 km/h</td>\n",
       "      <td>Class00</td>\n",
       "    </tr>\n",
       "    <tr>\n",
       "      <th>1</th>\n",
       "      <td>1</td>\n",
       "      <td>30 km/h</td>\n",
       "      <td>Class01</td>\n",
       "    </tr>\n",
       "    <tr>\n",
       "      <th>2</th>\n",
       "      <td>2</td>\n",
       "      <td>50 km/h</td>\n",
       "      <td>Class02</td>\n",
       "    </tr>\n",
       "    <tr>\n",
       "      <th>3</th>\n",
       "      <td>3</td>\n",
       "      <td>60 km/h</td>\n",
       "      <td>Class03</td>\n",
       "    </tr>\n",
       "    <tr>\n",
       "      <th>4</th>\n",
       "      <td>4</td>\n",
       "      <td>70 km/h</td>\n",
       "      <td>Class04</td>\n",
       "    </tr>\n",
       "  </tbody>\n",
       "</table>\n",
       "</div>"
      ],
      "text/plain": [
       "   Class_Name_Index Original_Class_Names New_Class_Names\n",
       "0                 0              20 km/h         Class00\n",
       "1                 1              30 km/h         Class01\n",
       "2                 2              50 km/h         Class02\n",
       "3                 3              60 km/h         Class03\n",
       "4                 4              70 km/h         Class04"
      ]
     },
     "execution_count": 22,
     "metadata": {
      "tags": []
     },
     "output_type": "execute_result"
    }
   ],
   "source": [
    "traffic_sign_labels_df = pd.concat([traffic_sign_labels_series, \n",
    "                                    traffic_class_series], \n",
    "                                   axis=1)\n",
    "traffic_sign_labels_df.reset_index(inplace=True)\n",
    "traffic_sign_labels_df.rename(columns = {0:'Original_Class_Names', \n",
    "                                         1: 'New_Class_Names',\n",
    "                                         'index': 'Class_Name_Index'}, \n",
    "                              inplace = True)\n",
    "\n",
    "traffic_sign_labels_df.head()"
   ]
  },
  {
   "cell_type": "code",
   "execution_count": 23,
   "metadata": {
    "colab": {},
    "colab_type": "code",
    "executionInfo": {
     "elapsed": 899,
     "status": "ok",
     "timestamp": 1595457929889,
     "user": {
      "displayName": "Amandeep Singh",
      "photoUrl": "https://lh3.googleusercontent.com/a-/AOh14Gj1Ov_iaK_My4H8joP90ErnFLBHgHMuNMDWgiicH3M=s64",
      "userId": "15449713203337175881"
     },
     "user_tz": -120
    },
    "id": "GYHvAwXCdPCR"
   },
   "outputs": [],
   "source": [
    "new_dict = traffic_sign_labels_df['New_Class_Names'].to_dict()"
   ]
  },
  {
   "cell_type": "code",
   "execution_count": 24,
   "metadata": {
    "colab": {
     "base_uri": "https://localhost:8080/",
     "height": 748
    },
    "colab_type": "code",
    "executionInfo": {
     "elapsed": 1023,
     "status": "ok",
     "timestamp": 1595457930451,
     "user": {
      "displayName": "Amandeep Singh",
      "photoUrl": "https://lh3.googleusercontent.com/a-/AOh14Gj1Ov_iaK_My4H8joP90ErnFLBHgHMuNMDWgiicH3M=s64",
      "userId": "15449713203337175881"
     },
     "user_tz": -120
    },
    "id": "TlA3yjokdOyX",
    "outputId": "f6bc29d3-5eeb-45e5-e15b-1bccc1b63c91"
   },
   "outputs": [
    {
     "data": {
      "text/plain": [
       "{0: 'Class00',\n",
       " 1: 'Class01',\n",
       " 2: 'Class02',\n",
       " 3: 'Class03',\n",
       " 4: 'Class04',\n",
       " 5: 'Class05',\n",
       " 6: 'Class06',\n",
       " 7: 'Class07',\n",
       " 8: 'Class08',\n",
       " 9: 'Class09',\n",
       " 10: 'Class10',\n",
       " 11: 'Class11',\n",
       " 12: 'Class12',\n",
       " 13: 'Class13',\n",
       " 14: 'Class14',\n",
       " 15: 'Class15',\n",
       " 16: 'Class16',\n",
       " 17: 'Class17',\n",
       " 18: 'Class18',\n",
       " 19: 'Class19',\n",
       " 20: 'Class20',\n",
       " 21: 'Class21',\n",
       " 22: 'Class22',\n",
       " 23: 'Class23',\n",
       " 24: 'Class24',\n",
       " 25: 'Class25',\n",
       " 26: 'Class26',\n",
       " 27: 'Class27',\n",
       " 28: 'Class28',\n",
       " 29: 'Class29',\n",
       " 30: 'Class30',\n",
       " 31: 'Class31',\n",
       " 32: 'Class32',\n",
       " 33: 'Class33',\n",
       " 34: 'Class34',\n",
       " 35: 'Class35',\n",
       " 36: 'Class36',\n",
       " 37: 'Class37',\n",
       " 38: 'Class38',\n",
       " 39: 'Class39',\n",
       " 40: 'Class40',\n",
       " 41: 'Class41',\n",
       " 42: 'Class42'}"
      ]
     },
     "execution_count": 24,
     "metadata": {
      "tags": []
     },
     "output_type": "execute_result"
    }
   ],
   "source": [
    "new_dict"
   ]
  },
  {
   "cell_type": "code",
   "execution_count": 4,
   "metadata": {
    "colab": {
     "base_uri": "https://localhost:8080/",
     "height": 34
    },
    "colab_type": "code",
    "executionInfo": {
     "elapsed": 1744,
     "status": "ok",
     "timestamp": 1595456789923,
     "user": {
      "displayName": "Amandeep Singh",
      "photoUrl": "https://lh3.googleusercontent.com/a-/AOh14Gj1Ov_iaK_My4H8joP90ErnFLBHgHMuNMDWgiicH3M=s64",
      "userId": "15449713203337175881"
     },
     "user_tz": -120
    },
    "id": "-sfjx7O7khKT",
    "outputId": "1046baf7-f8f9-43e8-b371-ed75aac08ad8"
   },
   "outputs": [
    {
     "name": "stdout",
     "output_type": "stream",
     "text": [
      "/content/drive/My Drive/Colab Notebooks/DMML2/KaggleData\n"
     ]
    }
   ],
   "source": [
    "# Changing working directory\n",
    "\n",
    "%cd /content/drive/My Drive/Colab Notebooks/DMML2/KaggleData"
   ]
  },
  {
   "cell_type": "code",
   "execution_count": 32,
   "metadata": {
    "colab": {},
    "colab_type": "code",
    "executionInfo": {
     "elapsed": 743,
     "status": "ok",
     "timestamp": 1595459338811,
     "user": {
      "displayName": "Amandeep Singh",
      "photoUrl": "https://lh3.googleusercontent.com/a-/AOh14Gj1Ov_iaK_My4H8joP90ErnFLBHgHMuNMDWgiicH3M=s64",
      "userId": "15449713203337175881"
     },
     "user_tz": -120
    },
    "id": "KCafy6Y5YQXg"
   },
   "outputs": [],
   "source": [
    "# Paths and parameters.\n",
    "\n",
    "train_data_path = '../NumpyArrays/Cells.npy'\n",
    "train_label_path = '../NumpyArrays/Labels.npy'\n",
    "test_data_path = '../NumpyArrays/Cells_test.npy'\n",
    "test_label_path = '../NumpyArrays/Labels_test.npy'\n",
    "test_blur3_path = '../NumpyArrays/Cells_test_blur3.npy'\n",
    "test_blur5_path = '../NumpyArrays/Cells_test_blur5.npy'\n",
    "test_blur7_path = '../NumpyArrays/Cells_test_blur7.npy'\n",
    "visualization_path = '/content/drive/My Drive/Colab Notebooks/DMML2/Visualisations'\n",
    "\n",
    "height = 30\n",
    "width = 30\n",
    "channels = 3\n",
    "classes = 43\n",
    "n_inputs = height*width*channels"
   ]
  },
  {
   "cell_type": "markdown",
   "metadata": {
    "colab_type": "text",
    "id": "ZGXydEepXkuP"
   },
   "source": [
    "# Model"
   ]
  },
  {
   "cell_type": "code",
   "execution_count": 6,
   "metadata": {
    "colab": {},
    "colab_type": "code",
    "executionInfo": {
     "elapsed": 10552,
     "status": "ok",
     "timestamp": 1595456801711,
     "user": {
      "displayName": "Amandeep Singh",
      "photoUrl": "https://lh3.googleusercontent.com/a-/AOh14Gj1Ov_iaK_My4H8joP90ErnFLBHgHMuNMDWgiicH3M=s64",
      "userId": "15449713203337175881"
     },
     "user_tz": -120
    },
    "id": "OAfArDd48EFc"
   },
   "outputs": [],
   "source": [
    "# Loading Train Data.\n",
    "\n",
    "Cells = np.load(train_data_path)\n",
    "Labels = np.load(train_label_path)"
   ]
  },
  {
   "cell_type": "code",
   "execution_count": 7,
   "metadata": {
    "colab": {},
    "colab_type": "code",
    "executionInfo": {
     "elapsed": 9264,
     "status": "ok",
     "timestamp": 1595456801721,
     "user": {
      "displayName": "Amandeep Singh",
      "photoUrl": "https://lh3.googleusercontent.com/a-/AOh14Gj1Ov_iaK_My4H8joP90ErnFLBHgHMuNMDWgiicH3M=s64",
      "userId": "15449713203337175881"
     },
     "user_tz": -120
    },
    "id": "99x8i-t6eQCw"
   },
   "outputs": [],
   "source": [
    "# Randomize the order of the input images\n",
    "\n",
    "s = np.arange(Cells.shape[0])\n",
    "np.random.seed(43)\n",
    "np.random.shuffle(s)\n",
    "Cells = Cells[s]\n",
    "labels = Labels[s]"
   ]
  },
  {
   "cell_type": "code",
   "execution_count": 8,
   "metadata": {
    "colab": {},
    "colab_type": "code",
    "executionInfo": {
     "elapsed": 10251,
     "status": "ok",
     "timestamp": 1595456803454,
     "user": {
      "displayName": "Amandeep Singh",
      "photoUrl": "https://lh3.googleusercontent.com/a-/AOh14Gj1Ov_iaK_My4H8joP90ErnFLBHgHMuNMDWgiicH3M=s64",
      "userId": "15449713203337175881"
     },
     "user_tz": -120
    },
    "id": "VKJzKx1_hr0A"
   },
   "outputs": [],
   "source": [
    "# Spliting the images into train and validation sets\n",
    "(X_train, X_val) = Cells[(int)(0.2*len(labels)):], Cells[:(int)(0.2*len(labels))]\n",
    "\n",
    "X_train = X_train.astype('float32')/255 \n",
    "X_val = X_val.astype('float32')/255\n",
    "\n",
    "(y_train, y_val) = labels[(int)(0.2*len(labels)):], labels[:(int)(0.2*len(labels))]"
   ]
  },
  {
   "cell_type": "code",
   "execution_count": 9,
   "metadata": {
    "colab": {},
    "colab_type": "code",
    "executionInfo": {
     "elapsed": 8611,
     "status": "ok",
     "timestamp": 1595456803463,
     "user": {
      "displayName": "Amandeep Singh",
      "photoUrl": "https://lh3.googleusercontent.com/a-/AOh14Gj1Ov_iaK_My4H8joP90ErnFLBHgHMuNMDWgiicH3M=s64",
      "userId": "15449713203337175881"
     },
     "user_tz": -120
    },
    "id": "mLWdEHEph3Ig"
   },
   "outputs": [],
   "source": [
    "# Using one hote encoding for the train and validation labels\n",
    "\n",
    "y_train = to_categorical(y_train, 43)\n",
    "y_val = to_categorical(y_val, 43)"
   ]
  },
  {
   "cell_type": "code",
   "execution_count": 10,
   "metadata": {
    "colab": {
     "base_uri": "https://localhost:8080/",
     "height": 51
    },
    "colab_type": "code",
    "executionInfo": {
     "elapsed": 9376,
     "status": "ok",
     "timestamp": 1595456820824,
     "user": {
      "displayName": "Amandeep Singh",
      "photoUrl": "https://lh3.googleusercontent.com/a-/AOh14Gj1Ov_iaK_My4H8joP90ErnFLBHgHMuNMDWgiicH3M=s64",
      "userId": "15449713203337175881"
     },
     "user_tz": -120
    },
    "id": "Ij36phpRJKzq",
    "outputId": "fc5ce0f8-040f-4390-dab7-0f6a000b7338"
   },
   "outputs": [
    {
     "name": "stdout",
     "output_type": "stream",
     "text": [
      "Downloading data from https://storage.googleapis.com/tensorflow/keras-applications/vgg19/vgg19_weights_tf_dim_ordering_tf_kernels_notop.h5\n",
      "80142336/80134624 [==============================] - 0s 0us/step\n"
     ]
    }
   ],
   "source": [
    "from tensorflow.keras import layers, Model\n",
    "from tensorflow.keras.applications.vgg19 import VGG19\n",
    "from tensorflow.keras.optimizers import RMSprop\n",
    "\n",
    "#Load the VGG19 model\n",
    "vgg_model = VGG19(input_shape = (75, 75, 3), \n",
    "                        include_top = False, \n",
    "                        weights = 'imagenet')"
   ]
  },
  {
   "cell_type": "code",
   "execution_count": 11,
   "metadata": {
    "colab": {
     "base_uri": "https://localhost:8080/",
     "height": 34
    },
    "colab_type": "code",
    "executionInfo": {
     "elapsed": 8520,
     "status": "ok",
     "timestamp": 1595456820825,
     "user": {
      "displayName": "Amandeep Singh",
      "photoUrl": "https://lh3.googleusercontent.com/a-/AOh14Gj1Ov_iaK_My4H8joP90ErnFLBHgHMuNMDWgiicH3M=s64",
      "userId": "15449713203337175881"
     },
     "user_tz": -120
    },
    "id": "JO0btC_610z1",
    "outputId": "6d2f233e-4895-4145-dbde-7f075187ae24"
   },
   "outputs": [
    {
     "name": "stdout",
     "output_type": "stream",
     "text": [
      "last layer of vgg : output shape:  (None, 2, 2, 512)\n"
     ]
    }
   ],
   "source": [
    "for layer in vgg_model.layers:\n",
    "     layer.trainable = False\n",
    "\n",
    "# vgg_model.summary()\n",
    "\n",
    "last_layer = vgg_model.get_layer('block5_pool')\n",
    "print('last layer of vgg : output shape: ', last_layer.output_shape)\n",
    "last_output= last_layer.output\n",
    "\n",
    "x = layers.Flatten()(last_output)\n",
    "x = layers.Dense(1024, activation='relu')(x)\n",
    "x = layers.Dropout(0.2)(x)                  \n",
    "x = layers.Dense(43, activation='softmax')(x)           \n",
    "\n",
    "vgg_new_model = Model(vgg_model.input, x) \n",
    "\n",
    "vgg_new_model.compile(optimizer = RMSprop(lr=0.0001), \n",
    "              loss = 'categorical_crossentropy', \n",
    "              metrics = ['acc'])\n",
    "# vgg_new_model.summary()"
   ]
  },
  {
   "cell_type": "code",
   "execution_count": 12,
   "metadata": {
    "colab": {
     "base_uri": "https://localhost:8080/",
     "height": 731
    },
    "colab_type": "code",
    "executionInfo": {
     "elapsed": 998071,
     "status": "ok",
     "timestamp": 1595457822202,
     "user": {
      "displayName": "Amandeep Singh",
      "photoUrl": "https://lh3.googleusercontent.com/a-/AOh14Gj1Ov_iaK_My4H8joP90ErnFLBHgHMuNMDWgiicH3M=s64",
      "userId": "15449713203337175881"
     },
     "user_tz": -120
    },
    "id": "VTUQr8I510z7",
    "outputId": "e074b829-4bff-40fb-dc53-0db8bbbf2a6f"
   },
   "outputs": [
    {
     "name": "stdout",
     "output_type": "stream",
     "text": [
      "Epoch 1/20\n",
      "981/981 [==============================] - 50s 51ms/step - loss: 1.8783 - acc: 0.4744 - val_loss: 1.3704 - val_acc: 0.5983\n",
      "Epoch 2/20\n",
      "981/981 [==============================] - 50s 51ms/step - loss: 1.1878 - acc: 0.6531 - val_loss: 1.0294 - val_acc: 0.6980\n",
      "Epoch 3/20\n",
      "981/981 [==============================] - 50s 51ms/step - loss: 0.9314 - acc: 0.7280 - val_loss: 0.8583 - val_acc: 0.7496\n",
      "Epoch 4/20\n",
      "981/981 [==============================] - 50s 51ms/step - loss: 0.7806 - acc: 0.7680 - val_loss: 0.7563 - val_acc: 0.7748\n",
      "Epoch 5/20\n",
      "981/981 [==============================] - 49s 50ms/step - loss: 0.6742 - acc: 0.8016 - val_loss: 0.6761 - val_acc: 0.8008\n",
      "Epoch 6/20\n",
      "981/981 [==============================] - 49s 50ms/step - loss: 0.5956 - acc: 0.8220 - val_loss: 0.6143 - val_acc: 0.8081\n",
      "Epoch 7/20\n",
      "981/981 [==============================] - 50s 51ms/step - loss: 0.5360 - acc: 0.8413 - val_loss: 0.5654 - val_acc: 0.8258\n",
      "Epoch 8/20\n",
      "981/981 [==============================] - 49s 50ms/step - loss: 0.4863 - acc: 0.8558 - val_loss: 0.5570 - val_acc: 0.8294\n",
      "Epoch 9/20\n",
      "981/981 [==============================] - 49s 50ms/step - loss: 0.4425 - acc: 0.8692 - val_loss: 0.4792 - val_acc: 0.8581\n",
      "Epoch 10/20\n",
      "981/981 [==============================] - 49s 50ms/step - loss: 0.4071 - acc: 0.8801 - val_loss: 0.4598 - val_acc: 0.8660\n",
      "Epoch 11/20\n",
      "981/981 [==============================] - 49s 50ms/step - loss: 0.3764 - acc: 0.8900 - val_loss: 0.4533 - val_acc: 0.8582\n",
      "Epoch 12/20\n",
      "981/981 [==============================] - 49s 50ms/step - loss: 0.3501 - acc: 0.8941 - val_loss: 0.4326 - val_acc: 0.8635\n",
      "Epoch 13/20\n",
      "981/981 [==============================] - 49s 50ms/step - loss: 0.3269 - acc: 0.9026 - val_loss: 0.3994 - val_acc: 0.8823\n",
      "Epoch 14/20\n",
      "981/981 [==============================] - 49s 50ms/step - loss: 0.3063 - acc: 0.9094 - val_loss: 0.3816 - val_acc: 0.8845\n",
      "Epoch 15/20\n",
      "981/981 [==============================] - 49s 50ms/step - loss: 0.2885 - acc: 0.9135 - val_loss: 0.3730 - val_acc: 0.8831\n",
      "Epoch 16/20\n",
      "981/981 [==============================] - 49s 50ms/step - loss: 0.2718 - acc: 0.9190 - val_loss: 0.3542 - val_acc: 0.8916\n",
      "Epoch 17/20\n",
      "981/981 [==============================] - 49s 50ms/step - loss: 0.2571 - acc: 0.9246 - val_loss: 0.3353 - val_acc: 0.9009\n",
      "Epoch 18/20\n",
      "981/981 [==============================] - 49s 50ms/step - loss: 0.2425 - acc: 0.9277 - val_loss: 0.3173 - val_acc: 0.9036\n",
      "Epoch 19/20\n",
      "981/981 [==============================] - 49s 50ms/step - loss: 0.2302 - acc: 0.9307 - val_loss: 0.3139 - val_acc: 0.9063\n",
      "Epoch 20/20\n",
      "981/981 [==============================] - 49s 50ms/step - loss: 0.2190 - acc: 0.9349 - val_loss: 0.3066 - val_acc: 0.9086\n",
      "CPU times: user 3min 7s, sys: 57.1 s, total: 4min 4s\n",
      "Wall time: 16min 37s\n"
     ]
    }
   ],
   "source": [
    "#using ten epochs for the training and saving the accuracy for each epoch\n",
    "%%time\n",
    "epochs = 20\n",
    "history = vgg_new_model.fit(X_train, y_train, batch_size=32, \n",
    "                        epochs=epochs, validation_data = (X_val, y_val))"
   ]
  },
  {
   "cell_type": "code",
   "execution_count": 33,
   "metadata": {
    "colab": {
     "base_uri": "https://localhost:8080/",
     "height": 421
    },
    "colab_type": "code",
    "executionInfo": {
     "elapsed": 2224,
     "status": "ok",
     "timestamp": 1595459366644,
     "user": {
      "displayName": "Amandeep Singh",
      "photoUrl": "https://lh3.googleusercontent.com/a-/AOh14Gj1Ov_iaK_My4H8joP90ErnFLBHgHMuNMDWgiicH3M=s64",
      "userId": "15449713203337175881"
     },
     "user_tz": -120
    },
    "id": "RYV0eKbSUUIt",
    "outputId": "4cf91a54-9c93-4885-baf9-cda450275312"
   },
   "outputs": [
    {
     "data": {
      "image/png": "[encoded data removed]",
      "text/plain": [
       "<Figure size 900x400 with 2 Axes>"
      ]
     },
     "metadata": {
      "needs_background": "light",
      "tags": []
     },
     "output_type": "display_data"
    }
   ],
   "source": [
    "# Creating plots\n",
    "\n",
    "fig, ax = plt.subplots(nrows=1, ncols=2, figsize=(9, 4), dpi=100)\n",
    " \n",
    "fig.suptitle(\"VGG19 Model\", \n",
    "             fontdict = {'fontsize': 10, 'fontweight' : 3})\n",
    " \n",
    "ax[0].set_title('Accuracy vs Epochs')\n",
    "ax[0].plot(history.history['acc'], label='Training Acc')\n",
    "ax[0].plot(history.history['val_acc'], label='Val acc')\n",
    "ax[0].set_xlabel('Epochs', fontsize=10)\n",
    "ax[0].set_ylabel('Accuracy', fontsize=10)\n",
    "ax[0].legend(fontsize=10)\n",
    "ax[0].tick_params(axis='both', which='major', labelsize=8)\n",
    "ax[0].xaxis.set_ticks(np.arange(0, 21, 2))\n",
    " \n",
    "ax[1].set_title('Loss vs Epochs')\n",
    "ax[1].plot(history.history['loss'], label='Training Loss')\n",
    "ax[1].plot(history.history['val_loss'], label='Val Loss')\n",
    "ax[1].set_xlabel('Epochs', fontsize=10)\n",
    "ax[1].set_ylabel('Loss', fontsize=10)\n",
    "ax[1].legend(fontsize=10)\n",
    "ax[1].tick_params(axis='both', which='major', labelsize=8)\n",
    "ax[1].xaxis.set_ticks(np.arange(0, 21, 2))\n",
    "\n",
    "fig.savefig(os.path.join(visualization_path, 'VGG19_acc_loss.png'), \n",
    "            dpi=300, bbox_inches='tight')"
   ]
  },
  {
   "cell_type": "code",
   "execution_count": 15,
   "metadata": {
    "colab": {},
    "colab_type": "code",
    "executionInfo": {
     "elapsed": 21845,
     "status": "ok",
     "timestamp": 1595457852849,
     "user": {
      "displayName": "Amandeep Singh",
      "photoUrl": "https://lh3.googleusercontent.com/a-/AOh14Gj1Ov_iaK_My4H8joP90ErnFLBHgHMuNMDWgiicH3M=s64",
      "userId": "15449713203337175881"
     },
     "user_tz": -120
    },
    "id": "SAMsTpkdmz1z"
   },
   "outputs": [],
   "source": [
    "# Loading test data from saved files.\n",
    "\n",
    "# X_test = np.load(test_data_path)\n",
    "# y_test = np.load(test_label_path)\n",
    "\n",
    "# Loading test data from saved array files.\n",
    " \n",
    "X_test = np.load(test_data_path)\n",
    "X_test_3 = np.load(test_blur3_path)\n",
    "X_test_5 = np.load(test_blur5_path)\n",
    "X_test_7 = np.load(test_blur7_path)\n",
    "y_test = np.load(test_label_path)"
   ]
  },
  {
   "cell_type": "code",
   "execution_count": 16,
   "metadata": {
    "colab": {},
    "colab_type": "code",
    "executionInfo": {
     "elapsed": 16488,
     "status": "ok",
     "timestamp": 1595457856537,
     "user": {
      "displayName": "Amandeep Singh",
      "photoUrl": "https://lh3.googleusercontent.com/a-/AOh14Gj1Ov_iaK_My4H8joP90ErnFLBHgHMuNMDWgiicH3M=s64",
      "userId": "15449713203337175881"
     },
     "user_tz": -120
    },
    "id": "_le25zWtmz1_"
   },
   "outputs": [],
   "source": [
    "# X_test = X_test.astype('float32')/255 \n",
    "\n",
    "X_test = X_test.astype('float32')/255 \n",
    "X_test_3 = X_test_3.astype('float32')/255 \n",
    "X_test_5 = X_test_5.astype('float32')/255 \n",
    "X_test_7 = X_test_7.astype('float32')/255 "
   ]
  },
  {
   "cell_type": "code",
   "execution_count": 17,
   "metadata": {
    "colab": {},
    "colab_type": "code",
    "executionInfo": {
     "elapsed": 71930,
     "status": "ok",
     "timestamp": 1595457913636,
     "user": {
      "displayName": "Amandeep Singh",
      "photoUrl": "https://lh3.googleusercontent.com/a-/AOh14Gj1Ov_iaK_My4H8joP90ErnFLBHgHMuNMDWgiicH3M=s64",
      "userId": "15449713203337175881"
     },
     "user_tz": -120
    },
    "id": "d7mAqPPxmz2C"
   },
   "outputs": [],
   "source": [
    "# Predicting output.\n",
    "\n",
    "pred = vgg_new_model.predict(X_test)\n",
    "# print(pred.shape)\n",
    "pred_3 = vgg_new_model.predict(X_test_3)\n",
    "pred_5 = vgg_new_model.predict(X_test_5)\n",
    "pred_7 = vgg_new_model.predict(X_test_7)"
   ]
  },
  {
   "cell_type": "code",
   "execution_count": 25,
   "metadata": {
    "colab": {},
    "colab_type": "code",
    "executionInfo": {
     "elapsed": 1892,
     "status": "ok",
     "timestamp": 1595457942848,
     "user": {
      "displayName": "Amandeep Singh",
      "photoUrl": "https://lh3.googleusercontent.com/a-/AOh14Gj1Ov_iaK_My4H8joP90ErnFLBHgHMuNMDWgiicH3M=s64",
      "userId": "15449713203337175881"
     },
     "user_tz": -120
    },
    "id": "lzGPPNYQpyXA"
   },
   "outputs": [],
   "source": [
    "from sklearn.metrics import classification_report\n",
    "  \n",
    "traffic_sign_labels_list = [new_dict[i] for i in range(len(new_dict))]\n",
    "\n",
    "vgg_class = classification_report(y_test, np.argmax(pred, axis=1), \n",
    "                            target_names = traffic_sign_labels_list, output_dict = True)"
   ]
  },
  {
   "cell_type": "code",
   "execution_count": 26,
   "metadata": {
    "colab": {},
    "colab_type": "code",
    "executionInfo": {
     "elapsed": 1134,
     "status": "ok",
     "timestamp": 1595457944460,
     "user": {
      "displayName": "Amandeep Singh",
      "photoUrl": "https://lh3.googleusercontent.com/a-/AOh14Gj1Ov_iaK_My4H8joP90ErnFLBHgHMuNMDWgiicH3M=s64",
      "userId": "15449713203337175881"
     },
     "user_tz": -120
    },
    "id": "HoZnOkpwImjl"
   },
   "outputs": [],
   "source": [
    "vgg_class_3 = classification_report(y_test, np.argmax(pred_3, axis=1), \n",
    "                            target_names = traffic_sign_labels_list, output_dict = True)"
   ]
  },
  {
   "cell_type": "code",
   "execution_count": 27,
   "metadata": {
    "colab": {},
    "colab_type": "code",
    "executionInfo": {
     "elapsed": 884,
     "status": "ok",
     "timestamp": 1595457944966,
     "user": {
      "displayName": "Amandeep Singh",
      "photoUrl": "https://lh3.googleusercontent.com/a-/AOh14Gj1Ov_iaK_My4H8joP90ErnFLBHgHMuNMDWgiicH3M=s64",
      "userId": "15449713203337175881"
     },
     "user_tz": -120
    },
    "id": "qvhNDXANImjo"
   },
   "outputs": [],
   "source": [
    "vgg_class_5 = classification_report(y_test, np.argmax(pred_5, axis=1), \n",
    "                            target_names = traffic_sign_labels_list, output_dict = True)"
   ]
  },
  {
   "cell_type": "code",
   "execution_count": 28,
   "metadata": {
    "colab": {
     "base_uri": "https://localhost:8080/",
     "height": 85
    },
    "colab_type": "code",
    "executionInfo": {
     "elapsed": 1450,
     "status": "ok",
     "timestamp": 1595457946093,
     "user": {
      "displayName": "Amandeep Singh",
      "photoUrl": "https://lh3.googleusercontent.com/a-/AOh14Gj1Ov_iaK_My4H8joP90ErnFLBHgHMuNMDWgiicH3M=s64",
      "userId": "15449713203337175881"
     },
     "user_tz": -120
    },
    "id": "g2KpQUO3Imjq",
    "outputId": "b942d2d3-1bec-46d2-ecdc-d1a1786a1e03"
   },
   "outputs": [
    {
     "name": "stderr",
     "output_type": "stream",
     "text": [
      "/usr/local/lib/python3.6/dist-packages/sklearn/metrics/_classification.py:1272: UndefinedMetricWarning:\n",
      "\n",
      "Precision and F-score are ill-defined and being set to 0.0 in labels with no predicted samples. Use `zero_division` parameter to control this behavior.\n",
      "\n"
     ]
    }
   ],
   "source": [
    "vgg_class_7 = classification_report(y_test, np.argmax(pred_7, axis=1), \n",
    "                            target_names = traffic_sign_labels_list, output_dict = True)"
   ]
  },
  {
   "cell_type": "code",
   "execution_count": 29,
   "metadata": {
    "colab": {},
    "colab_type": "code",
    "executionInfo": {
     "elapsed": 1785,
     "status": "ok",
     "timestamp": 1595457949093,
     "user": {
      "displayName": "Amandeep Singh",
      "photoUrl": "https://lh3.googleusercontent.com/a-/AOh14Gj1Ov_iaK_My4H8joP90ErnFLBHgHMuNMDWgiicH3M=s64",
      "userId": "15449713203337175881"
     },
     "user_tz": -120
    },
    "id": "szLAc3E7pyXp"
   },
   "outputs": [],
   "source": [
    "vgg_df_top = pd.DataFrame(vgg_class).transpose().sort_values(by='f1-score', ascending=False)[:5]\n",
    "vgg_df_top.reset_index(inplace=True)\n",
    "vgg_df_bottom = pd.DataFrame(vgg_class).transpose().sort_values(by='f1-score', ascending=True)[:5]\n",
    "vgg_df_bottom.reset_index(inplace=True)\n",
    "\n",
    "vgg_df_top_3 = pd.DataFrame(vgg_class_3).transpose().sort_values(by='f1-score', ascending=False)[:5]\n",
    "vgg_df_top_3.reset_index(inplace=True)\n",
    "vgg_df_bottom_3 = pd.DataFrame(vgg_class_3).transpose().sort_values(by='f1-score', ascending=True)[:5]\n",
    "vgg_df_bottom_3.reset_index(inplace=True)\n",
    "\n",
    "vgg_df_top_5 = pd.DataFrame(vgg_class_5).transpose().sort_values(by='f1-score', ascending=False)[:5]\n",
    "vgg_df_top_5.reset_index(inplace=True)\n",
    "vgg_df_bottom_5 = pd.DataFrame(vgg_class_5).transpose().sort_values(by='f1-score', ascending=True)[:5]\n",
    "vgg_df_bottom_5.reset_index(inplace=True)\n",
    "\n",
    "vgg_df_top_7 = pd.DataFrame(vgg_class_7).transpose().sort_values(by='f1-score', ascending=False)[:5]\n",
    "vgg_df_top_7.reset_index(inplace=True)\n",
    "vgg_df_bottom_7 = pd.DataFrame(vgg_class_7).transpose().sort_values(by='f1-score', ascending=True)[:5]\n",
    "vgg_df_bottom_7.reset_index(inplace=True)"
   ]
  },
  {
   "cell_type": "code",
   "execution_count": 29,
   "metadata": {
    "colab": {},
    "colab_type": "code",
    "executionInfo": {
     "elapsed": 1122,
     "status": "ok",
     "timestamp": 1595457949105,
     "user": {
      "displayName": "Amandeep Singh",
      "photoUrl": "https://lh3.googleusercontent.com/a-/AOh14Gj1Ov_iaK_My4H8joP90ErnFLBHgHMuNMDWgiicH3M=s64",
      "userId": "15449713203337175881"
     },
     "user_tz": -120
    },
    "id": "TcFKYcIvpyXr"
   },
   "outputs": [],
   "source": []
  },
  {
   "cell_type": "code",
   "execution_count": 35,
   "metadata": {
    "colab": {
     "base_uri": "https://localhost:8080/",
     "height": 636
    },
    "colab_type": "code",
    "executionInfo": {
     "elapsed": 4772,
     "status": "ok",
     "timestamp": 1595459907162,
     "user": {
      "displayName": "Amandeep Singh",
      "photoUrl": "https://lh3.googleusercontent.com/a-/AOh14Gj1Ov_iaK_My4H8joP90ErnFLBHgHMuNMDWgiicH3M=s64",
      "userId": "15449713203337175881"
     },
     "user_tz": -120
    },
    "id": "YNdz-6tHIlme",
    "outputId": "c276337d-736d-464f-ce64-1bcf00023069"
   },
   "outputs": [
    {
     "data": {
      "image/png": "[encoded data removed]",
      "text/plain": [
       "<Figure size 576x576 with 8 Axes>"
      ]
     },
     "metadata": {
      "needs_background": "light",
      "tags": []
     },
     "output_type": "display_data"
    }
   ],
   "source": [
    "fig, ax = plt.subplots(nrows=4, ncols=2, figsize=(8, 8))\n",
    "# plt.title(\"Yoooo\", fontsize = 28, loc='center')\n",
    "\n",
    "sns.barplot(y = 'index', x = 'f1-score', data=vgg_df_top, ax=ax[0,0], color='#9c0000')\n",
    "ax[0,0].set_ylabel('Original')\n",
    "ax[0,0].set_title('Top 5 by f1-score')\n",
    "ax[0,0].set_xlabel(\"\")\n",
    "# ax[0,0].get_xaxis().set_visible(False)\n",
    "ax[0,0].grid(True)\n",
    "\n",
    "sns.barplot(y = 'index', x = 'f1-score', data=vgg_df_bottom, ax=ax[0,1], color='#f29999')\n",
    "ax[0,1].set_xlim([0, 1.0])\n",
    "ax[0,1].set_title('Bottom 5 by f1-score')\n",
    "# ax[0,1].get_xaxis().set_visible(False)\n",
    "ax[0,1].set_xlabel(\"\")\n",
    "ax[0,1].set_ylabel(\"\")\n",
    "# ax[0,1].get_yaxis().set_visible(False)\n",
    "ax[0,1].grid(True)\n",
    "\n",
    "sns.barplot(y = 'index', x = 'f1-score', data=vgg_df_top_3, ax=ax[1,0], color='#007F00')\n",
    "ax[1,0].set_xlabel(\"\")\n",
    "ax[1,0].set_ylabel('Blur 3x3')\n",
    "ax[1,0].set_xlim([0, 1.0])\n",
    "# ax[1,0].get_xaxis().set_visible(False)\n",
    "ax[1,0].grid(True)\n",
    "\n",
    "sns.barplot(y = 'index', x = 'f1-score', data=vgg_df_bottom_3, ax=ax[1,1], color='#7fe57f')\n",
    "ax[1,1].set_xlim([0, 1.0])\n",
    "# ax[1,1].get_xaxis().set_visible(False)\n",
    "ax[1,1].set_xlabel(\"\")\n",
    "ax[1,1].set_ylabel(\"\")\n",
    "ax[1,1].grid(True)\n",
    "# ax[1,1].get_yaxis().set_visible(False)\n",
    "\n",
    "sns.barplot(y = 'index', x = 'f1-score', data=vgg_df_top_5, ax=ax[2,0], color='#000070')\n",
    "ax[2,0].set_xlabel(\"\")\n",
    "ax[2,0].set_ylabel('Blur 5x5')\n",
    "ax[2,0].set_xlim([0, 1.0])\n",
    "# ax[2,0].get_xaxis().set_visible(False)\n",
    "ax[2,0].grid(True)\n",
    "\n",
    "sns.barplot(y = 'index', x = 'f1-score', data=vgg_df_bottom_5, ax=ax[2,1], color='#9999f2')\n",
    "ax[2,1].set_xlim([0, 1.0])\n",
    "# ax[2,1].get_xaxis().set_visible(False)\n",
    "ax[2,1].set_xlabel(\"\")\n",
    "ax[2,1].set_ylabel(\"\")\n",
    "ax[2,1].grid(True)\n",
    "# ax[2,1].get_yaxis().set_visible(False)\n",
    "\n",
    "sns.barplot(y = 'index', x = 'f1-score', data=vgg_df_top_7, ax=ax[3,0], color='#703800')\n",
    "ax[3,0].set_ylabel('Blur 7x7')\n",
    "ax[3,0].set_xlim([0, 1.0])\n",
    "ax[3,0].grid(True)\n",
    "\n",
    "sns.barplot(y = 'index', x = 'f1-score', data=vgg_df_bottom_7, ax=ax[3,1], color='#f2c599')\n",
    "ax[3,1].set_xlim([0, 1.0])\n",
    "ax[3,1].set_ylabel(\"\")\n",
    "ax[3,1].grid(True)\n",
    "# ax[3,1].get_yaxis().set_visible(False)\n",
    "\n",
    "fig.tight_layout(pad=0)\n",
    "fig.suptitle('VGG19', position=(0.5, 1.05), fontsize=20)\n",
    "\n",
    "fig.savefig(os.path.join(visualization_path, 'VGG19_f1_scores.png'), \n",
    "            dpi=300, bbox_inches='tight')"
   ]
  },
  {
   "cell_type": "code",
   "execution_count": null,
   "metadata": {
    "colab": {
     "base_uri": "https://localhost:8080/",
     "height": 341
    },
    "colab_type": "code",
    "executionInfo": {
     "elapsed": 906,
     "status": "error",
     "timestamp": 1595023035701,
     "user": {
      "displayName": "Amandeep Singh",
      "photoUrl": "https://lh3.googleusercontent.com/a-/AOh14Gj1Ov_iaK_My4H8joP90ErnFLBHgHMuNMDWgiicH3M=s64",
      "userId": "15449713203337175881"
     },
     "user_tz": -120
    },
    "id": "bVTQR8fwKbqz",
    "outputId": "dc92fb47-942e-421e-86a7-938b389d1600"
   },
   "outputs": [],
   "source": [
    "loss, acc = vgg_new_model.evaluate(X_test, y_test)\n",
    "print('Accuracy: ', acc, '\\nLoss    : ', loss)"
   ]
  },
  {
   "cell_type": "code",
   "execution_count": null,
   "metadata": {
    "colab": {
     "base_uri": "https://localhost:8080/",
     "height": 341
    },
    "colab_type": "code",
    "executionInfo": {
     "elapsed": 641,
     "status": "error",
     "timestamp": 1595031676975,
     "user": {
      "displayName": "Amandeep Singh",
      "photoUrl": "https://lh3.googleusercontent.com/a-/AOh14Gj1Ov_iaK_My4H8joP90ErnFLBHgHMuNMDWgiicH3M=s64",
      "userId": "15449713203337175881"
     },
     "user_tz": -120
    },
    "id": "1Lc6BjUVUUAg",
    "outputId": "f49b682a-6255-4ddd-ffd9-adfd4fc4c73b"
   },
   "outputs": [],
   "source": [
    "score = vgg_new_model.evaluate(X_test, y_test, verbose=1)\n",
    "\n",
    "print(score)"
   ]
  },
  {
   "cell_type": "code",
   "execution_count": null,
   "metadata": {
    "colab": {},
    "colab_type": "code",
    "id": "Nwuc3VfCIhT2"
   },
   "outputs": [],
   "source": [
    "# Saving the model\n",
    "vgg_new_model.save('vgg_new_model.h5')"
   ]
  },
  {
   "cell_type": "code",
   "execution_count": null,
   "metadata": {
    "colab": {
     "base_uri": "https://localhost:8080/",
     "height": 34
    },
    "colab_type": "code",
    "executionInfo": {
     "elapsed": 750,
     "status": "ok",
     "timestamp": 1595021967542,
     "user": {
      "displayName": "Amandeep Singh",
      "photoUrl": "https://lh3.googleusercontent.com/a-/AOh14Gj1Ov_iaK_My4H8joP90ErnFLBHgHMuNMDWgiicH3M=s64",
      "userId": "15449713203337175881"
     },
     "user_tz": -120
    },
    "id": "rnPk5Gr4IhRZ",
    "outputId": "c96b5448-f94a-49c9-c11f-2808f983e7ec"
   },
   "outputs": [
    {
     "name": "stdout",
     "output_type": "stream",
     "text": [
      "TensoFlow Version:  2.2.0\n"
     ]
    }
   ],
   "source": [
    "print('TensoFlow Version: ', tf.__version__)"
   ]
  },
  {
   "cell_type": "code",
   "execution_count": null,
   "metadata": {
    "colab": {},
    "colab_type": "code",
    "id": "WplHzz45t7uv"
   },
   "outputs": [],
   "source": [
    "del vgg_model, vgg_new_model"
   ]
  },
  {
   "cell_type": "code",
   "execution_count": null,
   "metadata": {
    "colab": {
     "base_uri": "https://localhost:8080/",
     "height": 34
    },
    "colab_type": "code",
    "executionInfo": {
     "elapsed": 954,
     "status": "ok",
     "timestamp": 1595025533911,
     "user": {
      "displayName": "Amandeep Singh",
      "photoUrl": "https://lh3.googleusercontent.com/a-/AOh14Gj1Ov_iaK_My4H8joP90ErnFLBHgHMuNMDWgiicH3M=s64",
      "userId": "15449713203337175881"
     },
     "user_tz": -120
    },
    "id": "bzXNoFlO7QQE",
    "outputId": "27c0d2fe-21e2-4860-ce4b-4f7a04a9ee08"
   },
   "outputs": [
    {
     "data": {
      "text/plain": [
       "10014"
      ]
     },
     "execution_count": 82,
     "metadata": {
      "tags": []
     },
     "output_type": "execute_result"
    }
   ],
   "source": [
    "gc.collect()"
   ]
  }
 ],
 "metadata": {
  "accelerator": "GPU",
  "colab": {
   "collapsed_sections": [],
   "name": "VGG19.ipynb",
   "provenance": []
  },
  "kernelspec": {
   "display_name": "Python 3",
   "language": "python",
   "name": "python3"
  },
  "language_info": {
   "codemirror_mode": {
    "name": "ipython",
    "version": 3
   },
   "file_extension": ".py",
   "mimetype": "text/x-python",
   "name": "python",
   "nbconvert_exporter": "python",
   "pygments_lexer": "ipython3",
   "version": "3.8.6"
  }
 },
 "nbformat": 4,
 "nbformat_minor": 4
}

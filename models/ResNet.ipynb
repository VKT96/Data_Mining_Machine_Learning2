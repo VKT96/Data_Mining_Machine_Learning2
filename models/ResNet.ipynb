{
 "cells": [
  {
   "cell_type": "markdown",
   "metadata": {
    "colab_type": "text",
    "id": "YkATW7yYme5J"
   },
   "source": [
    "## Imports and Drive Mounting"
   ]
  },
  {
   "cell_type": "code",
   "execution_count": 18,
   "metadata": {
    "colab": {},
    "colab_type": "code",
    "executionInfo": {
     "elapsed": 1661,
     "status": "ok",
     "timestamp": 1595463502124,
     "user": {
      "displayName": "Amandeep Singh",
      "photoUrl": "https://lh3.googleusercontent.com/a-/AOh14Gj1Ov_iaK_My4H8joP90ErnFLBHgHMuNMDWgiicH3M=s64",
      "userId": "15449713203337175881"
     },
     "user_tz": -120
    },
    "id": "WkHkRjNcZHP7"
   },
   "outputs": [],
   "source": [
    "import numpy as np\n",
    "import pandas as pd\n",
    "from PIL import Image\n",
    "import os\n",
    "import glob\n",
    "import cv2\n",
    "import random\n",
    "import shutil\n",
    "from sklearn.model_selection import train_test_split\n",
    "import matplotlib.pyplot as plt\n",
    "import gc\n",
    "import keras\n",
    "from keras import optimizers\n",
    "from keras.preprocessing.image import ImageDataGenerator\n",
    "from keras.preprocessing.image import img_to_array, load_img\n",
    "import tqdm.notebook as tq\n",
    "from sklearn.metrics import accuracy_score\n",
    "import tensorflow as tf\n",
    "from google.colab import output\n",
    "from keras.utils import to_categorical\n",
    "from keras.models import Sequential\n",
    "from keras.layers import Conv2D, MaxPool2D, Dense, Flatten, Dropout, GlobalAveragePooling2D\n",
    "import matplotlib.pyplot as plt\n",
    "import seaborn as sns\n",
    "sns.set()"
   ]
  },
  {
   "cell_type": "code",
   "execution_count": 5,
   "metadata": {
    "colab": {
     "base_uri": "https://localhost:8080/",
     "height": 34
    },
    "colab_type": "code",
    "executionInfo": {
     "elapsed": 1442,
     "status": "ok",
     "timestamp": 1595463413375,
     "user": {
      "displayName": "Amandeep Singh",
      "photoUrl": "https://lh3.googleusercontent.com/a-/AOh14Gj1Ov_iaK_My4H8joP90ErnFLBHgHMuNMDWgiicH3M=s64",
      "userId": "15449713203337175881"
     },
     "user_tz": -120
    },
    "id": "1w7FjbYHWxn6",
    "outputId": "503d96a8-dc78-4433-e888-31e21064972b"
   },
   "outputs": [
    {
     "name": "stdout",
     "output_type": "stream",
     "text": [
      "Drive already mounted at /content/drive; to attempt to forcibly remount, call drive.mount(\"/content/drive\", force_remount=True).\n"
     ]
    }
   ],
   "source": [
    "from google.colab import drive\n",
    "drive.mount('/content/drive')"
   ]
  },
  {
   "cell_type": "code",
   "execution_count": 5,
   "metadata": {
    "colab": {},
    "colab_type": "code",
    "executionInfo": {
     "elapsed": 1516,
     "status": "ok",
     "timestamp": 1595463418532,
     "user": {
      "displayName": "Amandeep Singh",
      "photoUrl": "https://lh3.googleusercontent.com/a-/AOh14Gj1Ov_iaK_My4H8joP90ErnFLBHgHMuNMDWgiicH3M=s64",
      "userId": "15449713203337175881"
     },
     "user_tz": -120
    },
    "id": "0fby8fWJ4f-Q"
   },
   "outputs": [],
   "source": []
  },
  {
   "cell_type": "code",
   "execution_count": 6,
   "metadata": {
    "colab": {},
    "colab_type": "code",
    "executionInfo": {
     "elapsed": 1431,
     "status": "ok",
     "timestamp": 1595463419087,
     "user": {
      "displayName": "Amandeep Singh",
      "photoUrl": "https://lh3.googleusercontent.com/a-/AOh14Gj1Ov_iaK_My4H8joP90ErnFLBHgHMuNMDWgiicH3M=s64",
      "userId": "15449713203337175881"
     },
     "user_tz": -120
    },
    "id": "p7me8dqer19G"
   },
   "outputs": [],
   "source": [
    "traffic_sign_labels = {0: '20 km/h',\n",
    "1:'30 km/h',\n",
    "2:'50 km/h',\n",
    "3:'60 km/h',\n",
    "4:'70 km/h',\n",
    "5:'80 km/h',\n",
    "6:'80 km/h end',\n",
    "7:'100 km/h',\n",
    "8:'120 km/h',\n",
    "9:'No overtaking',\n",
    "10:'No overtaking for trucks',\n",
    "11:'Crossroad with secondary way',\n",
    "12:'Main road',\n",
    "13:'Give way',\n",
    "14:'Stop',\n",
    "15:'Road up',\n",
    "16:'Road - trucks',\n",
    "17:'No Entry',\n",
    "18:'Other dangerous',\n",
    "19:'Turn left',\n",
    "20:'Turn right',\n",
    "21:'Winding road',\n",
    "22:'Hollow road',\n",
    "23:'Slippery road',\n",
    "24:'Narrowing road',\n",
    "25:'Roadwork',\n",
    "26:'Traffic light',\n",
    "27:'Pedestrian',\n",
    "28:'Children',\n",
    "29:'Cycle',\n",
    "30:'Snow',\n",
    "31:'Deer',\n",
    "32:'End of the limits',\n",
    "33:'Only right',\n",
    "34:'Only left',\n",
    "35:'Only straight',\n",
    "36:'Only straight and right',\n",
    "37:'Only straight and left',\n",
    "38:'Take right',\n",
    "39:'Take left',\n",
    "40:'Circle crossroad',\n",
    "41:'End of overtaking limit',\n",
    "42:'End of overtaking limit for track'\n",
    "}"
   ]
  },
  {
   "cell_type": "code",
   "execution_count": 7,
   "metadata": {
    "colab": {
     "base_uri": "https://localhost:8080/",
     "height": 119
    },
    "colab_type": "code",
    "executionInfo": {
     "elapsed": 2339,
     "status": "ok",
     "timestamp": 1595463421939,
     "user": {
      "displayName": "Amandeep Singh",
      "photoUrl": "https://lh3.googleusercontent.com/a-/AOh14Gj1Ov_iaK_My4H8joP90ErnFLBHgHMuNMDWgiicH3M=s64",
      "userId": "15449713203337175881"
     },
     "user_tz": -120
    },
    "id": "yKy_ZsHedP8m",
    "outputId": "ba7765d6-8e38-403a-d89a-69afd1b02e4c"
   },
   "outputs": [
    {
     "data": {
      "text/plain": [
       "0    20 km/h\n",
       "1    30 km/h\n",
       "2    50 km/h\n",
       "3    60 km/h\n",
       "4    70 km/h\n",
       "dtype: object"
      ]
     },
     "execution_count": 7,
     "metadata": {
      "tags": []
     },
     "output_type": "execute_result"
    }
   ],
   "source": [
    "traffic_sign_labels_series = pd.Series(traffic_sign_labels)\n",
    "traffic_sign_labels_series.head()"
   ]
  },
  {
   "cell_type": "code",
   "execution_count": 8,
   "metadata": {
    "colab": {},
    "colab_type": "code",
    "executionInfo": {
     "elapsed": 1831,
     "status": "ok",
     "timestamp": 1595463421940,
     "user": {
      "displayName": "Amandeep Singh",
      "photoUrl": "https://lh3.googleusercontent.com/a-/AOh14Gj1Ov_iaK_My4H8joP90ErnFLBHgHMuNMDWgiicH3M=s64",
      "userId": "15449713203337175881"
     },
     "user_tz": -120
    },
    "id": "V2IzB5zXdP_1"
   },
   "outputs": [],
   "source": [
    "traffic_class_list = [\"Class00\", \"Class01\", \"Class02\", \"Class03\", \"Class04\", \"Class05\", \"Class06\", \"Class07\", \"Class08\", \"Class09\", \n",
    " \"Class10\", \"Class11\", \"Class12\", \"Class13\", \"Class14\", \"Class15\", \"Class16\", \"Class17\", \"Class18\", \"Class19\", \n",
    " \"Class20\", \"Class21\", \"Class22\", \"Class23\", \"Class24\", \"Class25\", \"Class26\", \"Class27\", \"Class28\", \"Class29\", \n",
    " \"Class30\", \"Class31\", \"Class32\", \"Class33\", \"Class34\", \"Class35\", \"Class36\", \"Class37\", \"Class38\", \"Class39\", \n",
    " \"Class40\", \"Class41\", \"Class42\"]"
   ]
  },
  {
   "cell_type": "code",
   "execution_count": 9,
   "metadata": {
    "colab": {
     "base_uri": "https://localhost:8080/",
     "height": 119
    },
    "colab_type": "code",
    "executionInfo": {
     "elapsed": 1555,
     "status": "ok",
     "timestamp": 1595463421941,
     "user": {
      "displayName": "Amandeep Singh",
      "photoUrl": "https://lh3.googleusercontent.com/a-/AOh14Gj1Ov_iaK_My4H8joP90ErnFLBHgHMuNMDWgiicH3M=s64",
      "userId": "15449713203337175881"
     },
     "user_tz": -120
    },
    "id": "QB6zOLG-dOMT",
    "outputId": "3bdb7574-46a6-4350-be8a-475826b16cd5"
   },
   "outputs": [
    {
     "data": {
      "text/plain": [
       "0    Class00\n",
       "1    Class01\n",
       "2    Class02\n",
       "3    Class03\n",
       "4    Class04\n",
       "dtype: object"
      ]
     },
     "execution_count": 9,
     "metadata": {
      "tags": []
     },
     "output_type": "execute_result"
    }
   ],
   "source": [
    "traffic_class_series = pd.Series(traffic_class_list)\n",
    "traffic_class_series.head()"
   ]
  },
  {
   "cell_type": "code",
   "execution_count": 10,
   "metadata": {
    "colab": {
     "base_uri": "https://localhost:8080/",
     "height": 204
    },
    "colab_type": "code",
    "executionInfo": {
     "elapsed": 1183,
     "status": "ok",
     "timestamp": 1595463421942,
     "user": {
      "displayName": "Amandeep Singh",
      "photoUrl": "https://lh3.googleusercontent.com/a-/AOh14Gj1Ov_iaK_My4H8joP90ErnFLBHgHMuNMDWgiicH3M=s64",
      "userId": "15449713203337175881"
     },
     "user_tz": -120
    },
    "id": "JByr6DMjdOq_",
    "outputId": "88770874-4417-4a92-c909-7f0036666f75"
   },
   "outputs": [
    {
     "data": {
      "text/html": [
       "<div>\n",
       "<style scoped>\n",
       "    .dataframe tbody tr th:only-of-type {\n",
       "        vertical-align: middle;\n",
       "    }\n",
       "\n",
       "    .dataframe tbody tr th {\n",
       "        vertical-align: top;\n",
       "    }\n",
       "\n",
       "    .dataframe thead th {\n",
       "        text-align: right;\n",
       "    }\n",
       "</style>\n",
       "<table border=\"1\" class=\"dataframe\">\n",
       "  <thead>\n",
       "    <tr style=\"text-align: right;\">\n",
       "      <th></th>\n",
       "      <th>Class_Name_Index</th>\n",
       "      <th>Original_Class_Names</th>\n",
       "      <th>New_Class_Names</th>\n",
       "    </tr>\n",
       "  </thead>\n",
       "  <tbody>\n",
       "    <tr>\n",
       "      <th>0</th>\n",
       "      <td>0</td>\n",
       "      <td>20 km/h</td>\n",
       "      <td>Class00</td>\n",
       "    </tr>\n",
       "    <tr>\n",
       "      <th>1</th>\n",
       "      <td>1</td>\n",
       "      <td>30 km/h</td>\n",
       "      <td>Class01</td>\n",
       "    </tr>\n",
       "    <tr>\n",
       "      <th>2</th>\n",
       "      <td>2</td>\n",
       "      <td>50 km/h</td>\n",
       "      <td>Class02</td>\n",
       "    </tr>\n",
       "    <tr>\n",
       "      <th>3</th>\n",
       "      <td>3</td>\n",
       "      <td>60 km/h</td>\n",
       "      <td>Class03</td>\n",
       "    </tr>\n",
       "    <tr>\n",
       "      <th>4</th>\n",
       "      <td>4</td>\n",
       "      <td>70 km/h</td>\n",
       "      <td>Class04</td>\n",
       "    </tr>\n",
       "  </tbody>\n",
       "</table>\n",
       "</div>"
      ],
      "text/plain": [
       "   Class_Name_Index Original_Class_Names New_Class_Names\n",
       "0                 0              20 km/h         Class00\n",
       "1                 1              30 km/h         Class01\n",
       "2                 2              50 km/h         Class02\n",
       "3                 3              60 km/h         Class03\n",
       "4                 4              70 km/h         Class04"
      ]
     },
     "execution_count": 10,
     "metadata": {
      "tags": []
     },
     "output_type": "execute_result"
    }
   ],
   "source": [
    "traffic_sign_labels_df = pd.concat([traffic_sign_labels_series, \n",
    "                                    traffic_class_series], \n",
    "                                   axis=1)\n",
    "traffic_sign_labels_df.reset_index(inplace=True)\n",
    "traffic_sign_labels_df.rename(columns = {0:'Original_Class_Names', \n",
    "                                         1: 'New_Class_Names',\n",
    "                                         'index': 'Class_Name_Index'}, \n",
    "                              inplace = True)\n",
    "\n",
    "traffic_sign_labels_df.head()"
   ]
  },
  {
   "cell_type": "code",
   "execution_count": 11,
   "metadata": {
    "colab": {},
    "colab_type": "code",
    "executionInfo": {
     "elapsed": 954,
     "status": "ok",
     "timestamp": 1595463421944,
     "user": {
      "displayName": "Amandeep Singh",
      "photoUrl": "https://lh3.googleusercontent.com/a-/AOh14Gj1Ov_iaK_My4H8joP90ErnFLBHgHMuNMDWgiicH3M=s64",
      "userId": "15449713203337175881"
     },
     "user_tz": -120
    },
    "id": "GYHvAwXCdPCR"
   },
   "outputs": [],
   "source": [
    "new_dict = traffic_sign_labels_df['New_Class_Names'].to_dict()"
   ]
  },
  {
   "cell_type": "code",
   "execution_count": 12,
   "metadata": {
    "colab": {
     "base_uri": "https://localhost:8080/",
     "height": 748
    },
    "colab_type": "code",
    "executionInfo": {
     "elapsed": 1432,
     "status": "ok",
     "timestamp": 1595463426093,
     "user": {
      "displayName": "Amandeep Singh",
      "photoUrl": "https://lh3.googleusercontent.com/a-/AOh14Gj1Ov_iaK_My4H8joP90ErnFLBHgHMuNMDWgiicH3M=s64",
      "userId": "15449713203337175881"
     },
     "user_tz": -120
    },
    "id": "TlA3yjokdOyX",
    "outputId": "ed82b8cc-1047-4bfc-dcef-8cf6a17d8553"
   },
   "outputs": [
    {
     "data": {
      "text/plain": [
       "{0: 'Class00',\n",
       " 1: 'Class01',\n",
       " 2: 'Class02',\n",
       " 3: 'Class03',\n",
       " 4: 'Class04',\n",
       " 5: 'Class05',\n",
       " 6: 'Class06',\n",
       " 7: 'Class07',\n",
       " 8: 'Class08',\n",
       " 9: 'Class09',\n",
       " 10: 'Class10',\n",
       " 11: 'Class11',\n",
       " 12: 'Class12',\n",
       " 13: 'Class13',\n",
       " 14: 'Class14',\n",
       " 15: 'Class15',\n",
       " 16: 'Class16',\n",
       " 17: 'Class17',\n",
       " 18: 'Class18',\n",
       " 19: 'Class19',\n",
       " 20: 'Class20',\n",
       " 21: 'Class21',\n",
       " 22: 'Class22',\n",
       " 23: 'Class23',\n",
       " 24: 'Class24',\n",
       " 25: 'Class25',\n",
       " 26: 'Class26',\n",
       " 27: 'Class27',\n",
       " 28: 'Class28',\n",
       " 29: 'Class29',\n",
       " 30: 'Class30',\n",
       " 31: 'Class31',\n",
       " 32: 'Class32',\n",
       " 33: 'Class33',\n",
       " 34: 'Class34',\n",
       " 35: 'Class35',\n",
       " 36: 'Class36',\n",
       " 37: 'Class37',\n",
       " 38: 'Class38',\n",
       " 39: 'Class39',\n",
       " 40: 'Class40',\n",
       " 41: 'Class41',\n",
       " 42: 'Class42'}"
      ]
     },
     "execution_count": 12,
     "metadata": {
      "tags": []
     },
     "output_type": "execute_result"
    }
   ],
   "source": [
    "new_dict"
   ]
  },
  {
   "cell_type": "code",
   "execution_count": 13,
   "metadata": {
    "colab": {
     "base_uri": "https://localhost:8080/",
     "height": 34
    },
    "colab_type": "code",
    "executionInfo": {
     "elapsed": 1677,
     "status": "ok",
     "timestamp": 1595463428522,
     "user": {
      "displayName": "Amandeep Singh",
      "photoUrl": "https://lh3.googleusercontent.com/a-/AOh14Gj1Ov_iaK_My4H8joP90ErnFLBHgHMuNMDWgiicH3M=s64",
      "userId": "15449713203337175881"
     },
     "user_tz": -120
    },
    "id": "-sfjx7O7khKT",
    "outputId": "adc11374-d21e-4bc3-98fb-e6c5ce311857"
   },
   "outputs": [
    {
     "name": "stdout",
     "output_type": "stream",
     "text": [
      "/content/drive/My Drive/Colab Notebooks/DMML2/KaggleData\n"
     ]
    }
   ],
   "source": [
    "# Changing working directory\n",
    "\n",
    "%cd /content/drive/My Drive/Colab Notebooks/DMML2/KaggleData"
   ]
  },
  {
   "cell_type": "code",
   "execution_count": 14,
   "metadata": {
    "colab": {},
    "colab_type": "code",
    "executionInfo": {
     "elapsed": 1769,
     "status": "ok",
     "timestamp": 1595463428995,
     "user": {
      "displayName": "Amandeep Singh",
      "photoUrl": "https://lh3.googleusercontent.com/a-/AOh14Gj1Ov_iaK_My4H8joP90ErnFLBHgHMuNMDWgiicH3M=s64",
      "userId": "15449713203337175881"
     },
     "user_tz": -120
    },
    "id": "KCafy6Y5YQXg"
   },
   "outputs": [],
   "source": [
    "# Paths and parameters.\n",
    "\n",
    "train_data_path = '../NumpyArrays/Cells.npy'\n",
    "train_label_path = '../NumpyArrays/Labels.npy'\n",
    "test_data_path = '../NumpyArrays/Cells_test.npy'\n",
    "test_label_path = '../NumpyArrays/Labels_test.npy'\n",
    "test_blur3_path = '../NumpyArrays/Cells_test_blur3.npy'\n",
    "test_blur5_path = '../NumpyArrays/Cells_test_blur5.npy'\n",
    "test_blur7_path = '../NumpyArrays/Cells_test_blur7.npy'\n",
    "visualization_path = '/content/drive/My Drive/Colab Notebooks/DMML2/Visualisations'\n",
    "\n",
    "height = 30\n",
    "width = 30\n",
    "channels = 3\n",
    "classes = 43\n",
    "n_inputs = height*width*channels"
   ]
  },
  {
   "cell_type": "code",
   "execution_count": 24,
   "metadata": {
    "colab": {},
    "colab_type": "code",
    "executionInfo": {
     "elapsed": 1958,
     "status": "ok",
     "timestamp": 1595463963559,
     "user": {
      "displayName": "Amandeep Singh",
      "photoUrl": "https://lh3.googleusercontent.com/a-/AOh14Gj1Ov_iaK_My4H8joP90ErnFLBHgHMuNMDWgiicH3M=s64",
      "userId": "15449713203337175881"
     },
     "user_tz": -120
    },
    "id": "OAfArDd48EFc"
   },
   "outputs": [],
   "source": [
    "# Loading Train Data.\n",
    "\n",
    "Cells = np.load(train_data_path)\n",
    "Labels = np.load(train_label_path)"
   ]
  },
  {
   "cell_type": "code",
   "execution_count": 25,
   "metadata": {
    "colab": {},
    "colab_type": "code",
    "executionInfo": {
     "elapsed": 723,
     "status": "ok",
     "timestamp": 1595463963560,
     "user": {
      "displayName": "Amandeep Singh",
      "photoUrl": "https://lh3.googleusercontent.com/a-/AOh14Gj1Ov_iaK_My4H8joP90ErnFLBHgHMuNMDWgiicH3M=s64",
      "userId": "15449713203337175881"
     },
     "user_tz": -120
    },
    "id": "99x8i-t6eQCw"
   },
   "outputs": [],
   "source": [
    "# Randomize the order of the input images\n",
    "\n",
    "s = np.arange(Cells.shape[0])\n",
    "np.random.seed(43)\n",
    "np.random.shuffle(s)\n",
    "Cells = Cells[s]\n",
    "labels = Labels[s]"
   ]
  },
  {
   "cell_type": "code",
   "execution_count": 26,
   "metadata": {
    "colab": {},
    "colab_type": "code",
    "executionInfo": {
     "elapsed": 2167,
     "status": "ok",
     "timestamp": 1595463967287,
     "user": {
      "displayName": "Amandeep Singh",
      "photoUrl": "https://lh3.googleusercontent.com/a-/AOh14Gj1Ov_iaK_My4H8joP90ErnFLBHgHMuNMDWgiicH3M=s64",
      "userId": "15449713203337175881"
     },
     "user_tz": -120
    },
    "id": "VKJzKx1_hr0A"
   },
   "outputs": [],
   "source": [
    "# Spliting the images into train and validation sets\n",
    "(X_train, X_val) = Cells[(int)(0.2*len(labels)):], Cells[:(int)(0.2*len(labels))]\n",
    "\n",
    "X_train = X_train.astype('float32')/255 \n",
    "X_val = X_val.astype('float32')/255\n",
    "\n",
    "(y_train, y_val) = labels[(int)(0.2*len(labels)):], labels[:(int)(0.2*len(labels))]"
   ]
  },
  {
   "cell_type": "code",
   "execution_count": 27,
   "metadata": {
    "colab": {},
    "colab_type": "code",
    "executionInfo": {
     "elapsed": 909,
     "status": "ok",
     "timestamp": 1595463967289,
     "user": {
      "displayName": "Amandeep Singh",
      "photoUrl": "https://lh3.googleusercontent.com/a-/AOh14Gj1Ov_iaK_My4H8joP90ErnFLBHgHMuNMDWgiicH3M=s64",
      "userId": "15449713203337175881"
     },
     "user_tz": -120
    },
    "id": "mLWdEHEph3Ig"
   },
   "outputs": [],
   "source": [
    "# Using one hote encoding for the train and validation labels\n",
    "\n",
    "y_train = to_categorical(y_train, 43)\n",
    "y_val = to_categorical(y_val, 43)"
   ]
  },
  {
   "cell_type": "markdown",
   "metadata": {
    "colab_type": "text",
    "id": "PRF1KNJaFEuR"
   },
   "source": [
    "# Model"
   ]
  },
  {
   "cell_type": "code",
   "execution_count": 28,
   "metadata": {
    "colab": {
     "base_uri": "https://localhost:8080/",
     "height": 71
    },
    "colab_type": "code",
    "executionInfo": {
     "elapsed": 4035,
     "status": "ok",
     "timestamp": 1595463973706,
     "user": {
      "displayName": "Amandeep Singh",
      "photoUrl": "https://lh3.googleusercontent.com/a-/AOh14Gj1Ov_iaK_My4H8joP90ErnFLBHgHMuNMDWgiicH3M=s64",
      "userId": "15449713203337175881"
     },
     "user_tz": -120
    },
    "id": "Ij36phpRJKzq",
    "outputId": "eb3eecb1-0980-444f-a497-3880c5ba4654"
   },
   "outputs": [
    {
     "name": "stderr",
     "output_type": "stream",
     "text": [
      "/usr/local/lib/python3.6/dist-packages/keras_applications/resnet50.py:265: UserWarning: The output shape of `ResNet50(include_top=False)` has been changed since Keras 2.2.0.\n",
      "  warnings.warn('The output shape of `ResNet50(include_top=False)` '\n"
     ]
    }
   ],
   "source": [
    "from keras import layers\n",
    "from keras import Model\n",
    "from keras.applications.resnet50 import ResNet50\n",
    "from keras.optimizers import RMSprop, Adam\n",
    "\n",
    "#Load the resnet_model model\n",
    "resnet_model = ResNet50(input_shape = (75, 75, 3), \n",
    "                        include_top = False, \n",
    "                        weights = None)   "
   ]
  },
  {
   "cell_type": "code",
   "execution_count": 29,
   "metadata": {
    "colab": {},
    "colab_type": "code",
    "executionInfo": {
     "elapsed": 1445,
     "status": "ok",
     "timestamp": 1595463977290,
     "user": {
      "displayName": "Amandeep Singh",
      "photoUrl": "https://lh3.googleusercontent.com/a-/AOh14Gj1Ov_iaK_My4H8joP90ErnFLBHgHMuNMDWgiicH3M=s64",
      "userId": "15449713203337175881"
     },
     "user_tz": -120
    },
    "id": "JO0btC_610z1"
   },
   "outputs": [],
   "source": [
    "for layer in resnet_model.layers:\n",
    "     layer.trainable = False\n",
    "        \n",
    "# resnet_model.summary()\n",
    "# last_layer = resnet_model.get_layer('conv5_block3_out')\n",
    "# print('last layer output shape: ', last_layer.output_shape)\n",
    "# last_output = last_layer.output\n",
    "\n",
    "# x = resnet_model.output\n",
    "# x = GlobalAveragePooling2D()(x)\n",
    "# x = Dropout(0.5)(x)\n",
    "# predictions = Dense(43, activation= 'softmax')(x)\n",
    "resnet_x = resnet_model.output\n",
    "resnet_x = GlobalAveragePooling2D()(resnet_x)\n",
    "resnet_x = Dropout(0.5)(resnet_x)\n",
    "resnet_predictions = Dense(classes, activation= 'softmax')(resnet_x)\n",
    "\n",
    "# resnet_new_model = Model(resnet_model.input, x) \n",
    "resnet_new_model = Model(inputs = resnet_model.input, outputs = resnet_predictions)\n",
    "\n",
    "resnet_new_model.compile(optimizer = 'adam', \n",
    "              loss = 'categorical_crossentropy', \n",
    "              metrics = ['acc'])"
   ]
  },
  {
   "cell_type": "code",
   "execution_count": 30,
   "metadata": {
    "colab": {
     "base_uri": "https://localhost:8080/",
     "height": 817
    },
    "colab_type": "code",
    "executionInfo": {
     "elapsed": 401031,
     "status": "error",
     "timestamp": 1595464380805,
     "user": {
      "displayName": "Amandeep Singh",
      "photoUrl": "https://lh3.googleusercontent.com/a-/AOh14Gj1Ov_iaK_My4H8joP90ErnFLBHgHMuNMDWgiicH3M=s64",
      "userId": "15449713203337175881"
     },
     "user_tz": -120
    },
    "id": "VTUQr8I510z7",
    "outputId": "218c6e75-662d-4649-8a17-d5c440044b07"
   },
   "outputs": [
    {
     "name": "stdout",
     "output_type": "stream",
     "text": [
      "Train on 31368 samples, validate on 7841 samples\n",
      "Epoch 1/20\n",
      "31368/31368 [==============================] - 38s 1ms/step - loss: 4.6981 - acc: 0.0562 - val_loss: 259.7213 - val_acc: 0.0284\n",
      "Epoch 2/20\n",
      "31368/31368 [==============================] - 36s 1ms/step - loss: 4.3587 - acc: 0.0667 - val_loss: 271.9027 - val_acc: 0.0307\n",
      "Epoch 3/20\n",
      "31368/31368 [==============================] - 36s 1ms/step - loss: 4.2474 - acc: 0.0715 - val_loss: 183.6002 - val_acc: 0.0286\n",
      "Epoch 4/20\n",
      "31368/31368 [==============================] - 36s 1ms/step - loss: 4.2045 - acc: 0.0735 - val_loss: 232.7223 - val_acc: 0.0221\n",
      "Epoch 5/20\n",
      "31368/31368 [==============================] - 36s 1ms/step - loss: 4.2142 - acc: 0.0719 - val_loss: 207.6004 - val_acc: 0.0069\n",
      "Epoch 6/20\n",
      "31368/31368 [==============================] - 36s 1ms/step - loss: 4.2068 - acc: 0.0753 - val_loss: 186.7837 - val_acc: 0.0304\n",
      "Epoch 7/20\n",
      "31368/31368 [==============================] - 36s 1ms/step - loss: 4.1850 - acc: 0.0737 - val_loss: 210.3067 - val_acc: 0.0575\n",
      "Epoch 8/20\n",
      "31368/31368 [==============================] - 36s 1ms/step - loss: 4.2038 - acc: 0.0753 - val_loss: 269.0932 - val_acc: 0.0325\n",
      "Epoch 9/20\n",
      "31368/31368 [==============================] - 36s 1ms/step - loss: 4.2197 - acc: 0.0750 - val_loss: 305.7024 - val_acc: 0.0054\n",
      "Epoch 10/20\n",
      "31368/31368 [==============================] - 36s 1ms/step - loss: 4.2021 - acc: 0.0746 - val_loss: 199.2192 - val_acc: 0.0091\n",
      "Epoch 11/20\n",
      "31368/31368 [==============================] - 36s 1ms/step - loss: 4.1932 - acc: 0.0728 - val_loss: 177.6691 - val_acc: 0.0684\n",
      "Epoch 12/20\n",
      " 1504/31368 [>.............................] - ETA: 26s - loss: 4.1249 - acc: 0.0824"
     ]
    },
    {
     "ename": "KeyboardInterrupt",
     "evalue": "ignored",
     "output_type": "error",
     "traceback": [
      "\u001b[0;31m---------------------------------------------------------------------------\u001b[0m",
      "\u001b[0;31mKeyboardInterrupt\u001b[0m                         Traceback (most recent call last)",
      "\u001b[0;32m<ipython-input-30-bac14ac59c0c>\u001b[0m in \u001b[0;36m<module>\u001b[0;34m()\u001b[0m\n\u001b[0;32m----> 1\u001b[0;31m \u001b[0mget_ipython\u001b[0m\u001b[0;34m(\u001b[0m\u001b[0;34m)\u001b[0m\u001b[0;34m.\u001b[0m\u001b[0mrun_cell_magic\u001b[0m\u001b[0;34m(\u001b[0m\u001b[0;34m'time'\u001b[0m\u001b[0;34m,\u001b[0m \u001b[0;34m''\u001b[0m\u001b[0;34m,\u001b[0m \u001b[0;34m'epochs = 20\\nhistory = resnet_new_model.fit(X_train, y_train, batch_size=32, \\n                        epochs=epochs, validation_data = (X_val, y_val))'\u001b[0m\u001b[0;34m)\u001b[0m\u001b[0;34m\u001b[0m\u001b[0;34m\u001b[0m\u001b[0m\n\u001b[0m",
      "\u001b[0;32m/usr/local/lib/python3.6/dist-packages/IPython/core/interactiveshell.py\u001b[0m in \u001b[0;36mrun_cell_magic\u001b[0;34m(self, magic_name, line, cell)\u001b[0m\n\u001b[1;32m   2115\u001b[0m             \u001b[0mmagic_arg_s\u001b[0m \u001b[0;34m=\u001b[0m \u001b[0mself\u001b[0m\u001b[0;34m.\u001b[0m\u001b[0mvar_expand\u001b[0m\u001b[0;34m(\u001b[0m\u001b[0mline\u001b[0m\u001b[0;34m,\u001b[0m \u001b[0mstack_depth\u001b[0m\u001b[0;34m)\u001b[0m\u001b[0;34m\u001b[0m\u001b[0;34m\u001b[0m\u001b[0m\n\u001b[1;32m   2116\u001b[0m             \u001b[0;32mwith\u001b[0m \u001b[0mself\u001b[0m\u001b[0;34m.\u001b[0m\u001b[0mbuiltin_trap\u001b[0m\u001b[0;34m:\u001b[0m\u001b[0;34m\u001b[0m\u001b[0;34m\u001b[0m\u001b[0m\n\u001b[0;32m-> 2117\u001b[0;31m                 \u001b[0mresult\u001b[0m \u001b[0;34m=\u001b[0m \u001b[0mfn\u001b[0m\u001b[0;34m(\u001b[0m\u001b[0mmagic_arg_s\u001b[0m\u001b[0;34m,\u001b[0m \u001b[0mcell\u001b[0m\u001b[0;34m)\u001b[0m\u001b[0;34m\u001b[0m\u001b[0;34m\u001b[0m\u001b[0m\n\u001b[0m\u001b[1;32m   2118\u001b[0m             \u001b[0;32mreturn\u001b[0m \u001b[0mresult\u001b[0m\u001b[0;34m\u001b[0m\u001b[0;34m\u001b[0m\u001b[0m\n\u001b[1;32m   2119\u001b[0m \u001b[0;34m\u001b[0m\u001b[0m\n",
      "\u001b[0;32m<decorator-gen-60>\u001b[0m in \u001b[0;36mtime\u001b[0;34m(self, line, cell, local_ns)\u001b[0m\n",
      "\u001b[0;32m/usr/local/lib/python3.6/dist-packages/IPython/core/magic.py\u001b[0m in \u001b[0;36m<lambda>\u001b[0;34m(f, *a, **k)\u001b[0m\n\u001b[1;32m    186\u001b[0m     \u001b[0;31m# but it's overkill for just that one bit of state.\u001b[0m\u001b[0;34m\u001b[0m\u001b[0;34m\u001b[0m\u001b[0;34m\u001b[0m\u001b[0m\n\u001b[1;32m    187\u001b[0m     \u001b[0;32mdef\u001b[0m \u001b[0mmagic_deco\u001b[0m\u001b[0;34m(\u001b[0m\u001b[0marg\u001b[0m\u001b[0;34m)\u001b[0m\u001b[0;34m:\u001b[0m\u001b[0;34m\u001b[0m\u001b[0;34m\u001b[0m\u001b[0m\n\u001b[0;32m--> 188\u001b[0;31m         \u001b[0mcall\u001b[0m \u001b[0;34m=\u001b[0m \u001b[0;32mlambda\u001b[0m \u001b[0mf\u001b[0m\u001b[0;34m,\u001b[0m \u001b[0;34m*\u001b[0m\u001b[0ma\u001b[0m\u001b[0;34m,\u001b[0m \u001b[0;34m**\u001b[0m\u001b[0mk\u001b[0m\u001b[0;34m:\u001b[0m \u001b[0mf\u001b[0m\u001b[0;34m(\u001b[0m\u001b[0;34m*\u001b[0m\u001b[0ma\u001b[0m\u001b[0;34m,\u001b[0m \u001b[0;34m**\u001b[0m\u001b[0mk\u001b[0m\u001b[0;34m)\u001b[0m\u001b[0;34m\u001b[0m\u001b[0;34m\u001b[0m\u001b[0m\n\u001b[0m\u001b[1;32m    189\u001b[0m \u001b[0;34m\u001b[0m\u001b[0m\n\u001b[1;32m    190\u001b[0m         \u001b[0;32mif\u001b[0m \u001b[0mcallable\u001b[0m\u001b[0;34m(\u001b[0m\u001b[0marg\u001b[0m\u001b[0;34m)\u001b[0m\u001b[0;34m:\u001b[0m\u001b[0;34m\u001b[0m\u001b[0;34m\u001b[0m\u001b[0m\n",
      "\u001b[0;32m/usr/local/lib/python3.6/dist-packages/IPython/core/magics/execution.py\u001b[0m in \u001b[0;36mtime\u001b[0;34m(self, line, cell, local_ns)\u001b[0m\n\u001b[1;32m   1191\u001b[0m         \u001b[0;32melse\u001b[0m\u001b[0;34m:\u001b[0m\u001b[0;34m\u001b[0m\u001b[0;34m\u001b[0m\u001b[0m\n\u001b[1;32m   1192\u001b[0m             \u001b[0mst\u001b[0m \u001b[0;34m=\u001b[0m \u001b[0mclock2\u001b[0m\u001b[0;34m(\u001b[0m\u001b[0;34m)\u001b[0m\u001b[0;34m\u001b[0m\u001b[0;34m\u001b[0m\u001b[0m\n\u001b[0;32m-> 1193\u001b[0;31m             \u001b[0mexec\u001b[0m\u001b[0;34m(\u001b[0m\u001b[0mcode\u001b[0m\u001b[0;34m,\u001b[0m \u001b[0mglob\u001b[0m\u001b[0;34m,\u001b[0m \u001b[0mlocal_ns\u001b[0m\u001b[0;34m)\u001b[0m\u001b[0;34m\u001b[0m\u001b[0;34m\u001b[0m\u001b[0m\n\u001b[0m\u001b[1;32m   1194\u001b[0m             \u001b[0mend\u001b[0m \u001b[0;34m=\u001b[0m \u001b[0mclock2\u001b[0m\u001b[0;34m(\u001b[0m\u001b[0;34m)\u001b[0m\u001b[0;34m\u001b[0m\u001b[0;34m\u001b[0m\u001b[0m\n\u001b[1;32m   1195\u001b[0m             \u001b[0mout\u001b[0m \u001b[0;34m=\u001b[0m \u001b[0;32mNone\u001b[0m\u001b[0;34m\u001b[0m\u001b[0;34m\u001b[0m\u001b[0m\n",
      "\u001b[0;32m<timed exec>\u001b[0m in \u001b[0;36m<module>\u001b[0;34m()\u001b[0m\n",
      "\u001b[0;32m/usr/local/lib/python3.6/dist-packages/keras/engine/training.py\u001b[0m in \u001b[0;36mfit\u001b[0;34m(self, x, y, batch_size, epochs, verbose, callbacks, validation_split, validation_data, shuffle, class_weight, sample_weight, initial_epoch, steps_per_epoch, validation_steps, validation_freq, max_queue_size, workers, use_multiprocessing, **kwargs)\u001b[0m\n\u001b[1;32m   1237\u001b[0m                                         \u001b[0msteps_per_epoch\u001b[0m\u001b[0;34m=\u001b[0m\u001b[0msteps_per_epoch\u001b[0m\u001b[0;34m,\u001b[0m\u001b[0;34m\u001b[0m\u001b[0;34m\u001b[0m\u001b[0m\n\u001b[1;32m   1238\u001b[0m                                         \u001b[0mvalidation_steps\u001b[0m\u001b[0;34m=\u001b[0m\u001b[0mvalidation_steps\u001b[0m\u001b[0;34m,\u001b[0m\u001b[0;34m\u001b[0m\u001b[0;34m\u001b[0m\u001b[0m\n\u001b[0;32m-> 1239\u001b[0;31m                                         validation_freq=validation_freq)\n\u001b[0m\u001b[1;32m   1240\u001b[0m \u001b[0;34m\u001b[0m\u001b[0m\n\u001b[1;32m   1241\u001b[0m     def evaluate(self,\n",
      "\u001b[0;32m/usr/local/lib/python3.6/dist-packages/keras/engine/training_arrays.py\u001b[0m in \u001b[0;36mfit_loop\u001b[0;34m(model, fit_function, fit_inputs, out_labels, batch_size, epochs, verbose, callbacks, val_function, val_inputs, shuffle, initial_epoch, steps_per_epoch, validation_steps, validation_freq)\u001b[0m\n\u001b[1;32m    194\u001b[0m                     \u001b[0mins_batch\u001b[0m\u001b[0;34m[\u001b[0m\u001b[0mi\u001b[0m\u001b[0;34m]\u001b[0m \u001b[0;34m=\u001b[0m \u001b[0mins_batch\u001b[0m\u001b[0;34m[\u001b[0m\u001b[0mi\u001b[0m\u001b[0;34m]\u001b[0m\u001b[0;34m.\u001b[0m\u001b[0mtoarray\u001b[0m\u001b[0;34m(\u001b[0m\u001b[0;34m)\u001b[0m\u001b[0;34m\u001b[0m\u001b[0;34m\u001b[0m\u001b[0m\n\u001b[1;32m    195\u001b[0m \u001b[0;34m\u001b[0m\u001b[0m\n\u001b[0;32m--> 196\u001b[0;31m                 \u001b[0mouts\u001b[0m \u001b[0;34m=\u001b[0m \u001b[0mfit_function\u001b[0m\u001b[0;34m(\u001b[0m\u001b[0mins_batch\u001b[0m\u001b[0;34m)\u001b[0m\u001b[0;34m\u001b[0m\u001b[0;34m\u001b[0m\u001b[0m\n\u001b[0m\u001b[1;32m    197\u001b[0m                 \u001b[0mouts\u001b[0m \u001b[0;34m=\u001b[0m \u001b[0mto_list\u001b[0m\u001b[0;34m(\u001b[0m\u001b[0mouts\u001b[0m\u001b[0;34m)\u001b[0m\u001b[0;34m\u001b[0m\u001b[0;34m\u001b[0m\u001b[0m\n\u001b[1;32m    198\u001b[0m                 \u001b[0;32mfor\u001b[0m \u001b[0ml\u001b[0m\u001b[0;34m,\u001b[0m \u001b[0mo\u001b[0m \u001b[0;32min\u001b[0m \u001b[0mzip\u001b[0m\u001b[0;34m(\u001b[0m\u001b[0mout_labels\u001b[0m\u001b[0;34m,\u001b[0m \u001b[0mouts\u001b[0m\u001b[0;34m)\u001b[0m\u001b[0;34m:\u001b[0m\u001b[0;34m\u001b[0m\u001b[0;34m\u001b[0m\u001b[0m\n",
      "\u001b[0;32m/usr/local/lib/python3.6/dist-packages/tensorflow/python/keras/backend.py\u001b[0m in \u001b[0;36m__call__\u001b[0;34m(self, inputs)\u001b[0m\n\u001b[1;32m   3790\u001b[0m         \u001b[0mvalue\u001b[0m \u001b[0;34m=\u001b[0m \u001b[0mmath_ops\u001b[0m\u001b[0;34m.\u001b[0m\u001b[0mcast\u001b[0m\u001b[0;34m(\u001b[0m\u001b[0mvalue\u001b[0m\u001b[0;34m,\u001b[0m \u001b[0mtensor\u001b[0m\u001b[0;34m.\u001b[0m\u001b[0mdtype\u001b[0m\u001b[0;34m)\u001b[0m\u001b[0;34m\u001b[0m\u001b[0;34m\u001b[0m\u001b[0m\n\u001b[1;32m   3791\u001b[0m       \u001b[0mconverted_inputs\u001b[0m\u001b[0;34m.\u001b[0m\u001b[0mappend\u001b[0m\u001b[0;34m(\u001b[0m\u001b[0mvalue\u001b[0m\u001b[0;34m)\u001b[0m\u001b[0;34m\u001b[0m\u001b[0;34m\u001b[0m\u001b[0m\n\u001b[0;32m-> 3792\u001b[0;31m     \u001b[0moutputs\u001b[0m \u001b[0;34m=\u001b[0m \u001b[0mself\u001b[0m\u001b[0;34m.\u001b[0m\u001b[0m_graph_fn\u001b[0m\u001b[0;34m(\u001b[0m\u001b[0;34m*\u001b[0m\u001b[0mconverted_inputs\u001b[0m\u001b[0;34m)\u001b[0m\u001b[0;34m\u001b[0m\u001b[0;34m\u001b[0m\u001b[0m\n\u001b[0m\u001b[1;32m   3793\u001b[0m \u001b[0;34m\u001b[0m\u001b[0m\n\u001b[1;32m   3794\u001b[0m     \u001b[0;31m# EagerTensor.numpy() will often make a copy to ensure memory safety.\u001b[0m\u001b[0;34m\u001b[0m\u001b[0;34m\u001b[0m\u001b[0;34m\u001b[0m\u001b[0m\n",
      "\u001b[0;32m/usr/local/lib/python3.6/dist-packages/tensorflow/python/eager/function.py\u001b[0m in \u001b[0;36m__call__\u001b[0;34m(self, *args, **kwargs)\u001b[0m\n\u001b[1;32m   1603\u001b[0m       \u001b[0mTypeError\u001b[0m\u001b[0;34m:\u001b[0m \u001b[0mFor\u001b[0m \u001b[0minvalid\u001b[0m \u001b[0mpositional\u001b[0m\u001b[0;34m/\u001b[0m\u001b[0mkeyword\u001b[0m \u001b[0margument\u001b[0m \u001b[0mcombinations\u001b[0m\u001b[0;34m.\u001b[0m\u001b[0;34m\u001b[0m\u001b[0;34m\u001b[0m\u001b[0m\n\u001b[1;32m   1604\u001b[0m     \"\"\"\n\u001b[0;32m-> 1605\u001b[0;31m     \u001b[0;32mreturn\u001b[0m \u001b[0mself\u001b[0m\u001b[0;34m.\u001b[0m\u001b[0m_call_impl\u001b[0m\u001b[0;34m(\u001b[0m\u001b[0margs\u001b[0m\u001b[0;34m,\u001b[0m \u001b[0mkwargs\u001b[0m\u001b[0;34m)\u001b[0m\u001b[0;34m\u001b[0m\u001b[0;34m\u001b[0m\u001b[0m\n\u001b[0m\u001b[1;32m   1606\u001b[0m \u001b[0;34m\u001b[0m\u001b[0m\n\u001b[1;32m   1607\u001b[0m   \u001b[0;32mdef\u001b[0m \u001b[0m_call_impl\u001b[0m\u001b[0;34m(\u001b[0m\u001b[0mself\u001b[0m\u001b[0;34m,\u001b[0m \u001b[0margs\u001b[0m\u001b[0;34m,\u001b[0m \u001b[0mkwargs\u001b[0m\u001b[0;34m,\u001b[0m \u001b[0mcancellation_manager\u001b[0m\u001b[0;34m=\u001b[0m\u001b[0;32mNone\u001b[0m\u001b[0;34m)\u001b[0m\u001b[0;34m:\u001b[0m\u001b[0;34m\u001b[0m\u001b[0;34m\u001b[0m\u001b[0m\n",
      "\u001b[0;32m/usr/local/lib/python3.6/dist-packages/tensorflow/python/eager/function.py\u001b[0m in \u001b[0;36m_call_impl\u001b[0;34m(self, args, kwargs, cancellation_manager)\u001b[0m\n\u001b[1;32m   1643\u001b[0m       raise TypeError(\"Keyword arguments {} unknown. Expected {}.\".format(\n\u001b[1;32m   1644\u001b[0m           list(kwargs.keys()), list(self._arg_keywords)))\n\u001b[0;32m-> 1645\u001b[0;31m     \u001b[0;32mreturn\u001b[0m \u001b[0mself\u001b[0m\u001b[0;34m.\u001b[0m\u001b[0m_call_flat\u001b[0m\u001b[0;34m(\u001b[0m\u001b[0margs\u001b[0m\u001b[0;34m,\u001b[0m \u001b[0mself\u001b[0m\u001b[0;34m.\u001b[0m\u001b[0mcaptured_inputs\u001b[0m\u001b[0;34m,\u001b[0m \u001b[0mcancellation_manager\u001b[0m\u001b[0;34m)\u001b[0m\u001b[0;34m\u001b[0m\u001b[0;34m\u001b[0m\u001b[0m\n\u001b[0m\u001b[1;32m   1646\u001b[0m \u001b[0;34m\u001b[0m\u001b[0m\n\u001b[1;32m   1647\u001b[0m   \u001b[0;32mdef\u001b[0m \u001b[0m_filtered_call\u001b[0m\u001b[0;34m(\u001b[0m\u001b[0mself\u001b[0m\u001b[0;34m,\u001b[0m \u001b[0margs\u001b[0m\u001b[0;34m,\u001b[0m \u001b[0mkwargs\u001b[0m\u001b[0;34m)\u001b[0m\u001b[0;34m:\u001b[0m\u001b[0;34m\u001b[0m\u001b[0;34m\u001b[0m\u001b[0m\n",
      "\u001b[0;32m/usr/local/lib/python3.6/dist-packages/tensorflow/python/eager/function.py\u001b[0m in \u001b[0;36m_call_flat\u001b[0;34m(self, args, captured_inputs, cancellation_manager)\u001b[0m\n\u001b[1;32m   1744\u001b[0m       \u001b[0;31m# No tape is watching; skip to running the function.\u001b[0m\u001b[0;34m\u001b[0m\u001b[0;34m\u001b[0m\u001b[0;34m\u001b[0m\u001b[0m\n\u001b[1;32m   1745\u001b[0m       return self._build_call_outputs(self._inference_function.call(\n\u001b[0;32m-> 1746\u001b[0;31m           ctx, args, cancellation_manager=cancellation_manager))\n\u001b[0m\u001b[1;32m   1747\u001b[0m     forward_backward = self._select_forward_and_backward_functions(\n\u001b[1;32m   1748\u001b[0m         \u001b[0margs\u001b[0m\u001b[0;34m,\u001b[0m\u001b[0;34m\u001b[0m\u001b[0;34m\u001b[0m\u001b[0m\n",
      "\u001b[0;32m/usr/local/lib/python3.6/dist-packages/tensorflow/python/eager/function.py\u001b[0m in \u001b[0;36mcall\u001b[0;34m(self, ctx, args, cancellation_manager)\u001b[0m\n\u001b[1;32m    596\u001b[0m               \u001b[0minputs\u001b[0m\u001b[0;34m=\u001b[0m\u001b[0margs\u001b[0m\u001b[0;34m,\u001b[0m\u001b[0;34m\u001b[0m\u001b[0;34m\u001b[0m\u001b[0m\n\u001b[1;32m    597\u001b[0m               \u001b[0mattrs\u001b[0m\u001b[0;34m=\u001b[0m\u001b[0mattrs\u001b[0m\u001b[0;34m,\u001b[0m\u001b[0;34m\u001b[0m\u001b[0;34m\u001b[0m\u001b[0m\n\u001b[0;32m--> 598\u001b[0;31m               ctx=ctx)\n\u001b[0m\u001b[1;32m    599\u001b[0m         \u001b[0;32melse\u001b[0m\u001b[0;34m:\u001b[0m\u001b[0;34m\u001b[0m\u001b[0;34m\u001b[0m\u001b[0m\n\u001b[1;32m    600\u001b[0m           outputs = execute.execute_with_cancellation(\n",
      "\u001b[0;32m/usr/local/lib/python3.6/dist-packages/tensorflow/python/eager/execute.py\u001b[0m in \u001b[0;36mquick_execute\u001b[0;34m(op_name, num_outputs, inputs, attrs, ctx, name)\u001b[0m\n\u001b[1;32m     58\u001b[0m     \u001b[0mctx\u001b[0m\u001b[0;34m.\u001b[0m\u001b[0mensure_initialized\u001b[0m\u001b[0;34m(\u001b[0m\u001b[0;34m)\u001b[0m\u001b[0;34m\u001b[0m\u001b[0;34m\u001b[0m\u001b[0m\n\u001b[1;32m     59\u001b[0m     tensors = pywrap_tfe.TFE_Py_Execute(ctx._handle, device_name, op_name,\n\u001b[0;32m---> 60\u001b[0;31m                                         inputs, attrs, num_outputs)\n\u001b[0m\u001b[1;32m     61\u001b[0m   \u001b[0;32mexcept\u001b[0m \u001b[0mcore\u001b[0m\u001b[0;34m.\u001b[0m\u001b[0m_NotOkStatusException\u001b[0m \u001b[0;32mas\u001b[0m \u001b[0me\u001b[0m\u001b[0;34m:\u001b[0m\u001b[0;34m\u001b[0m\u001b[0;34m\u001b[0m\u001b[0m\n\u001b[1;32m     62\u001b[0m     \u001b[0;32mif\u001b[0m \u001b[0mname\u001b[0m \u001b[0;32mis\u001b[0m \u001b[0;32mnot\u001b[0m \u001b[0;32mNone\u001b[0m\u001b[0;34m:\u001b[0m\u001b[0;34m\u001b[0m\u001b[0;34m\u001b[0m\u001b[0m\n",
      "\u001b[0;31mKeyboardInterrupt\u001b[0m: "
     ]
    }
   ],
   "source": [
    "#using ten epochs for the training and saving the accuracy for each epoch\n",
    "%%time\n",
    "epochs = 20\n",
    "history = resnet_new_model.fit(X_train, y_train, batch_size=32, \n",
    "                        epochs=epochs, validation_data = (X_val, y_val))"
   ]
  },
  {
   "cell_type": "code",
   "execution_count": 26,
   "metadata": {
    "colab": {
     "base_uri": "https://localhost:8080/",
     "height": 421
    },
    "colab_type": "code",
    "executionInfo": {
     "elapsed": 462877,
     "status": "ok",
     "timestamp": 1595462794592,
     "user": {
      "displayName": "Amandeep Singh",
      "photoUrl": "https://lh3.googleusercontent.com/a-/AOh14Gj1Ov_iaK_My4H8joP90ErnFLBHgHMuNMDWgiicH3M=s64",
      "userId": "15449713203337175881"
     },
     "user_tz": -120
    },
    "id": "RYV0eKbSUUIt",
    "outputId": "ee986535-1406-456b-d649-965db15a6998"
   },
   "outputs": [
    {
     "data": {
      "image/png": "[encoded data removed]",
      "text/plain": [
       "<Figure size 900x400 with 2 Axes>"
      ]
     },
     "metadata": {
      "tags": []
     },
     "output_type": "display_data"
    }
   ],
   "source": [
    "fig, ax = plt.subplots(nrows=1, ncols=2, figsize=(9, 4), dpi=100)\n",
    " \n",
    "fig.suptitle(\"ResNet50 Model\", \n",
    "             fontdict = {'fontsize': 10, 'fontweight' : 3})\n",
    " \n",
    "ax[0].set_title('Accuracy vs Epochs')\n",
    "ax[0].plot(history.history['acc'], label='Training Acc')\n",
    "ax[0].plot(history.history['val_acc'], label='Val acc')\n",
    "ax[0].set_xlabel('Epochs', fontsize=10)\n",
    "ax[0].set_ylabel('Accuracy', fontsize=10)\n",
    "ax[0].legend(fontsize=10)\n",
    "ax[0].tick_params(axis='both', which='major', labelsize=8)\n",
    "ax[0].xaxis.set_ticks(np.arange(0, 21, 2))\n",
    " \n",
    "ax[1].set_title('Loss vs Epochs')\n",
    "ax[1].plot(history.history['loss'], label='Training Loss')\n",
    "ax[1].plot(history.history['val_loss'], label='Val Loss')\n",
    "ax[1].set_xlabel('Epochs', fontsize=10)\n",
    "ax[1].set_ylabel('Loss', fontsize=10)\n",
    "ax[1].legend(fontsize=10)\n",
    "ax[1].tick_params(axis='both', which='major', labelsize=8)\n",
    "ax[1].xaxis.set_ticks(np.arange(0, 21, 2))\n",
    " \n",
    "fig.savefig(os.path.join(visualization_path, 'ResNet50_acc_loss.png'), \n",
    "            dpi=300, bbox_inches='tight')"
   ]
  },
  {
   "cell_type": "code",
   "execution_count": 27,
   "metadata": {
    "colab": {},
    "colab_type": "code",
    "executionInfo": {
     "elapsed": 489966,
     "status": "ok",
     "timestamp": 1595462823805,
     "user": {
      "displayName": "Amandeep Singh",
      "photoUrl": "https://lh3.googleusercontent.com/a-/AOh14Gj1Ov_iaK_My4H8joP90ErnFLBHgHMuNMDWgiicH3M=s64",
      "userId": "15449713203337175881"
     },
     "user_tz": -120
    },
    "id": "EUQL3ek050qy"
   },
   "outputs": [],
   "source": [
    "# Loading test data from saved files.\n",
    "\n",
    "# X_test = np.load(test_data_path)\n",
    "# y_test = np.load(test_label_path)\n",
    "\n",
    "# Loading test data from saved array files.\n",
    " \n",
    "X_test = np.load(test_data_path)\n",
    "X_test_3 = np.load(test_blur3_path)\n",
    "X_test_5 = np.load(test_blur5_path)\n",
    "X_test_7 = np.load(test_blur7_path)\n",
    "y_test = np.load(test_label_path)"
   ]
  },
  {
   "cell_type": "code",
   "execution_count": 28,
   "metadata": {
    "colab": {},
    "colab_type": "code",
    "executionInfo": {
     "elapsed": 493838,
     "status": "ok",
     "timestamp": 1595462828112,
     "user": {
      "displayName": "Amandeep Singh",
      "photoUrl": "https://lh3.googleusercontent.com/a-/AOh14Gj1Ov_iaK_My4H8joP90ErnFLBHgHMuNMDWgiicH3M=s64",
      "userId": "15449713203337175881"
     },
     "user_tz": -120
    },
    "id": "jsADFi-X50rC"
   },
   "outputs": [],
   "source": [
    "# X_test = X_test.astype('float32')/255 \n",
    "\n",
    "X_test = X_test.astype('float32')/255 \n",
    "X_test_3 = X_test_3.astype('float32')/255 \n",
    "X_test_5 = X_test_5.astype('float32')/255 \n",
    "X_test_7 = X_test_7.astype('float32')/255 "
   ]
  },
  {
   "cell_type": "code",
   "execution_count": 29,
   "metadata": {
    "colab": {},
    "colab_type": "code",
    "executionInfo": {
     "elapsed": 523190,
     "status": "ok",
     "timestamp": 1595462857927,
     "user": {
      "displayName": "Amandeep Singh",
      "photoUrl": "https://lh3.googleusercontent.com/a-/AOh14Gj1Ov_iaK_My4H8joP90ErnFLBHgHMuNMDWgiicH3M=s64",
      "userId": "15449713203337175881"
     },
     "user_tz": -120
    },
    "id": "KvsJERa150rS"
   },
   "outputs": [],
   "source": [
    "# Predicting output.\n",
    "\n",
    "pred = resnet_new_model.predict(X_test)\n",
    "# print(pred.shape)\n",
    "pred_3 = resnet_new_model.predict(X_test_3)\n",
    "pred_5 = resnet_new_model.predict(X_test_5)\n",
    "pred_7 = resnet_new_model.predict(X_test_7)"
   ]
  },
  {
   "cell_type": "code",
   "execution_count": 29,
   "metadata": {
    "colab": {},
    "colab_type": "code",
    "executionInfo": {
     "elapsed": 521116,
     "status": "ok",
     "timestamp": 1595462857933,
     "user": {
      "displayName": "Amandeep Singh",
      "photoUrl": "https://lh3.googleusercontent.com/a-/AOh14Gj1Ov_iaK_My4H8joP90ErnFLBHgHMuNMDWgiicH3M=s64",
      "userId": "15449713203337175881"
     },
     "user_tz": -120
    },
    "id": "dS68eiMX6Siq"
   },
   "outputs": [],
   "source": []
  },
  {
   "cell_type": "code",
   "execution_count": 30,
   "metadata": {
    "colab": {
     "base_uri": "https://localhost:8080/",
     "height": 71
    },
    "colab_type": "code",
    "executionInfo": {
     "elapsed": 520270,
     "status": "ok",
     "timestamp": 1595462857934,
     "user": {
      "displayName": "Amandeep Singh",
      "photoUrl": "https://lh3.googleusercontent.com/a-/AOh14Gj1Ov_iaK_My4H8joP90ErnFLBHgHMuNMDWgiicH3M=s64",
      "userId": "15449713203337175881"
     },
     "user_tz": -120
    },
    "id": "lzGPPNYQpyXA",
    "outputId": "3ad69d24-e010-42d5-b0f1-cdfb0d3b8186"
   },
   "outputs": [
    {
     "name": "stderr",
     "output_type": "stream",
     "text": [
      "/usr/local/lib/python3.6/dist-packages/sklearn/metrics/_classification.py:1272: UndefinedMetricWarning: Precision and F-score are ill-defined and being set to 0.0 in labels with no predicted samples. Use `zero_division` parameter to control this behavior.\n",
      "  _warn_prf(average, modifier, msg_start, len(result))\n"
     ]
    }
   ],
   "source": [
    "from sklearn.metrics import classification_report\n",
    "  \n",
    "traffic_sign_labels_list = [new_dict[i] for i in range(len(new_dict))]\n",
    "\n",
    "resnet_class = classification_report(y_test, np.argmax(pred, axis=1), \n",
    "                            target_names = traffic_sign_labels_list, output_dict = True)"
   ]
  },
  {
   "cell_type": "code",
   "execution_count": 31,
   "metadata": {
    "colab": {
     "base_uri": "https://localhost:8080/",
     "height": 71
    },
    "colab_type": "code",
    "executionInfo": {
     "elapsed": 514687,
     "status": "ok",
     "timestamp": 1595462857935,
     "user": {
      "displayName": "Amandeep Singh",
      "photoUrl": "https://lh3.googleusercontent.com/a-/AOh14Gj1Ov_iaK_My4H8joP90ErnFLBHgHMuNMDWgiicH3M=s64",
      "userId": "15449713203337175881"
     },
     "user_tz": -120
    },
    "id": "HoZnOkpwImjl",
    "outputId": "c64852d9-436f-414f-c59f-4de76d505041"
   },
   "outputs": [
    {
     "name": "stderr",
     "output_type": "stream",
     "text": [
      "/usr/local/lib/python3.6/dist-packages/sklearn/metrics/_classification.py:1272: UndefinedMetricWarning: Precision and F-score are ill-defined and being set to 0.0 in labels with no predicted samples. Use `zero_division` parameter to control this behavior.\n",
      "  _warn_prf(average, modifier, msg_start, len(result))\n"
     ]
    }
   ],
   "source": [
    "resnet_class_3 = classification_report(y_test, np.argmax(pred_3, axis=1), \n",
    "                            target_names = traffic_sign_labels_list, output_dict = True)"
   ]
  },
  {
   "cell_type": "code",
   "execution_count": 32,
   "metadata": {
    "colab": {
     "base_uri": "https://localhost:8080/",
     "height": 71
    },
    "colab_type": "code",
    "executionInfo": {
     "elapsed": 513900,
     "status": "ok",
     "timestamp": 1595462857937,
     "user": {
      "displayName": "Amandeep Singh",
      "photoUrl": "https://lh3.googleusercontent.com/a-/AOh14Gj1Ov_iaK_My4H8joP90ErnFLBHgHMuNMDWgiicH3M=s64",
      "userId": "15449713203337175881"
     },
     "user_tz": -120
    },
    "id": "qvhNDXANImjo",
    "outputId": "60848c66-889e-4fa7-9b16-a366ea62d2d2"
   },
   "outputs": [
    {
     "name": "stderr",
     "output_type": "stream",
     "text": [
      "/usr/local/lib/python3.6/dist-packages/sklearn/metrics/_classification.py:1272: UndefinedMetricWarning: Precision and F-score are ill-defined and being set to 0.0 in labels with no predicted samples. Use `zero_division` parameter to control this behavior.\n",
      "  _warn_prf(average, modifier, msg_start, len(result))\n"
     ]
    }
   ],
   "source": [
    "resnet_class_5 = classification_report(y_test, np.argmax(pred_5, axis=1), \n",
    "                            target_names = traffic_sign_labels_list, output_dict = True)"
   ]
  },
  {
   "cell_type": "code",
   "execution_count": 33,
   "metadata": {
    "colab": {
     "base_uri": "https://localhost:8080/",
     "height": 71
    },
    "colab_type": "code",
    "executionInfo": {
     "elapsed": 512850,
     "status": "ok",
     "timestamp": 1595462857942,
     "user": {
      "displayName": "Amandeep Singh",
      "photoUrl": "https://lh3.googleusercontent.com/a-/AOh14Gj1Ov_iaK_My4H8joP90ErnFLBHgHMuNMDWgiicH3M=s64",
      "userId": "15449713203337175881"
     },
     "user_tz": -120
    },
    "id": "g2KpQUO3Imjq",
    "outputId": "7ab1b140-6ed0-4465-de89-63a725eaacfb"
   },
   "outputs": [
    {
     "name": "stderr",
     "output_type": "stream",
     "text": [
      "/usr/local/lib/python3.6/dist-packages/sklearn/metrics/_classification.py:1272: UndefinedMetricWarning: Precision and F-score are ill-defined and being set to 0.0 in labels with no predicted samples. Use `zero_division` parameter to control this behavior.\n",
      "  _warn_prf(average, modifier, msg_start, len(result))\n"
     ]
    }
   ],
   "source": [
    "resnet_class_7 = classification_report(y_test, np.argmax(pred_7, axis=1), \n",
    "                            target_names = traffic_sign_labels_list, output_dict = True)"
   ]
  },
  {
   "cell_type": "code",
   "execution_count": 34,
   "metadata": {
    "colab": {},
    "colab_type": "code",
    "executionInfo": {
     "elapsed": 512234,
     "status": "ok",
     "timestamp": 1595462857943,
     "user": {
      "displayName": "Amandeep Singh",
      "photoUrl": "https://lh3.googleusercontent.com/a-/AOh14Gj1Ov_iaK_My4H8joP90ErnFLBHgHMuNMDWgiicH3M=s64",
      "userId": "15449713203337175881"
     },
     "user_tz": -120
    },
    "id": "szLAc3E7pyXp"
   },
   "outputs": [],
   "source": [
    "resnet_df_top = pd.DataFrame(resnet_class).transpose().sort_values(by='f1-score', ascending=False)[:5]\n",
    "resnet_df_top.reset_index(inplace=True)\n",
    "resnet_df_bottom = pd.DataFrame(resnet_class).transpose().sort_values(by='f1-score', ascending=True)[:5]\n",
    "resnet_df_bottom.reset_index(inplace=True)\n",
    "\n",
    "resnet_df_top_3 = pd.DataFrame(resnet_class_3).transpose().sort_values(by='f1-score', ascending=False)[:5]\n",
    "resnet_df_top_3.reset_index(inplace=True)\n",
    "resnet_df_bottom_3 = pd.DataFrame(resnet_class_3).transpose().sort_values(by='f1-score', ascending=True)[:5]\n",
    "resnet_df_bottom_3.reset_index(inplace=True)\n",
    "\n",
    "resnet_df_top_5 = pd.DataFrame(resnet_class_5).transpose().sort_values(by='f1-score', ascending=False)[:5]\n",
    "resnet_df_top_5.reset_index(inplace=True)\n",
    "resnet_df_bottom_5 = pd.DataFrame(resnet_class_5).transpose().sort_values(by='f1-score', ascending=True)[:5]\n",
    "resnet_df_bottom_5.reset_index(inplace=True)\n",
    "\n",
    "resnet_df_top_7 = pd.DataFrame(resnet_class_7).transpose().sort_values(by='f1-score', ascending=False)[:5]\n",
    "resnet_df_top_7.reset_index(inplace=True)\n",
    "resnet_df_bottom_7 = pd.DataFrame(resnet_class_7).transpose().sort_values(by='f1-score', ascending=True)[:5]\n",
    "resnet_df_bottom_7.reset_index(inplace=True)"
   ]
  },
  {
   "cell_type": "code",
   "execution_count": 34,
   "metadata": {
    "colab": {},
    "colab_type": "code",
    "executionInfo": {
     "elapsed": 509996,
     "status": "ok",
     "timestamp": 1595462857944,
     "user": {
      "displayName": "Amandeep Singh",
      "photoUrl": "https://lh3.googleusercontent.com/a-/AOh14Gj1Ov_iaK_My4H8joP90ErnFLBHgHMuNMDWgiicH3M=s64",
      "userId": "15449713203337175881"
     },
     "user_tz": -120
    },
    "id": "TcFKYcIvpyXr"
   },
   "outputs": [],
   "source": []
  },
  {
   "cell_type": "code",
   "execution_count": 35,
   "metadata": {
    "colab": {
     "base_uri": "https://localhost:8080/",
     "height": 636
    },
    "colab_type": "code",
    "executionInfo": {
     "elapsed": 510807,
     "status": "ok",
     "timestamp": 1595462862637,
     "user": {
      "displayName": "Amandeep Singh",
      "photoUrl": "https://lh3.googleusercontent.com/a-/AOh14Gj1Ov_iaK_My4H8joP90ErnFLBHgHMuNMDWgiicH3M=s64",
      "userId": "15449713203337175881"
     },
     "user_tz": -120
    },
    "id": "YNdz-6tHIlme",
    "outputId": "71c83087-0946-4f29-a388-c40bc40b8d1f"
   },
   "outputs": [
    {
     "data": {
      "image/png": "[encoded data removed]",
      "text/plain": [
       "<Figure size 576x576 with 8 Axes>"
      ]
     },
     "metadata": {
      "tags": []
     },
     "output_type": "display_data"
    }
   ],
   "source": [
    "fig, ax = plt.subplots(nrows=4, ncols=2, figsize=(8, 8))\n",
    "\n",
    "sns.barplot(y = 'index', x = 'f1-score', data=resnet_df_top, ax=ax[0,0], color='#9c0000')\n",
    "ax[0,0].set_ylabel('Original')\n",
    "ax[0,0].set_title('Top 5 by f1-score')\n",
    "ax[0,0].set_xlabel(\"\")\n",
    "# ax[0,0].get_xaxis().set_visible(False)\n",
    "ax[0,0].grid(True)\n",
    "\n",
    "sns.barplot(y = 'index', x = 'f1-score', data=resnet_df_bottom, ax=ax[0,1], color='#f29999')\n",
    "ax[0,1].set_xlim([0, 1.0])\n",
    "ax[0,1].set_title('Bottom 5 by f1-score')\n",
    "# ax[0,1].get_xaxis().set_visible(False)\n",
    "ax[0,1].set_xlabel(\"\")\n",
    "ax[0,1].set_ylabel(\"\")\n",
    "# ax[0,1].get_yaxis().set_visible(False)\n",
    "ax[0,1].grid(True)\n",
    "\n",
    "sns.barplot(y = 'index', x = 'f1-score', data=resnet_df_top_3, ax=ax[1,0], color='#007F00')\n",
    "ax[1,0].set_xlabel(\"\")\n",
    "ax[1,0].set_ylabel('Blur 3x3')\n",
    "ax[1,0].set_xlim([0, 1.0])\n",
    "# ax[1,0].get_xaxis().set_visible(False)\n",
    "ax[1,0].grid(True)\n",
    "\n",
    "sns.barplot(y = 'index', x = 'f1-score', data=resnet_df_bottom_3, ax=ax[1,1], color='#7fe57f')\n",
    "ax[1,1].set_xlim([0, 1.0])\n",
    "# ax[1,1].get_xaxis().set_visible(False)\n",
    "ax[1,1].set_xlabel(\"\")\n",
    "ax[1,1].set_ylabel(\"\")\n",
    "ax[1,1].grid(True)\n",
    "# ax[1,1].get_yaxis().set_visible(False)\n",
    "\n",
    "sns.barplot(y = 'index', x = 'f1-score', data=resnet_df_top_5, ax=ax[2,0], color='#000070')\n",
    "ax[2,0].set_xlabel(\"\")\n",
    "ax[2,0].set_ylabel('Blur 5x5')\n",
    "ax[2,0].set_xlim([0, 1.0])\n",
    "# ax[2,0].get_xaxis().set_visible(False)\n",
    "ax[2,0].grid(True)\n",
    "\n",
    "sns.barplot(y = 'index', x = 'f1-score', data=resnet_df_bottom_5, ax=ax[2,1], color='#9999f2')\n",
    "ax[2,1].set_xlim([0, 1.0])\n",
    "# ax[2,1].get_xaxis().set_visible(False)\n",
    "ax[2,1].set_xlabel(\"\")\n",
    "ax[2,1].set_ylabel(\"\")\n",
    "ax[2,1].grid(True)\n",
    "# ax[2,1].get_yaxis().set_visible(False)\n",
    "\n",
    "sns.barplot(y = 'index', x = 'f1-score', data=resnet_df_top_7, ax=ax[3,0], color='#703800')\n",
    "ax[3,0].set_ylabel('Blur 7x7')\n",
    "ax[3,0].set_xlim([0, 1.0])\n",
    "ax[3,0].grid(True)\n",
    "\n",
    "sns.barplot(y = 'index', x = 'f1-score', data=resnet_df_bottom_7, ax=ax[3,1], color='#f2c599')\n",
    "ax[3,1].set_xlim([0, 1.0])\n",
    "ax[3,1].set_ylabel(\"\")\n",
    "ax[3,1].grid(True)\n",
    "# ax[3,1].get_yaxis().set_visible(False)\n",
    "\n",
    "fig.tight_layout(pad=0)\n",
    "fig.suptitle('ResNet50', position=(0.5, 1.05), fontsize=20)\n",
    "\n",
    "fig.savefig(os.path.join(visualization_path, 'ResNet50_f1_scores.png'), \n",
    "            dpi=300, bbox_inches='tight')"
   ]
  },
  {
   "cell_type": "code",
   "execution_count": null,
   "metadata": {
    "colab": {},
    "colab_type": "code",
    "id": "n8LoLw3S6Se9"
   },
   "outputs": [],
   "source": []
  }
 ],
 "metadata": {
  "accelerator": "GPU",
  "colab": {
   "collapsed_sections": [],
   "name": "ResNet.ipynb",
   "provenance": []
  },
  "kernelspec": {
   "display_name": "Python 3",
   "language": "python",
   "name": "python3"
  },
  "language_info": {
   "codemirror_mode": {
    "name": "ipython",
    "version": 3
   },
   "file_extension": ".py",
   "mimetype": "text/x-python",
   "name": "python",
   "nbconvert_exporter": "python",
   "pygments_lexer": "ipython3",
   "version": "3.8.6"
  }
 },
 "nbformat": 4,
 "nbformat_minor": 4
}

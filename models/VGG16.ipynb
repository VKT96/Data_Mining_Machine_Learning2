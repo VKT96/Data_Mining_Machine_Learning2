{
 "cells": [
  {
   "cell_type": "markdown",
   "metadata": {
    "colab_type": "text",
    "id": "YkATW7yYme5J"
   },
   "source": [
    "## Imports and Drive Mounting"
   ]
  },
  {
   "cell_type": "code",
   "execution_count": 11,
   "metadata": {
    "colab": {},
    "colab_type": "code",
    "executionInfo": {
     "elapsed": 523,
     "status": "ok",
     "timestamp": 1595464575871,
     "user": {
      "displayName": "Amandeep Singh",
      "photoUrl": "https://lh3.googleusercontent.com/a-/AOh14Gj1Ov_iaK_My4H8joP90ErnFLBHgHMuNMDWgiicH3M=s64",
      "userId": "15449713203337175881"
     },
     "user_tz": -120
    },
    "id": "WkHkRjNcZHP7"
   },
   "outputs": [],
   "source": [
    "import numpy as np\n",
    "import pandas as pd\n",
    "from PIL import Image\n",
    "import os\n",
    "import glob\n",
    "import cv2\n",
    "import random\n",
    "import shutil\n",
    "from sklearn.model_selection import train_test_split\n",
    "import matplotlib.pyplot as plt\n",
    "import gc\n",
    "import keras\n",
    "from keras import optimizers\n",
    "from keras.preprocessing.image import ImageDataGenerator\n",
    "from keras.preprocessing.image import img_to_array, load_img\n",
    "import tqdm.notebook as tq\n",
    "from sklearn.metrics import accuracy_score\n",
    "import tensorflow as tf\n",
    "from google.colab import output\n",
    "from keras.utils import to_categorical\n",
    "from keras.models import Sequential\n",
    "from keras.layers import Conv2D, MaxPool2D, Dense, Flatten, Dropout\n",
    "import matplotlib.pyplot as plt\n",
    "import seaborn as sns\n",
    "sns.set()"
   ]
  },
  {
   "cell_type": "code",
   "execution_count": null,
   "metadata": {
    "colab": {
     "base_uri": "https://localhost:8080/",
     "height": 528
    },
    "colab_type": "code",
    "executionInfo": {
     "elapsed": 7232,
     "status": "error",
     "timestamp": 1595464586919,
     "user": {
      "displayName": "Amandeep Singh",
      "photoUrl": "https://lh3.googleusercontent.com/a-/AOh14Gj1Ov_iaK_My4H8joP90ErnFLBHgHMuNMDWgiicH3M=s64",
      "userId": "15449713203337175881"
     },
     "user_tz": -120
    },
    "id": "1w7FjbYHWxn6",
    "outputId": "1c16a236-a278-4a8e-903f-cbbcd095c84d"
   },
   "outputs": [],
   "source": [
    "from google.colab import drive\n",
    "drive.mount('/content/drive')"
   ]
  },
  {
   "cell_type": "code",
   "execution_count": null,
   "metadata": {
    "colab": {},
    "colab_type": "code",
    "id": "PShviQfYV0Q2"
   },
   "outputs": [],
   "source": []
  },
  {
   "cell_type": "code",
   "execution_count": null,
   "metadata": {
    "colab": {},
    "colab_type": "code",
    "id": "p7me8dqer19G"
   },
   "outputs": [],
   "source": [
    "traffic_sign_labels = {0: '20 km/h',\n",
    "1:'30 km/h',\n",
    "2:'50 km/h',\n",
    "3:'60 km/h',\n",
    "4:'70 km/h',\n",
    "5:'80 km/h',\n",
    "6:'80 km/h end',\n",
    "7:'100 km/h',\n",
    "8:'120 km/h',\n",
    "9:'No overtaking',\n",
    "10:'No overtaking for trucks',\n",
    "11:'Crossroad with secondary way',\n",
    "12:'Main road',\n",
    "13:'Give way',\n",
    "14:'Stop',\n",
    "15:'Road up',\n",
    "16:'Road - trucks',\n",
    "17:'No Entry',\n",
    "18:'Other dangerous',\n",
    "19:'Turn left',\n",
    "20:'Turn right',\n",
    "21:'Winding road',\n",
    "22:'Hollow road',\n",
    "23:'Slippery road',\n",
    "24:'Narrowing road',\n",
    "25:'Roadwork',\n",
    "26:'Traffic light',\n",
    "27:'Pedestrian',\n",
    "28:'Children',\n",
    "29:'Cycle',\n",
    "30:'Snow',\n",
    "31:'Deer',\n",
    "32:'End of the limits',\n",
    "33:'Only right',\n",
    "34:'Only left',\n",
    "35:'Only straight',\n",
    "36:'Only straight and right',\n",
    "37:'Only straight and left',\n",
    "38:'Take right',\n",
    "39:'Take left',\n",
    "40:'Circle crossroad',\n",
    "41:'End of overtaking limit',\n",
    "42:'End of overtaking limit for track'\n",
    "}"
   ]
  },
  {
   "cell_type": "code",
   "execution_count": null,
   "metadata": {
    "colab": {
     "base_uri": "https://localhost:8080/",
     "height": 119
    },
    "colab_type": "code",
    "executionInfo": {
     "elapsed": 1582,
     "status": "ok",
     "timestamp": 1595459570514,
     "user": {
      "displayName": "Amandeep Singh",
      "photoUrl": "https://lh3.googleusercontent.com/a-/AOh14Gj1Ov_iaK_My4H8joP90ErnFLBHgHMuNMDWgiicH3M=s64",
      "userId": "15449713203337175881"
     },
     "user_tz": -120
    },
    "id": "yKy_ZsHedP8m",
    "outputId": "00183839-526c-452d-96fa-d04d28488ff1"
   },
   "outputs": [
    {
     "data": {
      "text/plain": [
       "0    20 km/h\n",
       "1    30 km/h\n",
       "2    50 km/h\n",
       "3    60 km/h\n",
       "4    70 km/h\n",
       "dtype: object"
      ]
     },
     "execution_count": 4,
     "metadata": {
      "tags": []
     },
     "output_type": "execute_result"
    }
   ],
   "source": [
    "traffic_sign_labels_series = pd.Series(traffic_sign_labels)\n",
    "traffic_sign_labels_series.head()"
   ]
  },
  {
   "cell_type": "code",
   "execution_count": null,
   "metadata": {
    "colab": {},
    "colab_type": "code",
    "id": "V2IzB5zXdP_1"
   },
   "outputs": [],
   "source": [
    "traffic_class_list = [\"Class00\", \"Class01\", \"Class02\", \"Class03\", \"Class04\", \"Class05\", \"Class06\", \"Class07\", \"Class08\", \"Class09\", \n",
    " \"Class10\", \"Class11\", \"Class12\", \"Class13\", \"Class14\", \"Class15\", \"Class16\", \"Class17\", \"Class18\", \"Class19\", \n",
    " \"Class20\", \"Class21\", \"Class22\", \"Class23\", \"Class24\", \"Class25\", \"Class26\", \"Class27\", \"Class28\", \"Class29\", \n",
    " \"Class30\", \"Class31\", \"Class32\", \"Class33\", \"Class34\", \"Class35\", \"Class36\", \"Class37\", \"Class38\", \"Class39\", \n",
    " \"Class40\", \"Class41\", \"Class42\"]"
   ]
  },
  {
   "cell_type": "code",
   "execution_count": null,
   "metadata": {
    "colab": {
     "base_uri": "https://localhost:8080/",
     "height": 119
    },
    "colab_type": "code",
    "executionInfo": {
     "elapsed": 875,
     "status": "ok",
     "timestamp": 1595459570517,
     "user": {
      "displayName": "Amandeep Singh",
      "photoUrl": "https://lh3.googleusercontent.com/a-/AOh14Gj1Ov_iaK_My4H8joP90ErnFLBHgHMuNMDWgiicH3M=s64",
      "userId": "15449713203337175881"
     },
     "user_tz": -120
    },
    "id": "QB6zOLG-dOMT",
    "outputId": "9617d25f-6b9a-48ad-ef7d-970f2b4e87f3"
   },
   "outputs": [
    {
     "data": {
      "text/plain": [
       "0    Class00\n",
       "1    Class01\n",
       "2    Class02\n",
       "3    Class03\n",
       "4    Class04\n",
       "dtype: object"
      ]
     },
     "execution_count": 6,
     "metadata": {
      "tags": []
     },
     "output_type": "execute_result"
    }
   ],
   "source": [
    "traffic_class_series = pd.Series(traffic_class_list)\n",
    "traffic_class_series.head()"
   ]
  },
  {
   "cell_type": "code",
   "execution_count": null,
   "metadata": {
    "colab": {
     "base_uri": "https://localhost:8080/",
     "height": 204
    },
    "colab_type": "code",
    "executionInfo": {
     "elapsed": 1458,
     "status": "ok",
     "timestamp": 1595459576314,
     "user": {
      "displayName": "Amandeep Singh",
      "photoUrl": "https://lh3.googleusercontent.com/a-/AOh14Gj1Ov_iaK_My4H8joP90ErnFLBHgHMuNMDWgiicH3M=s64",
      "userId": "15449713203337175881"
     },
     "user_tz": -120
    },
    "id": "JByr6DMjdOq_",
    "outputId": "9207f3d8-8202-4940-e0ae-2c426ac44b04"
   },
   "outputs": [
    {
     "data": {
      "text/html": [
       "<div>\n",
       "<style scoped>\n",
       "    .dataframe tbody tr th:only-of-type {\n",
       "        vertical-align: middle;\n",
       "    }\n",
       "\n",
       "    .dataframe tbody tr th {\n",
       "        vertical-align: top;\n",
       "    }\n",
       "\n",
       "    .dataframe thead th {\n",
       "        text-align: right;\n",
       "    }\n",
       "</style>\n",
       "<table border=\"1\" class=\"dataframe\">\n",
       "  <thead>\n",
       "    <tr style=\"text-align: right;\">\n",
       "      <th></th>\n",
       "      <th>Class_Name_Index</th>\n",
       "      <th>Original_Class_Names</th>\n",
       "      <th>New_Class_Names</th>\n",
       "    </tr>\n",
       "  </thead>\n",
       "  <tbody>\n",
       "    <tr>\n",
       "      <th>0</th>\n",
       "      <td>0</td>\n",
       "      <td>20 km/h</td>\n",
       "      <td>Class00</td>\n",
       "    </tr>\n",
       "    <tr>\n",
       "      <th>1</th>\n",
       "      <td>1</td>\n",
       "      <td>30 km/h</td>\n",
       "      <td>Class01</td>\n",
       "    </tr>\n",
       "    <tr>\n",
       "      <th>2</th>\n",
       "      <td>2</td>\n",
       "      <td>50 km/h</td>\n",
       "      <td>Class02</td>\n",
       "    </tr>\n",
       "    <tr>\n",
       "      <th>3</th>\n",
       "      <td>3</td>\n",
       "      <td>60 km/h</td>\n",
       "      <td>Class03</td>\n",
       "    </tr>\n",
       "    <tr>\n",
       "      <th>4</th>\n",
       "      <td>4</td>\n",
       "      <td>70 km/h</td>\n",
       "      <td>Class04</td>\n",
       "    </tr>\n",
       "  </tbody>\n",
       "</table>\n",
       "</div>"
      ],
      "text/plain": [
       "   Class_Name_Index Original_Class_Names New_Class_Names\n",
       "0                 0              20 km/h         Class00\n",
       "1                 1              30 km/h         Class01\n",
       "2                 2              50 km/h         Class02\n",
       "3                 3              60 km/h         Class03\n",
       "4                 4              70 km/h         Class04"
      ]
     },
     "execution_count": 7,
     "metadata": {
      "tags": []
     },
     "output_type": "execute_result"
    }
   ],
   "source": [
    "traffic_sign_labels_df = pd.concat([traffic_sign_labels_series, \n",
    "                                    traffic_class_series], \n",
    "                                   axis=1)\n",
    "traffic_sign_labels_df.reset_index(inplace=True)\n",
    "traffic_sign_labels_df.rename(columns = {0:'Original_Class_Names', \n",
    "                                         1: 'New_Class_Names',\n",
    "                                         'index': 'Class_Name_Index'}, \n",
    "                              inplace = True)\n",
    "\n",
    "traffic_sign_labels_df.head()"
   ]
  },
  {
   "cell_type": "code",
   "execution_count": null,
   "metadata": {
    "colab": {},
    "colab_type": "code",
    "id": "20FK5uRjzVB5"
   },
   "outputs": [],
   "source": [
    "traffic_sign_labels_df.to_csv('/content/drive/My Drive/Colab Notebooks/DMML2/Visualisations/data_dictionary.csv', index=False)"
   ]
  },
  {
   "cell_type": "code",
   "execution_count": null,
   "metadata": {
    "colab": {},
    "colab_type": "code",
    "id": "GYHvAwXCdPCR"
   },
   "outputs": [],
   "source": [
    "new_dict = traffic_sign_labels_df['New_Class_Names'].to_dict()"
   ]
  },
  {
   "cell_type": "code",
   "execution_count": null,
   "metadata": {
    "colab": {
     "base_uri": "https://localhost:8080/",
     "height": 748
    },
    "colab_type": "code",
    "executionInfo": {
     "elapsed": 1137,
     "status": "ok",
     "timestamp": 1595459697937,
     "user": {
      "displayName": "Amandeep Singh",
      "photoUrl": "https://lh3.googleusercontent.com/a-/AOh14Gj1Ov_iaK_My4H8joP90ErnFLBHgHMuNMDWgiicH3M=s64",
      "userId": "15449713203337175881"
     },
     "user_tz": -120
    },
    "id": "TlA3yjokdOyX",
    "outputId": "73cd3af2-fd4b-436b-d35e-b13f786a4fbb"
   },
   "outputs": [
    {
     "data": {
      "text/plain": [
       "{0: 'Class00',\n",
       " 1: 'Class01',\n",
       " 2: 'Class02',\n",
       " 3: 'Class03',\n",
       " 4: 'Class04',\n",
       " 5: 'Class05',\n",
       " 6: 'Class06',\n",
       " 7: 'Class07',\n",
       " 8: 'Class08',\n",
       " 9: 'Class09',\n",
       " 10: 'Class10',\n",
       " 11: 'Class11',\n",
       " 12: 'Class12',\n",
       " 13: 'Class13',\n",
       " 14: 'Class14',\n",
       " 15: 'Class15',\n",
       " 16: 'Class16',\n",
       " 17: 'Class17',\n",
       " 18: 'Class18',\n",
       " 19: 'Class19',\n",
       " 20: 'Class20',\n",
       " 21: 'Class21',\n",
       " 22: 'Class22',\n",
       " 23: 'Class23',\n",
       " 24: 'Class24',\n",
       " 25: 'Class25',\n",
       " 26: 'Class26',\n",
       " 27: 'Class27',\n",
       " 28: 'Class28',\n",
       " 29: 'Class29',\n",
       " 30: 'Class30',\n",
       " 31: 'Class31',\n",
       " 32: 'Class32',\n",
       " 33: 'Class33',\n",
       " 34: 'Class34',\n",
       " 35: 'Class35',\n",
       " 36: 'Class36',\n",
       " 37: 'Class37',\n",
       " 38: 'Class38',\n",
       " 39: 'Class39',\n",
       " 40: 'Class40',\n",
       " 41: 'Class41',\n",
       " 42: 'Class42'}"
      ]
     },
     "execution_count": 14,
     "metadata": {
      "tags": []
     },
     "output_type": "execute_result"
    }
   ],
   "source": [
    "new_dict"
   ]
  },
  {
   "cell_type": "code",
   "execution_count": null,
   "metadata": {
    "colab": {
     "base_uri": "https://localhost:8080/",
     "height": 34
    },
    "colab_type": "code",
    "executionInfo": {
     "elapsed": 808,
     "status": "ok",
     "timestamp": 1595459699301,
     "user": {
      "displayName": "Amandeep Singh",
      "photoUrl": "https://lh3.googleusercontent.com/a-/AOh14Gj1Ov_iaK_My4H8joP90ErnFLBHgHMuNMDWgiicH3M=s64",
      "userId": "15449713203337175881"
     },
     "user_tz": -120
    },
    "id": "-sfjx7O7khKT",
    "outputId": "4813f32f-7cf6-4178-86ae-03cee9f73c1d"
   },
   "outputs": [
    {
     "name": "stdout",
     "output_type": "stream",
     "text": [
      "/content/drive/My Drive/Colab Notebooks/DMML2/KaggleData\n"
     ]
    }
   ],
   "source": [
    "# Changing working directory\n",
    "\n",
    "%cd /content/drive/My Drive/Colab Notebooks/DMML2/KaggleData"
   ]
  },
  {
   "cell_type": "code",
   "execution_count": null,
   "metadata": {
    "colab": {},
    "colab_type": "code",
    "id": "KCafy6Y5YQXg"
   },
   "outputs": [],
   "source": [
    "# Paths and parameters.\n",
    "\n",
    "train_data_path = '../NumpyArrays/Cells.npy'\n",
    "train_label_path = '../NumpyArrays/Labels.npy'\n",
    "test_data_path = '../NumpyArrays/Cells_test.npy'\n",
    "test_label_path = '../NumpyArrays/Labels_test.npy'\n",
    "test_blur3_path = '../NumpyArrays/Cells_test_blur3.npy'\n",
    "test_blur5_path = '../NumpyArrays/Cells_test_blur5.npy'\n",
    "test_blur7_path = '../NumpyArrays/Cells_test_blur7.npy'\n",
    "visualization_path = '/content/drive/My Drive/Colab Notebooks/DMML2/Visualisations'\n",
    "\n",
    "height = 30\n",
    "width = 30\n",
    "channels = 3\n",
    "classes = 43\n",
    "n_inputs = height*width*channels"
   ]
  },
  {
   "cell_type": "code",
   "execution_count": null,
   "metadata": {
    "colab": {
     "base_uri": "https://localhost:8080/",
     "height": 215
    },
    "colab_type": "code",
    "executionInfo": {
     "elapsed": 1409,
     "status": "error",
     "timestamp": 1595464271673,
     "user": {
      "displayName": "Amandeep Singh",
      "photoUrl": "https://lh3.googleusercontent.com/a-/AOh14Gj1Ov_iaK_My4H8joP90ErnFLBHgHMuNMDWgiicH3M=s64",
      "userId": "15449713203337175881"
     },
     "user_tz": -120
    },
    "id": "OAfArDd48EFc",
    "outputId": "cdbd0c50-4af1-4cb0-c677-fcdead2cb40a"
   },
   "outputs": [],
   "source": [
    "# Loading Train Data.\n",
    "\n",
    "Cells = np.load(train_data_path)\n",
    "Labels = np.load(train_label_path)"
   ]
  },
  {
   "cell_type": "code",
   "execution_count": null,
   "metadata": {
    "colab": {
     "base_uri": "https://localhost:8080/",
     "height": 232
    },
    "colab_type": "code",
    "executionInfo": {
     "elapsed": 732,
     "status": "error",
     "timestamp": 1595464271674,
     "user": {
      "displayName": "Amandeep Singh",
      "photoUrl": "https://lh3.googleusercontent.com/a-/AOh14Gj1Ov_iaK_My4H8joP90ErnFLBHgHMuNMDWgiicH3M=s64",
      "userId": "15449713203337175881"
     },
     "user_tz": -120
    },
    "id": "99x8i-t6eQCw",
    "outputId": "629af8d7-0d7e-4215-ee63-fee9d59e3003"
   },
   "outputs": [],
   "source": [
    "# Randomize the order of the input images\n",
    "\n",
    "s = np.arange(Cells.shape[0])\n",
    "np.random.seed(43)\n",
    "np.random.shuffle(s)\n",
    "Cells = Cells[s]\n",
    "labels = Labels[s]"
   ]
  },
  {
   "cell_type": "code",
   "execution_count": null,
   "metadata": {
    "colab": {
     "base_uri": "https://localhost:8080/",
     "height": 232
    },
    "colab_type": "code",
    "executionInfo": {
     "elapsed": 328,
     "status": "error",
     "timestamp": 1595464271949,
     "user": {
      "displayName": "Amandeep Singh",
      "photoUrl": "https://lh3.googleusercontent.com/a-/AOh14Gj1Ov_iaK_My4H8joP90ErnFLBHgHMuNMDWgiicH3M=s64",
      "userId": "15449713203337175881"
     },
     "user_tz": -120
    },
    "id": "VKJzKx1_hr0A",
    "outputId": "2efb67b7-792d-48c3-9bc8-1ce8ec34d2c1"
   },
   "outputs": [],
   "source": [
    "# Spliting the images into train and validation sets\n",
    "(X_train, X_val) = Cells[(int)(0.2*len(labels)):], Cells[:(int)(0.2*len(labels))]\n",
    "\n",
    "X_train = X_train.astype('float32')/255 \n",
    "X_val = X_val.astype('float32')/255\n",
    "\n",
    "(y_train, y_val) = labels[(int)(0.2*len(labels)):], labels[:(int)(0.2*len(labels))]"
   ]
  },
  {
   "cell_type": "code",
   "execution_count": null,
   "metadata": {
    "colab": {
     "base_uri": "https://localhost:8080/",
     "height": 215
    },
    "colab_type": "code",
    "executionInfo": {
     "elapsed": 574,
     "status": "error",
     "timestamp": 1595464272882,
     "user": {
      "displayName": "Amandeep Singh",
      "photoUrl": "https://lh3.googleusercontent.com/a-/AOh14Gj1Ov_iaK_My4H8joP90ErnFLBHgHMuNMDWgiicH3M=s64",
      "userId": "15449713203337175881"
     },
     "user_tz": -120
    },
    "id": "mLWdEHEph3Ig",
    "outputId": "e8f981d9-0a1e-43d8-ff23-9de303621aed"
   },
   "outputs": [],
   "source": [
    "# Using one hote encoding for the train and validation labels\n",
    "\n",
    "y_train = to_categorical(y_train, 43)\n",
    "y_val = to_categorical(y_val, 43)"
   ]
  },
  {
   "cell_type": "markdown",
   "metadata": {
    "colab_type": "text",
    "id": "iqCyOsu6UKQT"
   },
   "source": [
    "# Model"
   ]
  },
  {
   "cell_type": "code",
   "execution_count": null,
   "metadata": {
    "colab": {
     "base_uri": "https://localhost:8080/",
     "height": 51
    },
    "colab_type": "code",
    "executionInfo": {
     "elapsed": 4629,
     "status": "ok",
     "timestamp": 1595464280205,
     "user": {
      "displayName": "Amandeep Singh",
      "photoUrl": "https://lh3.googleusercontent.com/a-/AOh14Gj1Ov_iaK_My4H8joP90ErnFLBHgHMuNMDWgiicH3M=s64",
      "userId": "15449713203337175881"
     },
     "user_tz": -120
    },
    "id": "Ij36phpRJKzq",
    "outputId": "9ca941d7-fc08-40dd-dc8b-3b691258ac53"
   },
   "outputs": [
    {
     "name": "stdout",
     "output_type": "stream",
     "text": [
      "Downloading data from https://storage.googleapis.com/tensorflow/keras-applications/vgg16/vgg16_weights_tf_dim_ordering_tf_kernels_notop.h5\n",
      "58892288/58889256 [==============================] - 1s 0us/step\n"
     ]
    }
   ],
   "source": [
    "from tensorflow.keras import layers, Model\n",
    "from tensorflow.keras.applications.vgg16 import VGG16\n",
    "from tensorflow.keras.optimizers import RMSprop, Adam\n",
    "\n",
    "#Load the VGG19 model\n",
    "vgg_model = VGG16(input_shape = (75, 75, 3), \n",
    "                        include_top = False, \n",
    "                        weights = 'imagenet')"
   ]
  },
  {
   "cell_type": "code",
   "execution_count": null,
   "metadata": {
    "colab": {
     "base_uri": "https://localhost:8080/",
     "height": 34
    },
    "colab_type": "code",
    "executionInfo": {
     "elapsed": 3684,
     "status": "ok",
     "timestamp": 1595464280206,
     "user": {
      "displayName": "Amandeep Singh",
      "photoUrl": "https://lh3.googleusercontent.com/a-/AOh14Gj1Ov_iaK_My4H8joP90ErnFLBHgHMuNMDWgiicH3M=s64",
      "userId": "15449713203337175881"
     },
     "user_tz": -120
    },
    "id": "JO0btC_610z1",
    "outputId": "6145465e-a288-4b34-b973-25f25eb2ea7c"
   },
   "outputs": [
    {
     "name": "stdout",
     "output_type": "stream",
     "text": [
      "last layer of vgg : output shape:  (None, 2, 2, 512)\n"
     ]
    }
   ],
   "source": [
    "for layer in vgg_model.layers:\n",
    "     layer.trainable = False\n",
    "\n",
    "# vgg_model.summary()\n",
    "\n",
    "last_layer = vgg_model.get_layer('block5_pool')\n",
    "print('last layer of vgg : output shape: ', last_layer.output_shape)\n",
    "last_output= last_layer.output\n",
    "\n",
    "x = layers.Flatten()(last_output)\n",
    "x = layers.Dense(1024, activation='relu')(x)\n",
    "x = layers.Dropout(0.2)(x)                  \n",
    "x = layers.Dense(43, activation='softmax')(x)           \n",
    "\n",
    "vgg_new_model = Model(vgg_model.input, x) \n",
    "\n",
    "vgg_new_model.compile(optimizer = RMSprop(lr=0.0001), \n",
    "              loss = 'categorical_crossentropy', \n",
    "              metrics = ['acc'])\n",
    "# RMSprop(lr=0.0001)"
   ]
  },
  {
   "cell_type": "code",
   "execution_count": null,
   "metadata": {
    "colab": {
     "base_uri": "https://localhost:8080/",
     "height": 392
    },
    "colab_type": "code",
    "executionInfo": {
     "elapsed": 1467,
     "status": "error",
     "timestamp": 1595464281102,
     "user": {
      "displayName": "Amandeep Singh",
      "photoUrl": "https://lh3.googleusercontent.com/a-/AOh14Gj1Ov_iaK_My4H8joP90ErnFLBHgHMuNMDWgiicH3M=s64",
      "userId": "15449713203337175881"
     },
     "user_tz": -120
    },
    "id": "VTUQr8I510z7",
    "outputId": "ac0c8351-e574-4aa3-f789-901fd902f36a"
   },
   "outputs": [],
   "source": [
    "#using ten epochs for the training and saving the accuracy for each epoch\n",
    "%%time\n",
    "epochs = 20\n",
    "history = vgg_new_model.fit(X_train, y_train, batch_size=32, \n",
    "                        epochs=epochs, validation_data = (X_val, y_val))"
   ]
  },
  {
   "cell_type": "code",
   "execution_count": null,
   "metadata": {
    "colab": {
     "base_uri": "https://localhost:8080/",
     "height": 232
    },
    "colab_type": "code",
    "executionInfo": {
     "elapsed": 533,
     "status": "error",
     "timestamp": 1595464282556,
     "user": {
      "displayName": "Amandeep Singh",
      "photoUrl": "https://lh3.googleusercontent.com/a-/AOh14Gj1Ov_iaK_My4H8joP90ErnFLBHgHMuNMDWgiicH3M=s64",
      "userId": "15449713203337175881"
     },
     "user_tz": -120
    },
    "id": "RYV0eKbSUUIt",
    "outputId": "6b0451ca-ec53-4b1a-ce09-a6716aff3d3a"
   },
   "outputs": [],
   "source": [
    "fig, ax = plt.subplots(nrows=1, ncols=2, figsize=(9, 4), dpi=100)\n",
    " \n",
    "fig.suptitle(\"VGG16 Model\", \n",
    "             fontdict = {'fontsize': 10, 'fontweight' : 3})\n",
    " \n",
    "ax[0].set_title('Accuracy vs Epochs')\n",
    "ax[0].plot(history.history['acc'], label='Training Acc')\n",
    "ax[0].plot(history.history['val_acc'], label='Val acc')\n",
    "ax[0].set_xlabel('Epochs', fontsize=10)\n",
    "ax[0].set_ylabel('Accuracy', fontsize=10)\n",
    "ax[0].legend(fontsize=10)\n",
    "ax[0].tick_params(axis='both', which='major', labelsize=8)\n",
    "ax[0].xaxis.set_ticks(np.arange(0, 21, 2))\n",
    " \n",
    "ax[1].set_title('Loss vs Epochs')\n",
    "ax[1].plot(history.history['loss'], label='Training Loss')\n",
    "ax[1].plot(history.history['val_loss'], label='Val Loss')\n",
    "ax[1].set_xlabel('Epochs', fontsize=10)\n",
    "ax[1].set_ylabel('Loss', fontsize=10)\n",
    "ax[1].legend(fontsize=10)\n",
    "ax[1].tick_params(axis='both', which='major', labelsize=8)\n",
    "ax[1].xaxis.set_ticks(np.arange(0, 21, 2))\n",
    " \n",
    "fig.savefig(os.path.join(visualization_path, 'VGG16_acc_loss.png'), \n",
    "            dpi=300, bbox_inches='tight')"
   ]
  },
  {
   "cell_type": "code",
   "execution_count": null,
   "metadata": {
    "colab": {},
    "colab_type": "code",
    "id": "EUQL3ek050qy"
   },
   "outputs": [],
   "source": [
    "# Loading test data from saved files.\n",
    "\n",
    "# X_test = np.load(test_data_path)\n",
    "# y_test = np.load(test_label_path)\n",
    "\n",
    "# Loading test data from saved array files.\n",
    " \n",
    "X_test = np.load(test_data_path)\n",
    "X_test_3 = np.load(test_blur3_path)\n",
    "X_test_5 = np.load(test_blur5_path)\n",
    "X_test_7 = np.load(test_blur7_path)\n",
    "y_test = np.load(test_label_path)"
   ]
  },
  {
   "cell_type": "code",
   "execution_count": null,
   "metadata": {
    "colab": {},
    "colab_type": "code",
    "id": "jsADFi-X50rC"
   },
   "outputs": [],
   "source": [
    "# X_test = X_test.astype('float32')/255 \n",
    "\n",
    "X_test = X_test.astype('float32')/255 \n",
    "X_test_3 = X_test_3.astype('float32')/255 \n",
    "X_test_5 = X_test_5.astype('float32')/255 \n",
    "X_test_7 = X_test_7.astype('float32')/255 "
   ]
  },
  {
   "cell_type": "code",
   "execution_count": null,
   "metadata": {
    "colab": {},
    "colab_type": "code",
    "id": "KvsJERa150rS"
   },
   "outputs": [],
   "source": [
    "# Predicting output.\n",
    "\n",
    "pred = vgg_new_model.predict(X_test)\n",
    "# print(pred.shape)\n",
    "pred_3 = vgg_new_model.predict(X_test_3)\n",
    "pred_5 = vgg_new_model.predict(X_test_5)\n",
    "pred_7 = vgg_new_model.predict(X_test_7)"
   ]
  },
  {
   "cell_type": "code",
   "execution_count": null,
   "metadata": {
    "colab": {},
    "colab_type": "code",
    "id": "bzZVfibStM4a"
   },
   "outputs": [],
   "source": []
  },
  {
   "cell_type": "code",
   "execution_count": null,
   "metadata": {
    "colab": {},
    "colab_type": "code",
    "id": "lzGPPNYQpyXA"
   },
   "outputs": [],
   "source": [
    "from sklearn.metrics import classification_report\n",
    "  \n",
    "traffic_sign_labels_list = [new_dict[i] for i in range(len(new_dict))]\n",
    "\n",
    "vgg_class = classification_report(y_test, np.argmax(pred, axis=1), \n",
    "                            target_names = traffic_sign_labels_list, output_dict = True)"
   ]
  },
  {
   "cell_type": "code",
   "execution_count": null,
   "metadata": {
    "colab": {},
    "colab_type": "code",
    "id": "HoZnOkpwImjl"
   },
   "outputs": [],
   "source": [
    "vgg_class_3 = classification_report(y_test, np.argmax(pred_3, axis=1), \n",
    "                            target_names = traffic_sign_labels_list, output_dict = True)"
   ]
  },
  {
   "cell_type": "code",
   "execution_count": null,
   "metadata": {
    "colab": {},
    "colab_type": "code",
    "id": "qvhNDXANImjo"
   },
   "outputs": [],
   "source": [
    "vgg_class_5 = classification_report(y_test, np.argmax(pred_5, axis=1), \n",
    "                            target_names = traffic_sign_labels_list, output_dict = True)"
   ]
  },
  {
   "cell_type": "code",
   "execution_count": null,
   "metadata": {
    "colab": {
     "base_uri": "https://localhost:8080/",
     "height": 71
    },
    "colab_type": "code",
    "executionInfo": {
     "elapsed": 1600,
     "status": "ok",
     "timestamp": 1595464015645,
     "user": {
      "displayName": "Amandeep Singh",
      "photoUrl": "https://lh3.googleusercontent.com/a-/AOh14Gj1Ov_iaK_My4H8joP90ErnFLBHgHMuNMDWgiicH3M=s64",
      "userId": "15449713203337175881"
     },
     "user_tz": -120
    },
    "id": "g2KpQUO3Imjq",
    "outputId": "0337daec-ed3a-4677-b4d7-43fc73efa077"
   },
   "outputs": [
    {
     "name": "stderr",
     "output_type": "stream",
     "text": [
      "/usr/local/lib/python3.6/dist-packages/sklearn/metrics/_classification.py:1272: UndefinedMetricWarning: Precision and F-score are ill-defined and being set to 0.0 in labels with no predicted samples. Use `zero_division` parameter to control this behavior.\n",
      "  _warn_prf(average, modifier, msg_start, len(result))\n"
     ]
    }
   ],
   "source": [
    "vgg_class_7 = classification_report(y_test, np.argmax(pred_7, axis=1), \n",
    "                            target_names = traffic_sign_labels_list, output_dict = True)"
   ]
  },
  {
   "cell_type": "code",
   "execution_count": null,
   "metadata": {
    "colab": {},
    "colab_type": "code",
    "id": "szLAc3E7pyXp"
   },
   "outputs": [],
   "source": [
    "vgg_df_top = pd.DataFrame(vgg_class).transpose().sort_values(by='f1-score', ascending=False)[:5]\n",
    "vgg_df_top.reset_index(inplace=True)\n",
    "vgg_df_bottom = pd.DataFrame(vgg_class).transpose().sort_values(by='f1-score', ascending=True)[:5]\n",
    "vgg_df_bottom.reset_index(inplace=True)\n",
    "\n",
    "vgg_df_top_3 = pd.DataFrame(vgg_class_3).transpose().sort_values(by='f1-score', ascending=False)[:5]\n",
    "vgg_df_top_3.reset_index(inplace=True)\n",
    "vgg_df_bottom_3 = pd.DataFrame(vgg_class_3).transpose().sort_values(by='f1-score', ascending=True)[:5]\n",
    "vgg_df_bottom_3.reset_index(inplace=True)\n",
    "\n",
    "vgg_df_top_5 = pd.DataFrame(vgg_class_5).transpose().sort_values(by='f1-score', ascending=False)[:5]\n",
    "vgg_df_top_5.reset_index(inplace=True)\n",
    "vgg_df_bottom_5 = pd.DataFrame(vgg_class_5).transpose().sort_values(by='f1-score', ascending=True)[:5]\n",
    "vgg_df_bottom_5.reset_index(inplace=True)\n",
    "\n",
    "vgg_df_top_7 = pd.DataFrame(vgg_class_7).transpose().sort_values(by='f1-score', ascending=False)[:5]\n",
    "vgg_df_top_7.reset_index(inplace=True)\n",
    "vgg_df_bottom_7 = pd.DataFrame(vgg_class_7).transpose().sort_values(by='f1-score', ascending=True)[:5]\n",
    "vgg_df_bottom_7.reset_index(inplace=True)"
   ]
  },
  {
   "cell_type": "code",
   "execution_count": null,
   "metadata": {
    "colab": {},
    "colab_type": "code",
    "id": "TcFKYcIvpyXr"
   },
   "outputs": [],
   "source": []
  },
  {
   "cell_type": "code",
   "execution_count": null,
   "metadata": {
    "colab": {
     "base_uri": "https://localhost:8080/",
     "height": 636
    },
    "colab_type": "code",
    "executionInfo": {
     "elapsed": 5657,
     "status": "ok",
     "timestamp": 1595464024771,
     "user": {
      "displayName": "Amandeep Singh",
      "photoUrl": "https://lh3.googleusercontent.com/a-/AOh14Gj1Ov_iaK_My4H8joP90ErnFLBHgHMuNMDWgiicH3M=s64",
      "userId": "15449713203337175881"
     },
     "user_tz": -120
    },
    "id": "YNdz-6tHIlme",
    "outputId": "2246227c-1d52-4b59-b346-85c022e5ed46"
   },
   "outputs": [
    {
     "data": {
      "image/png": "[encoded data removed]",
      "text/plain": [
       "<Figure size 576x576 with 8 Axes>"
      ]
     },
     "metadata": {
      "tags": []
     },
     "output_type": "display_data"
    }
   ],
   "source": [
    "fig, ax = plt.subplots(nrows=4, ncols=2, figsize=(8, 8))\n",
    "# plt.title(\"Yoooo\", fontsize = 28, loc='center')\n",
    "\n",
    "sns.barplot(y = 'index', x = 'f1-score', data=vgg_df_top, ax=ax[0,0], color='#9c0000')\n",
    "ax[0,0].set_ylabel('Original')\n",
    "ax[0,0].set_title('Top 5 by f1-score')\n",
    "ax[0,0].set_xlabel(\"\")\n",
    "# ax[0,0].get_xaxis().set_visible(False)\n",
    "ax[0,0].grid(True)\n",
    "\n",
    "sns.barplot(y = 'index', x = 'f1-score', data=vgg_df_bottom, ax=ax[0,1], color='#f29999')\n",
    "ax[0,1].set_xlim([0, 1.0])\n",
    "ax[0,1].set_title('Bottom 5 by f1-score')\n",
    "# ax[0,1].get_xaxis().set_visible(False)\n",
    "ax[0,1].set_xlabel(\"\")\n",
    "ax[0,1].set_ylabel(\"\")\n",
    "# ax[0,1].get_yaxis().set_visible(False)\n",
    "ax[0,1].grid(True)\n",
    "\n",
    "sns.barplot(y = 'index', x = 'f1-score', data=vgg_df_top_3, ax=ax[1,0], color='#007F00')\n",
    "ax[1,0].set_xlabel(\"\")\n",
    "ax[1,0].set_ylabel('Blur 3x3')\n",
    "ax[1,0].set_xlim([0, 1.0])\n",
    "# ax[1,0].get_xaxis().set_visible(False)\n",
    "ax[1,0].grid(True)\n",
    "\n",
    "sns.barplot(y = 'index', x = 'f1-score', data=vgg_df_bottom_3, ax=ax[1,1], color='#7fe57f')\n",
    "ax[1,1].set_xlim([0, 1.0])\n",
    "# ax[1,1].get_xaxis().set_visible(False)\n",
    "ax[1,1].set_xlabel(\"\")\n",
    "ax[1,1].set_ylabel(\"\")\n",
    "ax[1,1].grid(True)\n",
    "# ax[1,1].get_yaxis().set_visible(False)\n",
    "\n",
    "sns.barplot(y = 'index', x = 'f1-score', data=vgg_df_top_5, ax=ax[2,0], color='#000070')\n",
    "ax[2,0].set_xlabel(\"\")\n",
    "ax[2,0].set_ylabel('Blur 5x5')\n",
    "ax[2,0].set_xlim([0, 1.0])\n",
    "# ax[2,0].get_xaxis().set_visible(False)\n",
    "ax[2,0].grid(True)\n",
    "\n",
    "sns.barplot(y = 'index', x = 'f1-score', data=vgg_df_bottom_5, ax=ax[2,1], color='#9999f2')\n",
    "ax[2,1].set_xlim([0, 1.0])\n",
    "# ax[2,1].get_xaxis().set_visible(False)\n",
    "ax[2,1].set_xlabel(\"\")\n",
    "ax[2,1].set_ylabel(\"\")\n",
    "ax[2,1].grid(True)\n",
    "# ax[2,1].get_yaxis().set_visible(False)\n",
    "\n",
    "sns.barplot(y = 'index', x = 'f1-score', data=vgg_df_top_7, ax=ax[3,0], color='#703800')\n",
    "ax[3,0].set_ylabel('Blur 7x7')\n",
    "ax[3,0].set_xlim([0, 1.0])\n",
    "ax[3,0].grid(True)\n",
    "\n",
    "sns.barplot(y = 'index', x = 'f1-score', data=vgg_df_bottom_7, ax=ax[3,1], color='#f2c599')\n",
    "ax[3,1].set_xlim([0, 1.0])\n",
    "ax[3,1].set_ylabel(\"\")\n",
    "ax[3,1].grid(True)\n",
    "# ax[3,1].get_yaxis().set_visible(False)\n",
    "\n",
    "fig.tight_layout(pad=0)\n",
    "fig.suptitle('VGG16', position=(0.5, 1.05), fontsize=20)\n",
    "\n",
    "fig.savefig(os.path.join(visualization_path, 'VGG16_f1_scores.png'), \n",
    "            dpi=300, bbox_inches='tight')"
   ]
  },
  {
   "cell_type": "code",
   "execution_count": null,
   "metadata": {
    "colab": {
     "base_uri": "https://localhost:8080/",
     "height": 1000
    },
    "colab_type": "code",
    "executionInfo": {
     "elapsed": 922,
     "status": "ok",
     "timestamp": 1595463950662,
     "user": {
      "displayName": "Amandeep Singh",
      "photoUrl": "https://lh3.googleusercontent.com/a-/AOh14Gj1Ov_iaK_My4H8joP90ErnFLBHgHMuNMDWgiicH3M=s64",
      "userId": "15449713203337175881"
     },
     "user_tz": -120
    },
    "id": "Tl1BZX2A75NI",
    "outputId": "c02746b8-8064-4736-b1e8-97a813dc3e83"
   },
   "outputs": [
    {
     "data": {
      "text/plain": [
       "{'Class00': {'f1-score': 0.3092783505154639,\n",
       "  'precision': 0.40540540540540543,\n",
       "  'recall': 0.25,\n",
       "  'support': 60},\n",
       " 'Class01': {'f1-score': 0.6945088940448568,\n",
       "  'precision': 0.7835951134380453,\n",
       "  'recall': 0.6236111111111111,\n",
       "  'support': 720},\n",
       " 'Class02': {'f1-score': 0.5509196949304621,\n",
       "  'precision': 0.4151453684922245,\n",
       "  'recall': 0.8186666666666667,\n",
       "  'support': 750},\n",
       " 'Class03': {'f1-score': 0.4798962386511024,\n",
       "  'precision': 0.5763239875389408,\n",
       "  'recall': 0.4111111111111111,\n",
       "  'support': 450},\n",
       " 'Class04': {'f1-score': 0.6777408637873754,\n",
       "  'precision': 0.75,\n",
       "  'recall': 0.6181818181818182,\n",
       "  'support': 660},\n",
       " 'Class05': {'f1-score': 0.6366001734605377,\n",
       "  'precision': 0.7017208413001912,\n",
       "  'recall': 0.5825396825396826,\n",
       "  'support': 630},\n",
       " 'Class06': {'f1-score': 0.7881040892193308,\n",
       "  'precision': 0.8907563025210085,\n",
       "  'recall': 0.7066666666666667,\n",
       "  'support': 150},\n",
       " 'Class07': {'f1-score': 0.8068181818181818,\n",
       "  'precision': 0.8255813953488372,\n",
       "  'recall': 0.7888888888888889,\n",
       "  'support': 450},\n",
       " 'Class08': {'f1-score': 0.6986607142857143,\n",
       "  'precision': 0.7017937219730942,\n",
       "  'recall': 0.6955555555555556,\n",
       "  'support': 450},\n",
       " 'Class09': {'f1-score': 0.8461538461538461,\n",
       "  'precision': 0.868421052631579,\n",
       "  'recall': 0.825,\n",
       "  'support': 480},\n",
       " 'Class10': {'f1-score': 0.8061302681992337,\n",
       "  'precision': 0.8155038759689922,\n",
       "  'recall': 0.796969696969697,\n",
       "  'support': 660},\n",
       " 'Class11': {'f1-score': 0.635678391959799,\n",
       "  'precision': 0.6728723404255319,\n",
       "  'recall': 0.6023809523809524,\n",
       "  'support': 420},\n",
       " 'Class12': {'f1-score': 0.9694767441860465,\n",
       "  'precision': 0.9723032069970845,\n",
       "  'recall': 0.9666666666666667,\n",
       "  'support': 690},\n",
       " 'Class13': {'f1-score': 0.9776223776223776,\n",
       "  'precision': 0.9845070422535211,\n",
       "  'recall': 0.9708333333333333,\n",
       "  'support': 720},\n",
       " 'Class14': {'f1-score': 0.9271028037383178,\n",
       "  'precision': 0.9358490566037736,\n",
       "  'recall': 0.9185185185185185,\n",
       "  'support': 270},\n",
       " 'Class15': {'f1-score': 0.9765258215962442,\n",
       "  'precision': 0.9629629629629629,\n",
       "  'recall': 0.9904761904761905,\n",
       "  'support': 210},\n",
       " 'Class16': {'f1-score': 0.8929889298892989,\n",
       "  'precision': 1.0,\n",
       "  'recall': 0.8066666666666666,\n",
       "  'support': 150},\n",
       " 'Class17': {'f1-score': 0.9365994236311239,\n",
       "  'precision': 0.9730538922155688,\n",
       "  'recall': 0.9027777777777778,\n",
       "  'support': 360},\n",
       " 'Class18': {'f1-score': 0.686084142394822,\n",
       "  'precision': 0.5921787709497207,\n",
       "  'recall': 0.8153846153846154,\n",
       "  'support': 390},\n",
       " 'Class19': {'f1-score': 0.379746835443038,\n",
       "  'precision': 0.7894736842105263,\n",
       "  'recall': 0.25,\n",
       "  'support': 60},\n",
       " 'Class20': {'f1-score': 0.5136186770428016,\n",
       "  'precision': 0.39520958083832336,\n",
       "  'recall': 0.7333333333333333,\n",
       "  'support': 90},\n",
       " 'Class21': {'f1-score': 0.576271186440678,\n",
       "  'precision': 0.5862068965517241,\n",
       "  'recall': 0.5666666666666667,\n",
       "  'support': 90},\n",
       " 'Class22': {'f1-score': 0.7557603686635946,\n",
       "  'precision': 0.845360824742268,\n",
       "  'recall': 0.6833333333333333,\n",
       "  'support': 120},\n",
       " 'Class23': {'f1-score': 0.3777777777777778,\n",
       "  'precision': 0.425,\n",
       "  'recall': 0.34,\n",
       "  'support': 150},\n",
       " 'Class24': {'f1-score': 0.5547445255474452,\n",
       "  'precision': 0.8085106382978723,\n",
       "  'recall': 0.4222222222222222,\n",
       "  'support': 90},\n",
       " 'Class25': {'f1-score': 0.6453488372093023,\n",
       "  'precision': 0.6032608695652174,\n",
       "  'recall': 0.69375,\n",
       "  'support': 480},\n",
       " 'Class26': {'f1-score': 0.6388888888888888,\n",
       "  'precision': 0.8518518518518519,\n",
       "  'recall': 0.5111111111111111,\n",
       "  'support': 180},\n",
       " 'Class27': {'f1-score': 0.45871559633027525,\n",
       "  'precision': 0.5102040816326531,\n",
       "  'recall': 0.4166666666666667,\n",
       "  'support': 60},\n",
       " 'Class28': {'f1-score': 0.4623115577889447,\n",
       "  'precision': 0.3709677419354839,\n",
       "  'recall': 0.6133333333333333,\n",
       "  'support': 150},\n",
       " 'Class29': {'f1-score': 0.47500000000000003,\n",
       "  'precision': 0.5428571428571428,\n",
       "  'recall': 0.4222222222222222,\n",
       "  'support': 90},\n",
       " 'Class30': {'f1-score': 0.49811320754716987,\n",
       "  'precision': 0.5739130434782609,\n",
       "  'recall': 0.44,\n",
       "  'support': 150},\n",
       " 'Class31': {'f1-score': 0.805243445692884,\n",
       "  'precision': 0.8143939393939394,\n",
       "  'recall': 0.7962962962962963,\n",
       "  'support': 270},\n",
       " 'Class32': {'f1-score': 0.8872180451127819,\n",
       "  'precision': 0.8082191780821918,\n",
       "  'recall': 0.9833333333333333,\n",
       "  'support': 60},\n",
       " 'Class33': {'f1-score': 0.8137254901960784,\n",
       "  'precision': 0.8383838383838383,\n",
       "  'recall': 0.7904761904761904,\n",
       "  'support': 210},\n",
       " 'Class34': {'f1-score': 0.7452471482889734,\n",
       "  'precision': 0.6853146853146853,\n",
       "  'recall': 0.8166666666666667,\n",
       "  'support': 120},\n",
       " 'Class35': {'f1-score': 0.7972222222222224,\n",
       "  'precision': 0.8696969696969697,\n",
       "  'recall': 0.735897435897436,\n",
       "  'support': 390},\n",
       " 'Class36': {'f1-score': 0.6637931034482759,\n",
       "  'precision': 0.6875,\n",
       "  'recall': 0.6416666666666667,\n",
       "  'support': 120},\n",
       " 'Class37': {'f1-score': 0.39603960396039606,\n",
       "  'precision': 0.4878048780487805,\n",
       "  'recall': 0.3333333333333333,\n",
       "  'support': 60},\n",
       " 'Class38': {'f1-score': 0.8970380818053596,\n",
       "  'precision': 0.8736263736263736,\n",
       "  'recall': 0.9217391304347826,\n",
       "  'support': 690},\n",
       " 'Class39': {'f1-score': 0.6860465116279069,\n",
       "  'precision': 0.7195121951219512,\n",
       "  'recall': 0.6555555555555556,\n",
       "  'support': 90},\n",
       " 'Class40': {'f1-score': 0.783625730994152,\n",
       "  'precision': 0.8271604938271605,\n",
       "  'recall': 0.7444444444444445,\n",
       "  'support': 90},\n",
       " 'Class41': {'f1-score': 0.6105263157894737,\n",
       "  'precision': 0.8285714285714286,\n",
       "  'recall': 0.48333333333333334,\n",
       "  'support': 60},\n",
       " 'Class42': {'f1-score': 0.4852941176470588,\n",
       "  'precision': 0.717391304347826,\n",
       "  'recall': 0.36666666666666664,\n",
       "  'support': 90},\n",
       " 'accuracy': 0.7338083927157562,\n",
       " 'macro avg': {'f1-score': 0.6791676098965026,\n",
       "  'precision': 0.7276364180791384,\n",
       "  'recall': 0.6616963688578957,\n",
       "  'support': 12630},\n",
       " 'weighted avg': {'f1-score': 0.7361825094995278,\n",
       "  'precision': 0.7594984463247633,\n",
       "  'recall': 0.7338083927157562,\n",
       "  'support': 12630}}"
      ]
     },
     "execution_count": 60,
     "metadata": {
      "tags": []
     },
     "output_type": "execute_result"
    }
   ],
   "source": [
    "# RMSProp\n",
    "vgg_class"
   ]
  },
  {
   "cell_type": "code",
   "execution_count": null,
   "metadata": {
    "colab": {
     "base_uri": "https://localhost:8080/",
     "height": 1000
    },
    "colab_type": "code",
    "executionInfo": {
     "elapsed": 636,
     "status": "ok",
     "timestamp": 1595464024772,
     "user": {
      "displayName": "Amandeep Singh",
      "photoUrl": "https://lh3.googleusercontent.com/a-/AOh14Gj1Ov_iaK_My4H8joP90ErnFLBHgHMuNMDWgiicH3M=s64",
      "userId": "15449713203337175881"
     },
     "user_tz": -120
    },
    "id": "VjnueaWxDyXz",
    "outputId": "0a652822-7b76-4967-e7e0-c97a038e4b9b"
   },
   "outputs": [
    {
     "data": {
      "text/plain": [
       "{'Class00': {'f1-score': 0.3636363636363636,\n",
       "  'precision': 0.4,\n",
       "  'recall': 0.3333333333333333,\n",
       "  'support': 60},\n",
       " 'Class01': {'f1-score': 0.7348618459729572,\n",
       "  'precision': 0.6371049949031601,\n",
       "  'recall': 0.8680555555555556,\n",
       "  'support': 720},\n",
       " 'Class02': {'f1-score': 0.5493562231759657,\n",
       "  'precision': 0.7710843373493976,\n",
       "  'recall': 0.4266666666666667,\n",
       "  'support': 750},\n",
       " 'Class03': {'f1-score': 0.4807121661721069,\n",
       "  'precision': 0.43315508021390375,\n",
       "  'recall': 0.54,\n",
       "  'support': 450},\n",
       " 'Class04': {'f1-score': 0.6717557251908396,\n",
       "  'precision': 0.6197183098591549,\n",
       "  'recall': 0.7333333333333333,\n",
       "  'support': 660},\n",
       " 'Class05': {'f1-score': 0.6744666207845836,\n",
       "  'precision': 0.5953827460510328,\n",
       "  'recall': 0.7777777777777778,\n",
       "  'support': 630},\n",
       " 'Class06': {'f1-score': 0.7943262411347518,\n",
       "  'precision': 0.8484848484848485,\n",
       "  'recall': 0.7466666666666667,\n",
       "  'support': 150},\n",
       " 'Class07': {'f1-score': 0.7944862155388471,\n",
       "  'precision': 0.9109195402298851,\n",
       "  'recall': 0.7044444444444444,\n",
       "  'support': 450},\n",
       " 'Class08': {'f1-score': 0.6674698795180722,\n",
       "  'precision': 0.7289473684210527,\n",
       "  'recall': 0.6155555555555555,\n",
       "  'support': 450},\n",
       " 'Class09': {'f1-score': 0.8380520951302377,\n",
       "  'precision': 0.9181141439205955,\n",
       "  'recall': 0.7708333333333334,\n",
       "  'support': 480},\n",
       " 'Class10': {'f1-score': 0.7939163498098859,\n",
       "  'precision': 0.7969465648854962,\n",
       "  'recall': 0.7909090909090909,\n",
       "  'support': 660},\n",
       " 'Class11': {'f1-score': 0.608695652173913,\n",
       "  'precision': 0.5289982425307557,\n",
       "  'recall': 0.7166666666666667,\n",
       "  'support': 420},\n",
       " 'Class12': {'f1-score': 0.9763101220387653,\n",
       "  'precision': 0.9672830725462305,\n",
       "  'recall': 0.9855072463768116,\n",
       "  'support': 690},\n",
       " 'Class13': {'f1-score': 0.9804469273743016,\n",
       "  'precision': 0.9859550561797753,\n",
       "  'recall': 0.975,\n",
       "  'support': 720},\n",
       " 'Class14': {'f1-score': 0.9162210338680927,\n",
       "  'precision': 0.8831615120274914,\n",
       "  'recall': 0.9518518518518518,\n",
       "  'support': 270},\n",
       " 'Class15': {'f1-score': 0.9742388758782201,\n",
       "  'precision': 0.9585253456221198,\n",
       "  'recall': 0.9904761904761905,\n",
       "  'support': 210},\n",
       " 'Class16': {'f1-score': 0.8864468864468864,\n",
       "  'precision': 0.983739837398374,\n",
       "  'recall': 0.8066666666666666,\n",
       "  'support': 150},\n",
       " 'Class17': {'f1-score': 0.9283667621776505,\n",
       "  'precision': 0.9585798816568047,\n",
       "  'recall': 0.9,\n",
       "  'support': 360},\n",
       " 'Class18': {'f1-score': 0.6553846153846152,\n",
       "  'precision': 0.8192307692307692,\n",
       "  'recall': 0.5461538461538461,\n",
       "  'support': 390},\n",
       " 'Class19': {'f1-score': 0.3636363636363637,\n",
       "  'precision': 0.46153846153846156,\n",
       "  'recall': 0.3,\n",
       "  'support': 60},\n",
       " 'Class20': {'f1-score': 0.5443037974683543,\n",
       "  'precision': 0.6323529411764706,\n",
       "  'recall': 0.4777777777777778,\n",
       "  'support': 90},\n",
       " 'Class21': {'f1-score': 0.5913978494623656,\n",
       "  'precision': 0.5729166666666666,\n",
       "  'recall': 0.6111111111111112,\n",
       "  'support': 90},\n",
       " 'Class22': {'f1-score': 0.743119266055046,\n",
       "  'precision': 0.826530612244898,\n",
       "  'recall': 0.675,\n",
       "  'support': 120},\n",
       " 'Class23': {'f1-score': 0.33333333333333326,\n",
       "  'precision': 0.4270833333333333,\n",
       "  'recall': 0.2733333333333333,\n",
       "  'support': 150},\n",
       " 'Class24': {'f1-score': 0.5957446808510638,\n",
       "  'precision': 0.8235294117647058,\n",
       "  'recall': 0.4666666666666667,\n",
       "  'support': 90},\n",
       " 'Class25': {'f1-score': 0.5929203539823009,\n",
       "  'precision': 0.5153846153846153,\n",
       "  'recall': 0.6979166666666666,\n",
       "  'support': 480},\n",
       " 'Class26': {'f1-score': 0.5891089108910892,\n",
       "  'precision': 0.53125,\n",
       "  'recall': 0.6611111111111111,\n",
       "  'support': 180},\n",
       " 'Class27': {'f1-score': 0.5283018867924527,\n",
       "  'precision': 0.6086956521739131,\n",
       "  'recall': 0.4666666666666667,\n",
       "  'support': 60},\n",
       " 'Class28': {'f1-score': 0.42687747035573126,\n",
       "  'precision': 0.5242718446601942,\n",
       "  'recall': 0.36,\n",
       "  'support': 150},\n",
       " 'Class29': {'f1-score': 0.5033112582781457,\n",
       "  'precision': 0.6229508196721312,\n",
       "  'recall': 0.4222222222222222,\n",
       "  'support': 90},\n",
       " 'Class30': {'f1-score': 0.4306569343065693,\n",
       "  'precision': 0.47580645161290325,\n",
       "  'recall': 0.3933333333333333,\n",
       "  'support': 150},\n",
       " 'Class31': {'f1-score': 0.8049645390070922,\n",
       "  'precision': 0.7721088435374149,\n",
       "  'recall': 0.8407407407407408,\n",
       "  'support': 270},\n",
       " 'Class32': {'f1-score': 0.888888888888889,\n",
       "  'precision': 0.8,\n",
       "  'recall': 1.0,\n",
       "  'support': 60},\n",
       " 'Class33': {'f1-score': 0.7899543378995434,\n",
       "  'precision': 0.7587719298245614,\n",
       "  'recall': 0.8238095238095238,\n",
       "  'support': 210},\n",
       " 'Class34': {'f1-score': 0.7671232876712328,\n",
       "  'precision': 0.8484848484848485,\n",
       "  'recall': 0.7,\n",
       "  'support': 120},\n",
       " 'Class35': {'f1-score': 0.7472035794183445,\n",
       "  'precision': 0.6626984126984127,\n",
       "  'recall': 0.8564102564102564,\n",
       "  'support': 390},\n",
       " 'Class36': {'f1-score': 0.6130653266331657,\n",
       "  'precision': 0.7721518987341772,\n",
       "  'recall': 0.5083333333333333,\n",
       "  'support': 120},\n",
       " 'Class37': {'f1-score': 0.44303797468354433,\n",
       "  'precision': 0.35714285714285715,\n",
       "  'recall': 0.5833333333333334,\n",
       "  'support': 60},\n",
       " 'Class38': {'f1-score': 0.8861131520940485,\n",
       "  'precision': 0.8986587183308494,\n",
       "  'recall': 0.8739130434782608,\n",
       "  'support': 690},\n",
       " 'Class39': {'f1-score': 0.4640000000000001,\n",
       "  'precision': 0.8285714285714286,\n",
       "  'recall': 0.32222222222222224,\n",
       "  'support': 90},\n",
       " 'Class40': {'f1-score': 0.8098159509202454,\n",
       "  'precision': 0.9041095890410958,\n",
       "  'recall': 0.7333333333333333,\n",
       "  'support': 90},\n",
       " 'Class41': {'f1-score': 0.6862745098039216,\n",
       "  'precision': 0.8333333333333334,\n",
       "  'recall': 0.5833333333333334,\n",
       "  'support': 60},\n",
       " 'Class42': {'f1-score': 0.5,\n",
       "  'precision': 0.9117647058823529,\n",
       "  'recall': 0.34444444444444444,\n",
       "  'support': 90},\n",
       " 'accuracy': 0.731353919239905,\n",
       " 'macro avg': {'f1-score': 0.672844284973021,\n",
       "  'precision': 0.7236148611004759,\n",
       "  'recall': 0.654765364630127,\n",
       "  'support': 12630},\n",
       " 'weighted avg': {'f1-score': 0.7289225429865479,\n",
       "  'precision': 0.7506504074199916,\n",
       "  'recall': 0.731353919239905,\n",
       "  'support': 12630}}"
      ]
     },
     "execution_count": 67,
     "metadata": {
      "tags": []
     },
     "output_type": "execute_result"
    }
   ],
   "source": [
    "# Adam\n",
    "vgg_class"
   ]
  },
  {
   "cell_type": "code",
   "execution_count": null,
   "metadata": {
    "colab": {},
    "colab_type": "code",
    "id": "paC7a1XLEP7N"
   },
   "outputs": [],
   "source": []
  }
 ],
 "metadata": {
  "accelerator": "TPU",
  "colab": {
   "collapsed_sections": [],
   "name": "VGG16.ipynb",
   "provenance": []
  },
  "kernelspec": {
   "display_name": "Python 3",
   "language": "python",
   "name": "python3"
  },
  "language_info": {
   "codemirror_mode": {
    "name": "ipython",
    "version": 3
   },
   "file_extension": ".py",
   "mimetype": "text/x-python",
   "name": "python",
   "nbconvert_exporter": "python",
   "pygments_lexer": "ipython3",
   "version": "3.8.6"
  }
 },
 "nbformat": 4,
 "nbformat_minor": 4
}
